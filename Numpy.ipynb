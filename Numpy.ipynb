{
  "nbformat": 4,
  "nbformat_minor": 0,
  "metadata": {
    "kernelspec": {
      "display_name": "Python 3",
      "language": "python",
      "name": "python3"
    },
    "language_info": {
      "codemirror_mode": {
        "name": "ipython",
        "version": 3
      },
      "file_extension": ".py",
      "mimetype": "text/x-python",
      "name": "python",
      "nbconvert_exporter": "python",
      "pygments_lexer": "ipython3",
      "version": "3.7.3"
    },
    "colab": {
      "name": "Copy of Numpy.ipynb",
      "provenance": [],
      "include_colab_link": true
    }
  },
  "cells": [
    {
      "cell_type": "markdown",
      "metadata": {
        "id": "view-in-github",
        "colab_type": "text"
      },
      "source": [
        "<a href=\"https://colab.research.google.com/github/Abisola-ds/Python-Fundamentals/blob/master/Numpy.ipynb\" target=\"_parent\"><img src=\"https://colab.research.google.com/assets/colab-badge.svg\" alt=\"Open In Colab\"/></a>"
      ]
    },
    {
      "cell_type": "markdown",
      "metadata": {
        "id": "iJdVGk3CVb8B",
        "colab_type": "text"
      },
      "source": [
        "<h1 align = \"center\">NumPy Fundamentals</h1>"
      ]
    },
    {
      "cell_type": "markdown",
      "metadata": {
        "id": "NkaoXyoYVb8F",
        "colab_type": "text"
      },
      "source": [
        "![](https://bit.ly/2ZVLj7m)\n"
      ]
    },
    {
      "cell_type": "markdown",
      "metadata": {
        "id": "j8EQgHrXVb8H",
        "colab_type": "text"
      },
      "source": [
        "<div class=\"alert alert-info\">\n",
        "<b>\n",
        "<p>NumPy is a must learn python library for data science. NumPy which stands for <b>Numerical Python</b> is a perfect tool for scientific computing and performing basic and advanced array operations. It extends Python list objects into comprehensive multi-dimensional arrays. It is an open source project which you can freely use. Though, there are many contributors to this open source project, however it was created by Travis Oliphant in 2005.</p>\n",
        "<p>NumPy is open source so you can always check out their soucre code in their <a href = https://github.com/numpy/numpy>github repository</a><p>\n",
        "\n",
        "<h3>Why NumPy</h3>\n",
        "\n",
        "<p>NumPy is faster, more convenient, and uses less memory when compared to python list.\n",
        "<ul>\n",
        "    <li>NumPy is very similar to Python list but it is faster when compared to Python list. Numpy is 50X faster than the traditional Python list.</li>\n",
        "    <li>It is also convenient and uses less memory when compared to Python list</li>\n",
        "\n",
        "This is why it is one of the popular libraries in data science where resources and speed are very important. </p>\n",
        "\n",
        "<p>In this notebook, you will learn:</p>\n",
        "<p>    <ul>\n",
        "    <li>NumPy arrays</li>\n",
        "    <li>NumPy arrays vs Python list</li>\n",
        "    <li>Array dimensions</li>\n",
        "    <li>Array indexing</li>\n",
        "    <li>Array slicing</li>\n",
        "    <li>NumPy data types</li>\n",
        "    <li>Iterating over arrays</li>\n",
        "    <li>Joining arrays</li>\n",
        "    <li>Searching and sorting arrays </li>\n",
        "     <li>Filtering an array</li>\n",
        "     <li>NumPy random numbers</li>\n",
        "     <li>NumPy arange function</li>\n",
        "     <li>NumPy arithmetic operations</li>\n",
        "    <li>NumPy string operations</li>\n",
        "     </ul></p>\n",
        "\n",
        "</b>\n",
        "\n",
        "<h4>Prerequisite</h4>\n",
        "<p>You should have a basic understanding of Python or any of the programming languages.<br>If you are new to programming, you can check out my beginners-friendly interactive notobook on <a href = https://github.com/Abisola-ds/Python-Fundamentals> Python Fundamentals</a></p>\n",
        "<br><br>\n",
        "Time Required: <strong>4 Hours</strong>\n",
        "</div>\n"
      ]
    },
    {
      "cell_type": "markdown",
      "metadata": {
        "id": "Ux_jP3EZVb8J",
        "colab_type": "text"
      },
      "source": [
        "<h3>Getting started</h3>"
      ]
    },
    {
      "cell_type": "markdown",
      "metadata": {
        "id": "cfyUPxxEVb8L",
        "colab_type": "text"
      },
      "source": [
        "<div class=\"alert alert-info\">\n",
        "<p>\n",
        "The first thing you need to do is to install NumPy. However, if you are using a python distribution that already has NumPy installed(E.g Anaconda or Spyder), then you do not need to install NumPy. You can skip the installation step.</p>\n",
        "    <p>To install NumPy, you use any of the Python package manager as shown in the commands below:</p>\n",
        "    <b><p >pip install numpy<br>\n",
        "    conda install numpy</p></b>\n",
        "    <p>Once NumPy is installed, you import it in your applications by using the import keyword as shown below:</p>\n",
        "    <b><p>import numpy</P></b>\n",
        "    <p>To confirm if you have NumPy installed and to check the version, you can use the command: </p>\n",
        "    <b><p>print(np.__version__)</p></b>\n",
        " <p>Now, NumPy is ready for use. Let's try it out</p>\n",
        " </div>"
      ]
    },
    {
      "cell_type": "code",
      "metadata": {
        "id": "nW0hR8VqVb8N",
        "colab_type": "code",
        "colab": {},
        "outputId": "b3361b2f-cd4a-4fd1-d577-e967a9f64c7b"
      },
      "source": [
        "import numpy\n",
        "\n",
        "a = numpy.array([3,6,8,1,0,3,4])\n",
        "\n",
        "print(a)"
      ],
      "execution_count": null,
      "outputs": [
        {
          "output_type": "stream",
          "text": [
            "[3 6 8 1 0 3 4]\n"
          ],
          "name": "stdout"
        }
      ]
    },
    {
      "cell_type": "markdown",
      "metadata": {
        "id": "hqzEiUBkVb8b",
        "colab_type": "text"
      },
      "source": [
        "<div class=\"alert alert-info\">\n",
        "<p>\n",
        "    Often times, we see the convention:<br> <b>import numpy as np</b><br>\n",
        "This is because NumPy is usually imported under the <b>'np'</b> alias. In Python aliases are an alternate name for referring to the same thing. We use alias to save time and also to keep our codes standardized so that anyone working with your code can easily understand it. An alias can be created using the keyword <b>'as'</b> in the import statement.</p>"
      ]
    },
    {
      "cell_type": "code",
      "metadata": {
        "id": "JljBpOMWVb8d",
        "colab_type": "code",
        "colab": {},
        "outputId": "ec156a13-b19f-4143-f6d4-402548dc1cda"
      },
      "source": [
        "import numpy as np                        #Now the NumPy package can be referred to as 'np' instead of numpy.\n",
        "\n",
        "a = np.array([3,6,8,1,0,3,4])\n",
        "\n",
        "print(a)"
      ],
      "execution_count": null,
      "outputs": [
        {
          "output_type": "stream",
          "text": [
            "[3 6 8 1 0 3 4]\n"
          ],
          "name": "stdout"
        }
      ]
    },
    {
      "cell_type": "markdown",
      "metadata": {
        "id": "idcIiLFMVb8u",
        "colab_type": "text"
      },
      "source": [
        "<h3>NumPy arrays</h3>"
      ]
    },
    {
      "cell_type": "markdown",
      "metadata": {
        "id": "E4jLg4QOVb8v",
        "colab_type": "text"
      },
      "source": [
        "<div class=\"alert alert-info\">\n",
        "<p>\n",
        "NumPy is used to work with arrays. The array object in NumPy is called <b>ndarray</b>.\n",
        "An array is a central data structure of the NumPy library. An array is a grid of values and it contains information about the raw data, how to locate an element, and how to interpret an element. It has a grid of elements that can be indexed in various ways.</b></p>\n",
        "\n",
        "<p>We can create a NumPy ndarray object by using the <b>array()</b> function.</p>\n"
      ]
    },
    {
      "cell_type": "code",
      "metadata": {
        "id": "VSBOwqrpVb8x",
        "colab_type": "code",
        "colab": {},
        "outputId": "3043a894-710a-412b-a010-928420edfe89"
      },
      "source": [
        "a = np.array([1, 2, 3, 4, 5])\n",
        "\n",
        "print(a)\n",
        "\n",
        "print(type(a))"
      ],
      "execution_count": null,
      "outputs": [
        {
          "output_type": "stream",
          "text": [
            "[1 2 3 4 5]\n",
            "<class 'numpy.ndarray'>\n"
          ],
          "name": "stdout"
        }
      ]
    },
    {
      "cell_type": "markdown",
      "metadata": {
        "id": "xUoD5clYVb86",
        "colab_type": "text"
      },
      "source": [
        "<h3>Numpy array vs Python list</h3>"
      ]
    },
    {
      "cell_type": "markdown",
      "metadata": {
        "id": "8GdXaWc6Vb88",
        "colab_type": "text"
      },
      "source": [
        "<div class=\"alert alert-info\">\n",
        "<p>Like we said earlier that the NumPy array is much faster than the Python list. We also mentioned that NumPy consumes less memory than the Python list. We would demonstrate that in this section.</p>\n",
        "<p>We would be importing some packages(sys and time) to help prove this point</p>\n",
        "<p>Note: You don't have to understand the codes in this section. We just want to prove the point above. So, if you don't understand, do not worry as you will get understand them in the course of this notebook</p>\n",
        "</div>"
      ]
    },
    {
      "cell_type": "code",
      "metadata": {
        "id": "B6XLEqXrVb89",
        "colab_type": "code",
        "colab": {}
      },
      "source": [
        "import time\n",
        "import sys"
      ],
      "execution_count": null,
      "outputs": []
    },
    {
      "cell_type": "markdown",
      "metadata": {
        "id": "6nL-xmDDVb9F",
        "colab_type": "text"
      },
      "source": [
        "<h4>Memory Comparison</h4>"
      ]
    },
    {
      "cell_type": "code",
      "metadata": {
        "scrolled": true,
        "id": "zl7L2AnnVb9H",
        "colab_type": "code",
        "colab": {},
        "outputId": "4bf30e5b-7ea8-4d09-d0a7-48bdce79b43a"
      },
      "source": [
        "#Memory consumed by python list\n",
        "\n",
        "b = range(1000)\n",
        "print(sys.getsizeof(5)*len(b))"
      ],
      "execution_count": null,
      "outputs": [
        {
          "output_type": "stream",
          "text": [
            "28000\n"
          ],
          "name": "stdout"
        }
      ]
    },
    {
      "cell_type": "code",
      "metadata": {
        "id": "dv1xhP5QVb9R",
        "colab_type": "code",
        "colab": {},
        "outputId": "2177a42a-59c6-4052-dbe9-21bc40ce3773"
      },
      "source": [
        "#Memory consumed by Numpy array\n",
        "\n",
        "c = np.arange(1000)\n",
        "print(c.size*c.itemsize)"
      ],
      "execution_count": null,
      "outputs": [
        {
          "output_type": "stream",
          "text": [
            "4000\n"
          ],
          "name": "stdout"
        }
      ]
    },
    {
      "cell_type": "markdown",
      "metadata": {
        "id": "GpyUydseVb9a",
        "colab_type": "text"
      },
      "source": [
        "<h4>Time Comparison</h4>"
      ]
    },
    {
      "cell_type": "code",
      "metadata": {
        "id": "XwZK6XTkVb9c",
        "colab_type": "code",
        "colab": {}
      },
      "source": [
        "size = 100000\n",
        "L1 = range(size)\n",
        "L2 = range(size)\n",
        "A1 = np.arange(size)\n",
        "A2 = np.arange(size)\n",
        "\n",
        "\n",
        "#Where l1 and L2 are Python lists and A1 and A2 are Numpy Arrays"
      ],
      "execution_count": null,
      "outputs": []
    },
    {
      "cell_type": "code",
      "metadata": {
        "id": "OWE9RrNzVb9j",
        "colab_type": "code",
        "colab": {},
        "outputId": "4da6f53f-16c4-4f72-d3dd-e2788eddcaf9"
      },
      "source": [
        "#Python\n",
        "start = time.time()\n",
        "result = [(x+y) for x,y in zip(L1, L2)]\n",
        "print(f\"Python list took:\", (time.time() - start)*1000 , \"milliseconds\")"
      ],
      "execution_count": null,
      "outputs": [
        {
          "output_type": "stream",
          "text": [
            "Python list took: 335.9971046447754 milliseconds\n"
          ],
          "name": "stdout"
        }
      ]
    },
    {
      "cell_type": "code",
      "metadata": {
        "id": "HB8a-PYeVb9r",
        "colab_type": "code",
        "colab": {},
        "outputId": "6a238bd7-9a53-450e-b662-205ed2ec2864"
      },
      "source": [
        "#Numpy\n",
        "start = time.time()\n",
        "result = A1 + A2\n",
        "print(f\"Numpy list took:\", (time.time() - start)*1000, \"milliseconds\")"
      ],
      "execution_count": null,
      "outputs": [
        {
          "output_type": "stream",
          "text": [
            "Numpy list took: 70.8918571472168 milliseconds\n"
          ],
          "name": "stdout"
        }
      ]
    },
    {
      "cell_type": "markdown",
      "metadata": {
        "id": "tQmlOkMVVb91",
        "colab_type": "text"
      },
      "source": [
        "<h3>Array Dimensions</h3>"
      ]
    },
    {
      "cell_type": "markdown",
      "metadata": {
        "id": "UWw7UlaCVb92",
        "colab_type": "text"
      },
      "source": [
        "<div class=\"alert alert-info\">\n",
        "<p>Just like we can have nested lists in Python, we can also have nested array in Numpy. Nested array are arrays that have arrays as their elements. Dimensions in arrays is the level of array depth. An array can have any number of dimensions.</p>\n",
        "    <p>Let's look at some common dimensional arrays</p>\n",
        "     <ul>\n",
        "         <li><b>0-Dimensional Arrays:</b> 0-Dimensional arrays are also referred to as scalars. They are arrays with only a single element. E.g 57</li>\n",
        "         <li><b>1-Dimensional Arrays:</b> 1-Dimensional arrays are arrays that has 0-Dimensional arrays as its elements. These are the most basic and common type of arrays. E.g 1, 2, 3, 4, 5 </li>\n",
        "         <li><b>2-Dimensional Arrays:</b> 2-Dimensional arrays are arrays that has 1-Dimensional arrays as its elements. These type of arrays are often used to represent matrices. E.g 1, 2, 3 and 4,5,6</li>\n",
        "         <li><b>3-Dimensional Arrays:</b> 3-Dimensional arrays are arrays that has 2-Dimensional arrays as its elements. These are often used to represent a 3rd order tensor.</li>\n",
        "     </ul>\n",
        "    \n",
        "</div>"
      ]
    },
    {
      "cell_type": "code",
      "metadata": {
        "id": "xXuuohFvVb94",
        "colab_type": "code",
        "colab": {},
        "outputId": "ba2b138d-62f6-4393-eddd-fe1496a40bbf"
      },
      "source": [
        "#Creating a 0-Dimensional array with value 57\n",
        "\n",
        "a = np.array(57)\n",
        "\n",
        "print(a)"
      ],
      "execution_count": null,
      "outputs": [
        {
          "output_type": "stream",
          "text": [
            "57\n"
          ],
          "name": "stdout"
        }
      ]
    },
    {
      "cell_type": "code",
      "metadata": {
        "id": "85WvKc_aVb-A",
        "colab_type": "code",
        "colab": {},
        "outputId": "60772d33-4d18-4cc9-c36b-cd7d04266e5c"
      },
      "source": [
        "#Creating a 1-Dimensional array with values 1, 2, 3, 4, 5 \n",
        "\n",
        "a = np.array([1, 2, 3, 4, 5 ])\n",
        "\n",
        "print(a)"
      ],
      "execution_count": null,
      "outputs": [
        {
          "output_type": "stream",
          "text": [
            "[1 2 3 4 5]\n"
          ],
          "name": "stdout"
        }
      ]
    },
    {
      "cell_type": "code",
      "metadata": {
        "id": "z2L7ddc0Vb-J",
        "colab_type": "code",
        "colab": {},
        "outputId": "404f0ec8-b9aa-47f0-d299-4a26dbe5d33d"
      },
      "source": [
        "#Creating a 2-Dimensional array with values 1, 2, 3 and 4,5,6\n",
        "\n",
        "a = np.array([[1, 2, 3], [4,5,6]])\n",
        "\n",
        "print(a)"
      ],
      "execution_count": null,
      "outputs": [
        {
          "output_type": "stream",
          "text": [
            "[[1 2 3]\n",
            " [4 5 6]]\n"
          ],
          "name": "stdout"
        }
      ]
    },
    {
      "cell_type": "code",
      "metadata": {
        "id": "5PiOVNUxVb-R",
        "colab_type": "code",
        "colab": {},
        "outputId": "6b842df2-d8aa-4e3f-cdf9-16d50efee4cb"
      },
      "source": [
        "#Creating a 3-Dimensional array with values 1, 2, 3 and 4,5,6\n",
        "\n",
        "a = np.array([[[1, 2, 3], [4,5,6]], [[\"a\", \"b\", \"c\"], [\"d\",\"e\",\"f\"]]])\n",
        "\n",
        "print(a)"
      ],
      "execution_count": null,
      "outputs": [
        {
          "output_type": "stream",
          "text": [
            "[[['1' '2' '3']\n",
            "  ['4' '5' '6']]\n",
            "\n",
            " [['a' 'b' 'c']\n",
            "  ['d' 'e' 'f']]]\n"
          ],
          "name": "stdout"
        }
      ]
    },
    {
      "cell_type": "markdown",
      "metadata": {
        "id": "gFoZFxAKVb-c",
        "colab_type": "text"
      },
      "source": [
        "<div class=\"alert alert-info\">\n",
        "<p>You can go on and on like that creating any number of dimensions for the array.</p>\n",
        "    <p>To check the number of dimensions of your array, you can use the <b>ndim</b> attribute that returns an integer that tells you how many dimensions the array have.</p>\n",
        "    <p>NumPy arrays have an attribute called <b>shape</b> that returns a tuple where the number of elements in the tuple signifies the number of dimensions and each element signifies the number of elements in each dimension. Simply put, the shape of an array is the number of elements in each dimension. For example, if the shape attribute returns (2, 3), this means that the array has 2 dimensions, and each dimension has 3 elements. Also, if the shape attribute returns (2, 2, 3), this means that the array has 3 dimensions, where the outermost array and the next one has 2 elements, while the innermost array has 3 elements</p>\n",
        "  <p>When the array is created, you can specify the number of dimensions it should have using the <b>ndmin</b> argument.</p>\n",
        " </div>"
      ]
    },
    {
      "cell_type": "code",
      "metadata": {
        "id": "8-hWb_skVb-d",
        "colab_type": "code",
        "colab": {},
        "outputId": "76cd8878-e31a-483f-bf14-a8a929abbd8d"
      },
      "source": [
        "#Using the ndim to check the number of dimensions of an array\n",
        "arr_1 = np.array(57)\n",
        "arr_2 = np.array([1, 2, 3, 4, 5])\n",
        "arr_3= np.array([[1, 2, 3], [4, 5, 6]])\n",
        "arr_4 = np.array([[[1, 2, 3], [4, 5, 6]], [[\"a\", \"b\", \"c\"], [\"d\",\"e\",\"f\"]]])\n",
        "\n",
        "print(arr_1.ndim)\n",
        "print(arr_2.ndim)\n",
        "print(arr_3.ndim)\n",
        "print(arr_4.ndim)"
      ],
      "execution_count": null,
      "outputs": [
        {
          "output_type": "stream",
          "text": [
            "0\n",
            "1\n",
            "2\n",
            "3\n"
          ],
          "name": "stdout"
        }
      ]
    },
    {
      "cell_type": "code",
      "metadata": {
        "id": "jDVvpyXvVb-l",
        "colab_type": "code",
        "colab": {},
        "outputId": "bf9496fe-76e2-4efb-f87f-fc26edb12a27"
      },
      "source": [
        "#Using the ndmin to specify the number of dimensions of an array\n",
        "a = np.array([1, 2, 3, 4,5], ndmin=5)\n",
        "\n",
        "print(a)\n",
        "print('The number of dimensions is:', a.ndim)"
      ],
      "execution_count": null,
      "outputs": [
        {
          "output_type": "stream",
          "text": [
            "[[[[[1 2 3 4 5]]]]]\n",
            "The number of dimensions is: 5\n"
          ],
          "name": "stdout"
        }
      ]
    },
    {
      "cell_type": "markdown",
      "metadata": {
        "id": "nWU42g3wVb-v",
        "colab_type": "text"
      },
      "source": [
        "<div class=\"alert alert-danger\">\n",
        "Tip: One quick way to know the number of dimensions of an array is by counting the number of square brackets. \n",
        "The number of square brackets it has equates to the number of dimensions of the array. \n",
        "</div>"
      ]
    },
    {
      "cell_type": "code",
      "metadata": {
        "id": "9EmHGMb-Vb-w",
        "colab_type": "code",
        "colab": {},
        "outputId": "b0de17c7-e751-412b-d776-07042d7f468d"
      },
      "source": [
        "#Checking the shape of an array\n",
        "print(arr_1.shape)\n",
        "print(arr_2.shape)\n",
        "print(arr_3.shape)\n",
        "print(arr_4.shape)"
      ],
      "execution_count": null,
      "outputs": [
        {
          "output_type": "stream",
          "text": [
            "()\n",
            "(5,)\n",
            "(2, 3)\n",
            "(2, 2, 3)\n"
          ],
          "name": "stdout"
        }
      ]
    },
    {
      "cell_type": "markdown",
      "metadata": {
        "id": "im10DxGAVb-4",
        "colab_type": "text"
      },
      "source": [
        "<div class=\"alert alert-info\">\n",
        "There is a <b>reshape</b> attribute in NumPy to reshape an array. Reshaping means changing the shape of an array. The shape of an array is the number of elements in each dimension. By reshaping we can add or remove dimensions or change number of elements in each dimension.\n",
        "    \n",
        "<p>Note: When using the reshape attribute, ensure the new shape you are specifying is achievable given the number of elements in the array. If not, you will get an error</p>\n"
      ]
    },
    {
      "cell_type": "code",
      "metadata": {
        "id": "MKzRviWUVb-6",
        "colab_type": "code",
        "colab": {},
        "outputId": "2a6e1b31-ece4-4fb3-95a2-8dabdfbd0ebb"
      },
      "source": [
        "a = np.array([1, 2, 3, 4, 5, 6, 7, 8, 9, 10,11,12])\n",
        "print(a.shape)\n"
      ],
      "execution_count": null,
      "outputs": [
        {
          "output_type": "stream",
          "text": [
            "(12,)\n"
          ],
          "name": "stdout"
        }
      ]
    },
    {
      "cell_type": "code",
      "metadata": {
        "id": "gyk1OozfVb_B",
        "colab_type": "code",
        "colab": {},
        "outputId": "7ff4f51c-584d-46db-e81c-4f1a12a56124"
      },
      "source": [
        "#Reshaping from 1-D to 2-D\n",
        "\n",
        "new_arr = a.reshape(4, 3)\n",
        "print(new_arr.shape)\n",
        "print(new_arr)"
      ],
      "execution_count": null,
      "outputs": [
        {
          "output_type": "stream",
          "text": [
            "(4, 3)\n",
            "[[ 1  2  3]\n",
            " [ 4  5  6]\n",
            " [ 7  8  9]\n",
            " [10 11 12]]\n"
          ],
          "name": "stdout"
        }
      ]
    },
    {
      "cell_type": "code",
      "metadata": {
        "id": "Y_ZVSBA0Vb_J",
        "colab_type": "code",
        "colab": {},
        "outputId": "16979192-8107-4865-9404-1dd65a23a43d"
      },
      "source": [
        "#Reshaping from 1-D to 3-D\n",
        "\n",
        "new_arr = a.reshape(2, 3,2)\n",
        "print(new_arr.shape)\n",
        "print(new_arr)"
      ],
      "execution_count": null,
      "outputs": [
        {
          "output_type": "stream",
          "text": [
            "(2, 3, 2)\n",
            "[[[ 1  2]\n",
            "  [ 3  4]\n",
            "  [ 5  6]]\n",
            "\n",
            " [[ 7  8]\n",
            "  [ 9 10]\n",
            "  [11 12]]]\n"
          ],
          "name": "stdout"
        }
      ]
    },
    {
      "cell_type": "code",
      "metadata": {
        "id": "O8lKclNTVb_Q",
        "colab_type": "code",
        "colab": {},
        "outputId": "eb592ade-1a83-4bc2-dcc6-4cece5ebace7"
      },
      "source": [
        "a = np.array([[1, 2, 3, 4, 5, 6],[7, 8, 9, 10,11,12]])\n",
        "print(a.shape)"
      ],
      "execution_count": null,
      "outputs": [
        {
          "output_type": "stream",
          "text": [
            "(2, 6)\n"
          ],
          "name": "stdout"
        }
      ]
    },
    {
      "cell_type": "code",
      "metadata": {
        "id": "yQHS0KSWVb_Y",
        "colab_type": "code",
        "colab": {},
        "outputId": "e032330d-40f9-413b-a042-bb6a2a3c6a31"
      },
      "source": [
        "#Reshaping from 2-D to 3-D\n",
        "\n",
        "new_arr = a.reshape(2, 3,2)\n",
        "print(new_arr.shape)\n",
        "print(new_arr)"
      ],
      "execution_count": null,
      "outputs": [
        {
          "output_type": "stream",
          "text": [
            "(2, 3, 2)\n",
            "[[[ 1  2]\n",
            "  [ 3  4]\n",
            "  [ 5  6]]\n",
            "\n",
            " [[ 7  8]\n",
            "  [ 9 10]\n",
            "  [11 12]]]\n"
          ],
          "name": "stdout"
        }
      ]
    },
    {
      "cell_type": "markdown",
      "metadata": {
        "id": "53-JKR59Vb_f",
        "colab_type": "text"
      },
      "source": [
        "<div class=\"alert alert-info\">\n",
        "    Converting a multi-dimensional array to a 1-dimensional array is known as <b>flatening an array.</b> We can use reshape(-1) to do this.\n",
        "   </div>"
      ]
    },
    {
      "cell_type": "code",
      "metadata": {
        "id": "oV8iQchiVb_h",
        "colab_type": "code",
        "colab": {},
        "outputId": "df92302a-7876-4993-e123-808723eabafc"
      },
      "source": [
        "#Flattening an array using the faltten() function\n",
        "a = np.array([[[1, 2, 3], [4, 5, 6]], [[7, 8, 9], [10, 11, 12]]])\n",
        "print(a.shape)"
      ],
      "execution_count": null,
      "outputs": [
        {
          "output_type": "stream",
          "text": [
            "(2, 2, 3)\n"
          ],
          "name": "stdout"
        }
      ]
    },
    {
      "cell_type": "code",
      "metadata": {
        "id": "vZvcsWleVb_6",
        "colab_type": "code",
        "colab": {},
        "outputId": "eb75cf39-8f12-4f3d-af6a-954810dc9faa"
      },
      "source": [
        "new_arr = a.flatten()\n",
        "print(new_arr.shape)\n",
        "print(new_arr)"
      ],
      "execution_count": null,
      "outputs": [
        {
          "output_type": "stream",
          "text": [
            "(12,)\n",
            "[ 1  2  3  4  5  6  7  8  9 10 11 12]\n"
          ],
          "name": "stdout"
        }
      ]
    },
    {
      "cell_type": "code",
      "metadata": {
        "id": "f-88s4MPVcAF",
        "colab_type": "code",
        "colab": {},
        "outputId": "f8385687-8421-4a64-95fa-a24262f4c81b"
      },
      "source": [
        "#Flattening an array using reshape(-1)\n",
        "\n",
        "a = np.array([[[1, 2, 3], [4, 5, 6]], [[7, 8, 9], [10, 11, 12]]])\n",
        "print(a.shape)"
      ],
      "execution_count": null,
      "outputs": [
        {
          "output_type": "stream",
          "text": [
            "(2, 2, 3)\n"
          ],
          "name": "stdout"
        }
      ]
    },
    {
      "cell_type": "code",
      "metadata": {
        "id": "hNhzrMKyVcAM",
        "colab_type": "code",
        "colab": {}
      },
      "source": [
        "new_arr = a.reshape(-1)\n",
        "print(new_arr.shape)\n",
        "print(new_arr)"
      ],
      "execution_count": null,
      "outputs": []
    },
    {
      "cell_type": "markdown",
      "metadata": {
        "id": "WCfQfA-MVcAS",
        "colab_type": "text"
      },
      "source": [
        "<div class=\"alert alert-info\">There is also a <b>resize()</b> function in Numpy that function almost like the reshape() function except that the resize() function will not generate and error if the shape specified is not achievable with the number of elements</div>"
      ]
    },
    {
      "cell_type": "code",
      "metadata": {
        "collapsed": true,
        "id": "bYT2mWl6VcAT",
        "colab_type": "code",
        "colab": {},
        "outputId": "ced48eb5-43ca-4ab8-e852-f00242a9dcea"
      },
      "source": [
        "#Expect an error\n",
        "\n",
        "a = np.array([1, 2, 3, 4, 5, 6, 7, 8, 9, 10,11,12])\n",
        "np.reshape(a, [3,5])"
      ],
      "execution_count": null,
      "outputs": [
        {
          "output_type": "error",
          "ename": "ValueError",
          "evalue": "cannot reshape array of size 12 into shape (3,5)",
          "traceback": [
            "\u001b[1;31m---------------------------------------------------------------------------\u001b[0m",
            "\u001b[1;31mValueError\u001b[0m                                Traceback (most recent call last)",
            "\u001b[1;32m<ipython-input-67-78d24fdf4e4f>\u001b[0m in \u001b[0;36m<module>\u001b[1;34m\u001b[0m\n\u001b[0;32m      1\u001b[0m \u001b[0ma\u001b[0m \u001b[1;33m=\u001b[0m \u001b[0mnp\u001b[0m\u001b[1;33m.\u001b[0m\u001b[0marray\u001b[0m\u001b[1;33m(\u001b[0m\u001b[1;33m[\u001b[0m\u001b[1;36m1\u001b[0m\u001b[1;33m,\u001b[0m \u001b[1;36m2\u001b[0m\u001b[1;33m,\u001b[0m \u001b[1;36m3\u001b[0m\u001b[1;33m,\u001b[0m \u001b[1;36m4\u001b[0m\u001b[1;33m,\u001b[0m \u001b[1;36m5\u001b[0m\u001b[1;33m,\u001b[0m \u001b[1;36m6\u001b[0m\u001b[1;33m,\u001b[0m \u001b[1;36m7\u001b[0m\u001b[1;33m,\u001b[0m \u001b[1;36m8\u001b[0m\u001b[1;33m,\u001b[0m \u001b[1;36m9\u001b[0m\u001b[1;33m,\u001b[0m \u001b[1;36m10\u001b[0m\u001b[1;33m,\u001b[0m\u001b[1;36m11\u001b[0m\u001b[1;33m,\u001b[0m\u001b[1;36m12\u001b[0m\u001b[1;33m]\u001b[0m\u001b[1;33m)\u001b[0m\u001b[1;33m\u001b[0m\u001b[1;33m\u001b[0m\u001b[0m\n\u001b[1;32m----> 2\u001b[1;33m \u001b[0mnp\u001b[0m\u001b[1;33m.\u001b[0m\u001b[0mreshape\u001b[0m\u001b[1;33m(\u001b[0m\u001b[0ma\u001b[0m\u001b[1;33m,\u001b[0m \u001b[1;33m[\u001b[0m\u001b[1;36m3\u001b[0m\u001b[1;33m,\u001b[0m\u001b[1;36m5\u001b[0m\u001b[1;33m]\u001b[0m\u001b[1;33m)\u001b[0m\u001b[1;33m\u001b[0m\u001b[1;33m\u001b[0m\u001b[0m\n\u001b[0m",
            "\u001b[1;32m~\\Anaconda3\\lib\\site-packages\\numpy\\core\\fromnumeric.py\u001b[0m in \u001b[0;36mreshape\u001b[1;34m(a, newshape, order)\u001b[0m\n\u001b[0;32m    290\u001b[0m            [5, 6]])\n\u001b[0;32m    291\u001b[0m     \"\"\"\n\u001b[1;32m--> 292\u001b[1;33m     \u001b[1;32mreturn\u001b[0m \u001b[0m_wrapfunc\u001b[0m\u001b[1;33m(\u001b[0m\u001b[0ma\u001b[0m\u001b[1;33m,\u001b[0m \u001b[1;34m'reshape'\u001b[0m\u001b[1;33m,\u001b[0m \u001b[0mnewshape\u001b[0m\u001b[1;33m,\u001b[0m \u001b[0morder\u001b[0m\u001b[1;33m=\u001b[0m\u001b[0morder\u001b[0m\u001b[1;33m)\u001b[0m\u001b[1;33m\u001b[0m\u001b[1;33m\u001b[0m\u001b[0m\n\u001b[0m\u001b[0;32m    293\u001b[0m \u001b[1;33m\u001b[0m\u001b[0m\n\u001b[0;32m    294\u001b[0m \u001b[1;33m\u001b[0m\u001b[0m\n",
            "\u001b[1;32m~\\Anaconda3\\lib\\site-packages\\numpy\\core\\fromnumeric.py\u001b[0m in \u001b[0;36m_wrapfunc\u001b[1;34m(obj, method, *args, **kwds)\u001b[0m\n\u001b[0;32m     54\u001b[0m \u001b[1;32mdef\u001b[0m \u001b[0m_wrapfunc\u001b[0m\u001b[1;33m(\u001b[0m\u001b[0mobj\u001b[0m\u001b[1;33m,\u001b[0m \u001b[0mmethod\u001b[0m\u001b[1;33m,\u001b[0m \u001b[1;33m*\u001b[0m\u001b[0margs\u001b[0m\u001b[1;33m,\u001b[0m \u001b[1;33m**\u001b[0m\u001b[0mkwds\u001b[0m\u001b[1;33m)\u001b[0m\u001b[1;33m:\u001b[0m\u001b[1;33m\u001b[0m\u001b[1;33m\u001b[0m\u001b[0m\n\u001b[0;32m     55\u001b[0m     \u001b[1;32mtry\u001b[0m\u001b[1;33m:\u001b[0m\u001b[1;33m\u001b[0m\u001b[1;33m\u001b[0m\u001b[0m\n\u001b[1;32m---> 56\u001b[1;33m         \u001b[1;32mreturn\u001b[0m \u001b[0mgetattr\u001b[0m\u001b[1;33m(\u001b[0m\u001b[0mobj\u001b[0m\u001b[1;33m,\u001b[0m \u001b[0mmethod\u001b[0m\u001b[1;33m)\u001b[0m\u001b[1;33m(\u001b[0m\u001b[1;33m*\u001b[0m\u001b[0margs\u001b[0m\u001b[1;33m,\u001b[0m \u001b[1;33m**\u001b[0m\u001b[0mkwds\u001b[0m\u001b[1;33m)\u001b[0m\u001b[1;33m\u001b[0m\u001b[1;33m\u001b[0m\u001b[0m\n\u001b[0m\u001b[0;32m     57\u001b[0m \u001b[1;33m\u001b[0m\u001b[0m\n\u001b[0;32m     58\u001b[0m     \u001b[1;31m# An AttributeError occurs if the object does not have\u001b[0m\u001b[1;33m\u001b[0m\u001b[1;33m\u001b[0m\u001b[1;33m\u001b[0m\u001b[0m\n",
            "\u001b[1;31mValueError\u001b[0m: cannot reshape array of size 12 into shape (3,5)"
          ]
        }
      ]
    },
    {
      "cell_type": "code",
      "metadata": {
        "id": "EaYNpjcrVcAb",
        "colab_type": "code",
        "colab": {},
        "outputId": "201942a3-1ca2-4dc3-c01b-1881725fb846"
      },
      "source": [
        "#Now, lets chane reshape to resize\n",
        "a = np.array([1, 2, 3, 4, 5, 6, 7, 8, 9, 10,11,12])\n",
        "np.resize(a, [3,5])"
      ],
      "execution_count": null,
      "outputs": [
        {
          "output_type": "execute_result",
          "data": {
            "text/plain": [
              "array([[ 1,  2,  3,  4,  5],\n",
              "       [ 6,  7,  8,  9, 10],\n",
              "       [11, 12,  1,  2,  3]])"
            ]
          },
          "metadata": {
            "tags": []
          },
          "execution_count": 69
        }
      ]
    },
    {
      "cell_type": "markdown",
      "metadata": {
        "id": "0yyywHQtVcAj",
        "colab_type": "text"
      },
      "source": [
        "<h3>Array Indexing</h3>"
      ]
    },
    {
      "cell_type": "markdown",
      "metadata": {
        "id": "BeH9PKQSVcAk",
        "colab_type": "text"
      },
      "source": [
        "<div class=\"alert alert-info\">\n",
        "Just like we use list indexing to access elements in a list, we also have array indexing. You can access an array element by referring to its index number. Indexing in NumPy arrays start with 0, meaning that the first element has index 0, and the second has index 1.\n",
        "</div>"
      ]
    },
    {
      "cell_type": "code",
      "metadata": {
        "id": "dh4X0pHvVcAl",
        "colab_type": "code",
        "colab": {},
        "outputId": "707cd666-b05c-4770-f76f-cefce3f20818"
      },
      "source": [
        "a = np.array([1, 2, 3, 4,5])\n",
        "\n",
        "print(a[0])\n",
        "print(a[1])\n",
        "print(a[-1]- a[0])"
      ],
      "execution_count": null,
      "outputs": [
        {
          "output_type": "stream",
          "text": [
            "1\n",
            "2\n",
            "4\n"
          ],
          "name": "stdout"
        }
      ]
    },
    {
      "cell_type": "markdown",
      "metadata": {
        "id": "L96C0PsfVcAs",
        "colab_type": "text"
      },
      "source": [
        "<div class=\"alert alert-info\">\n",
        "This method is for accessing 1-dimensional arrays. To access a 2 or 3 dimensional array, you can use comma separated integers representing the dimension and the index of the element. Check the examples below to understand better\n",
        "</div>"
      ]
    },
    {
      "cell_type": "code",
      "metadata": {
        "id": "ScaIWyerVcAt",
        "colab_type": "code",
        "colab": {},
        "outputId": "57c618c5-7355-4a10-c9ef-b4b67e0d25ce"
      },
      "source": [
        "#Accessing a 2-dimensional array\n",
        "a = np.array([[1, 2, 3], [4,5,6]])\n",
        "print(a)\n",
        "\n",
        "print('3rd element on the 2nd dimension: ', a[1, 2])\n",
        "print('2nd element on the 1st dimension: ', a[0, 1])\n",
        "print('1st element on the 2nd dimension: ', a[1, 0])"
      ],
      "execution_count": null,
      "outputs": [
        {
          "output_type": "stream",
          "text": [
            "[[1 2 3]\n",
            " [4 5 6]]\n",
            "3rd element on the 2nd dimension:  6\n",
            "2nd element on the 1st dimension:  2\n",
            "1st element on the 2nd dimension:  4\n"
          ],
          "name": "stdout"
        }
      ]
    },
    {
      "cell_type": "code",
      "metadata": {
        "id": "aanTGB_oVcA0",
        "colab_type": "code",
        "colab": {},
        "outputId": "ca7426b5-bc1b-41be-fcee-11482b1e0cff"
      },
      "source": [
        "#Accessing a 3-dimensional array\n",
        "a = np.array([[[1, 2, 3], [4,5,6]], [[\"a\", \"b\", \"c\"], [\"d\",\"e\",\"f\"]]])\n",
        "\n",
        "\n",
        "print(a[1,1,1])"
      ],
      "execution_count": null,
      "outputs": [
        {
          "output_type": "stream",
          "text": [
            "e\n"
          ],
          "name": "stdout"
        }
      ]
    },
    {
      "cell_type": "markdown",
      "metadata": {
        "id": "YZTR6lcNVcA7",
        "colab_type": "text"
      },
      "source": [
        "<div class=\"alert alert-info\">\n",
        "<p>print(a[1,1,1]) above retuned e. This is because we are indexing a[1,1,1]. see explantion below: </p>\n",
        "\n",
        "<p>The first number represents the first dimension, which contains two elements:\n",
        "[[1, 2, 3], [4,5,6]]\n",
        "and:\n",
        "[[\"a\", \"b\", \"c\"], [\"d\",\"e\",\"f\"]]\n",
        ". Since we selected 1, it means we are referencing the second element. i.e [[1, 2, 3], [4, 5, 6]]\n",
        "</p><p>\n",
        "The second number represents the second dimension, which also contains two elements:\n",
        "[\"a\", \"b\", \"c\"]\n",
        "and:\n",
        "[\"d\",\"e\",\"f\"]\n",
        ". Since we selected 1, it means we are referencing the second element of this second array. i.e [\"d\",\"e\",\"f\"]\n",
        "</p><p>\n",
        "The third number represents the third dimension, which contains three elements: d,e,f. Since we selected 1, it means we are referencing the second element. i.e 'e'</p>\n"
      ]
    },
    {
      "cell_type": "markdown",
      "metadata": {
        "id": "xLyXtFe9VcA9",
        "colab_type": "text"
      },
      "source": [
        "<h3>Array slicing<h3>"
      ]
    },
    {
      "cell_type": "markdown",
      "metadata": {
        "id": "QZHsEu-tVcA-",
        "colab_type": "text"
      },
      "source": [
        "<div class=\"alert alert-info\">\n",
        "We can also have slicing in NumPy arrays. We can refrence elements using slicing uisng the format below:<br>\n",
        "\n",
        "We pass slice instead of index like this: <b>arr[start:end].</b>\n",
        "<br>\n",
        "We can also define the step, like this: <b>arr[start:end:step].</b>\n",
        "<br>\n",
        "If you don't specify the start index it defaults to 0. Likewise, if you don't specify the end index, it defaults to the length of the array.\n",
        "\n",
        "<p>Note: The result includes the start index, but excludes the end index.</p>\n",
        "</div>"
      ]
    },
    {
      "cell_type": "markdown",
      "metadata": {
        "id": "7V32EprvVcA_",
        "colab_type": "text"
      },
      "source": [
        "<h4>Slicing 1-D arrays</h4>\n"
      ]
    },
    {
      "cell_type": "code",
      "metadata": {
        "id": "57tJyNZ3VcBA",
        "colab_type": "code",
        "colab": {},
        "outputId": "c3cf1bab-2602-4210-b55e-b30ba7be0cb4"
      },
      "source": [
        "a = np.array([1, 2, 3, 4,5,6,7,8])\n",
        "\n",
        "print(a[1:3])\n",
        "print(a[1:])\n"
      ],
      "execution_count": null,
      "outputs": [
        {
          "output_type": "stream",
          "text": [
            "[2 3]\n",
            "[2 3 4 5 6 7 8]\n"
          ],
          "name": "stdout"
        }
      ]
    },
    {
      "cell_type": "code",
      "metadata": {
        "id": "VjEa69iKVcBH",
        "colab_type": "code",
        "colab": {},
        "outputId": "95cd2f49-87d1-408a-aeb5-7374c75986fb"
      },
      "source": [
        "print(a[:3])\n",
        "print(a[0:5:2])\n",
        "print(a[::2])"
      ],
      "execution_count": null,
      "outputs": [
        {
          "output_type": "stream",
          "text": [
            "[1 2 3]\n",
            "[1 3 5]\n",
            "[1 3 5 7]\n"
          ],
          "name": "stdout"
        }
      ]
    },
    {
      "cell_type": "code",
      "metadata": {
        "id": "Lbc9QbDUVcBN",
        "colab_type": "code",
        "colab": {}
      },
      "source": [
        "<h4>Slicing 2-D arrays</h4>"
      ],
      "execution_count": null,
      "outputs": []
    },
    {
      "cell_type": "code",
      "metadata": {
        "id": "xaM2yGmyVcBU",
        "colab_type": "code",
        "colab": {},
        "outputId": "ea06f0ad-0ece-41ff-941b-1da96f7787e3"
      },
      "source": [
        "a = np.array([[1, 2, 3], [4,5,6]])\n",
        "\n",
        "print(a[1, :])\n"
      ],
      "execution_count": null,
      "outputs": [
        {
          "output_type": "stream",
          "text": [
            "[4 5 6]\n"
          ],
          "name": "stdout"
        }
      ]
    },
    {
      "cell_type": "code",
      "metadata": {
        "id": "ZIqKnEy3VcBd",
        "colab_type": "code",
        "colab": {},
        "outputId": "693ead90-b7d0-4bc5-8154-33aa5772eb34"
      },
      "source": [
        "print(a[0, :2])              #for the first element, return index 0 to 2(excludes index 2)\n"
      ],
      "execution_count": null,
      "outputs": [
        {
          "output_type": "stream",
          "text": [
            "[1 2]\n"
          ],
          "name": "stdout"
        }
      ]
    },
    {
      "cell_type": "code",
      "metadata": {
        "id": "oZhRpfuJVcBl",
        "colab_type": "code",
        "colab": {},
        "outputId": "138c19fc-1b17-4ba4-cc70-ba8cd4d1dd07"
      },
      "source": [
        "print(a[:, 2])              #for both element, return index 2"
      ],
      "execution_count": null,
      "outputs": [
        {
          "output_type": "stream",
          "text": [
            "[3 6]\n"
          ],
          "name": "stdout"
        }
      ]
    },
    {
      "cell_type": "code",
      "metadata": {
        "id": "3yAhSG6eVcBu",
        "colab_type": "code",
        "colab": {},
        "outputId": "9f963fe5-632e-464d-b118-4f0f1bcf5b9e"
      },
      "source": [
        "print(\"For both elememts, this is index 0 to 2\")\n",
        "print(a[0:2, 0:2])"
      ],
      "execution_count": null,
      "outputs": [
        {
          "output_type": "stream",
          "text": [
            "For both elememts, this is index 0 to 2\n",
            "[[1 2]\n",
            " [4 5]]\n"
          ],
          "name": "stdout"
        }
      ]
    },
    {
      "cell_type": "markdown",
      "metadata": {
        "id": "bl4yy3zNVcB4",
        "colab_type": "text"
      },
      "source": [
        "<h4>Slicing 3-D arrays</h4>"
      ]
    },
    {
      "cell_type": "code",
      "metadata": {
        "id": "pPQrUdawVcB5",
        "colab_type": "code",
        "colab": {},
        "outputId": "c55204f0-79c8-4fa7-eaad-ceecd820c427"
      },
      "source": [
        "a = np.array([[[1, 2, 3], [4,5,6]], [[\"a\", \"b\", \"c\"], [\"d\",\"e\",\"f\"]]])\n",
        "\n",
        "print(a[1, 1, :])"
      ],
      "execution_count": null,
      "outputs": [
        {
          "output_type": "stream",
          "text": [
            "['d' 'e' 'f']\n"
          ],
          "name": "stdout"
        }
      ]
    },
    {
      "cell_type": "code",
      "metadata": {
        "id": "2DlELxoMVcCI",
        "colab_type": "code",
        "colab": {},
        "outputId": "8850214c-6f58-4269-d3d9-55bd6d71dcf3"
      },
      "source": [
        "print(a[1, :, :2])"
      ],
      "execution_count": null,
      "outputs": [
        {
          "output_type": "stream",
          "text": [
            "[['a' 'b']\n",
            " ['d' 'e']]\n"
          ],
          "name": "stdout"
        }
      ]
    },
    {
      "cell_type": "code",
      "metadata": {
        "id": "b79qKghoVcCS",
        "colab_type": "code",
        "colab": {},
        "outputId": "63ef9edb-3bad-4cc6-b152-ea0bb9c1f13e"
      },
      "source": [
        "print(a[:, :, 1:])"
      ],
      "execution_count": null,
      "outputs": [
        {
          "output_type": "stream",
          "text": [
            "[[['2' '3']\n",
            "  ['5' '6']]\n",
            "\n",
            " [['b' 'c']\n",
            "  ['e' 'f']]]\n"
          ],
          "name": "stdout"
        }
      ]
    },
    {
      "cell_type": "markdown",
      "metadata": {
        "id": "2xf7wakVVcCc",
        "colab_type": "text"
      },
      "source": [
        "<h3>NumPy Data types</h3>"
      ]
    },
    {
      "cell_type": "markdown",
      "metadata": {
        "id": "XQKNlSBYVcCe",
        "colab_type": "text"
      },
      "source": [
        "<div class=\"alert alert-info\">\n",
        "        <p>Numpy has some additional data types beyond the conventional Python data type. Below is a list of all data types in NumPy and the characters used to represent them.</p><br>\n",
        "\n",
        "<li>i - integer</li>\n",
        "<li>b - boolean</li>\n",
        "<li>u - unsigned integer</li>\n",
        "<li>f - float</li>\n",
        "<li>c - complex float</li>\n",
        "<li>m - timedelta</li>\n",
        "<li>M - datetime</li>\n",
        "<li>O - object</li>\n",
        "<li>S - string</li>\n",
        "<li>U - unicode string</li>\n",
        "<li>V - fixed chunk of memory for other type ( void )</li>\n",
        "\n",
        "<p>To check the data type of an array, you use the <b>dtype</b> attribute.</p>\n"
      ]
    },
    {
      "cell_type": "code",
      "metadata": {
        "id": "oAR3TZFFVcCf",
        "colab_type": "code",
        "colab": {},
        "outputId": "bb472b54-7cbf-4ecf-de01-188cb6b0c3f5"
      },
      "source": [
        "a = np.array([1, 2, 3, 4,5])\n",
        "\n",
        "print(a.dtype)"
      ],
      "execution_count": null,
      "outputs": [
        {
          "output_type": "stream",
          "text": [
            "int32\n"
          ],
          "name": "stdout"
        }
      ]
    },
    {
      "cell_type": "code",
      "metadata": {
        "id": "MQHZnv18VcCn",
        "colab_type": "code",
        "colab": {},
        "outputId": "01031843-5042-476b-abba-e76ff360a32b"
      },
      "source": [
        "a = np.array(['a', 'b', 'c'])\n",
        "\n",
        "print(a.dtype)\n"
      ],
      "execution_count": null,
      "outputs": [
        {
          "output_type": "stream",
          "text": [
            "<U1\n"
          ],
          "name": "stdout"
        }
      ]
    },
    {
      "cell_type": "code",
      "metadata": {
        "id": "bH4141FjVcCv",
        "colab_type": "code",
        "colab": {},
        "outputId": "48d6dbd8-ffd1-4e1a-ccbc-69b03bc884f4"
      },
      "source": [
        "a = np.array(['presh', 'praise', 'mj'])\n",
        "\n",
        "print(a.dtype)\n"
      ],
      "execution_count": null,
      "outputs": [
        {
          "output_type": "stream",
          "text": [
            "<U6\n"
          ],
          "name": "stdout"
        }
      ]
    },
    {
      "cell_type": "markdown",
      "metadata": {
        "id": "xGv9r3k5VcC2",
        "colab_type": "text"
      },
      "source": [
        "<div class=\"alert alert-info\">\n",
        "    You can also use the <b>dtype</b> argument to specify the data type of the array elements\n",
        "</div>"
      ]
    },
    {
      "cell_type": "code",
      "metadata": {
        "id": "5De5tZoIVcC3",
        "colab_type": "code",
        "colab": {},
        "outputId": "fb20f3df-0537-4c2e-813c-7ea97bec44e6"
      },
      "source": [
        "a = np.array([1, 2, 3, 4,5], dtype='S')\n",
        "\n",
        "print(a)\n",
        "print(a.dtype)"
      ],
      "execution_count": null,
      "outputs": [
        {
          "output_type": "stream",
          "text": [
            "[b'1' b'2' b'3' b'4' b'5']\n",
            "|S1\n"
          ],
          "name": "stdout"
        }
      ]
    },
    {
      "cell_type": "code",
      "metadata": {
        "id": "3EHBmGfMVcDC",
        "colab_type": "code",
        "colab": {},
        "outputId": "5a6b91f1-9254-4b37-f444-b28e38f6506e"
      },
      "source": [
        "a = np.array([[1,2],[3,4],[4,5],[5,6]], dtype = np.float64)\n",
        "print(a)\n",
        "print(a.dtype)"
      ],
      "execution_count": null,
      "outputs": [
        {
          "output_type": "stream",
          "text": [
            "[[1. 2.]\n",
            " [3. 4.]\n",
            " [4. 5.]\n",
            " [5. 6.]]\n",
            "float64\n"
          ],
          "name": "stdout"
        }
      ]
    },
    {
      "cell_type": "code",
      "metadata": {
        "id": "EvMob78RVcDK",
        "colab_type": "code",
        "colab": {},
        "outputId": "7ec5f8b9-9d5e-4ecf-b878-bf77a2bc7be4"
      },
      "source": [
        "a = np.array([[1,2],[3,4],[4,5],[5,6]], dtype = np.complex)\n",
        "print(a)\n",
        "print(a.dtype)"
      ],
      "execution_count": null,
      "outputs": [
        {
          "output_type": "stream",
          "text": [
            "[[1.+0.j 2.+0.j]\n",
            " [3.+0.j 4.+0.j]\n",
            " [4.+0.j 5.+0.j]\n",
            " [5.+0.j 6.+0.j]]\n",
            "complex128\n"
          ],
          "name": "stdout"
        }
      ]
    },
    {
      "cell_type": "markdown",
      "metadata": {
        "id": "6zRmax5GVcDX",
        "colab_type": "text"
      },
      "source": [
        "<h3>Iterating over an array</h3>"
      ]
    },
    {
      "cell_type": "markdown",
      "metadata": {
        "id": "keL60Bj1VcDY",
        "colab_type": "text"
      },
      "source": [
        "<div class=\"alert alert-info\">\n",
        "    <p>Iterating over an array can be done using the basic <b>for</b> loop in Python. However, in basic for loops, iterating through each scalar of an array would require you to use <b>n for loops</b> which can be difficult to write for arrays with very high dimensionality.</p>\n",
        "\n",
        "<p>The <b>nditer()</b> function can be used instead. It is a helping function that can be used from very basic to very advanced iterations. It solves some basic issues which we face in iteration</p>\n",
        "\n",
        "<p>In this section, we will use both the for loop and the nditer to iterate over the array and compare the two methods</p>\n",
        "    </div>"
      ]
    },
    {
      "cell_type": "code",
      "metadata": {
        "id": "KmMKYNMxVcDd",
        "colab_type": "code",
        "colab": {},
        "outputId": "b6a7dd4d-5f2c-4f66-f774-18eee91629c5"
      },
      "source": [
        "#Iterating over an array using for loop\n",
        "a = np.array([[[1, 2, 3], [4, 5, 6]], [[7, 8, 9], [10, 11, 12]]])\n",
        "\n",
        "for x in a:\n",
        "    for y in x:\n",
        "        for z in y:\n",
        "            print(z)"
      ],
      "execution_count": null,
      "outputs": [
        {
          "output_type": "stream",
          "text": [
            "1\n",
            "2\n",
            "3\n",
            "4\n",
            "5\n",
            "6\n",
            "7\n",
            "8\n",
            "9\n",
            "10\n",
            "11\n",
            "12\n"
          ],
          "name": "stdout"
        }
      ]
    },
    {
      "cell_type": "code",
      "metadata": {
        "id": "NMvZ_4qMVcDo",
        "colab_type": "code",
        "colab": {},
        "outputId": "3a615f2d-9527-4946-9895-880cf59feb39"
      },
      "source": [
        "#Iterating over an array using nditer()\n",
        "\n",
        "a = np.array([[[1, 2, 3], [4, 5, 6]], [[7, 8, 9], [10, 11, 12]]])\n",
        "for x in np.nditer(a):\n",
        "    print(x)"
      ],
      "execution_count": null,
      "outputs": [
        {
          "output_type": "stream",
          "text": [
            "1\n",
            "2\n",
            "3\n",
            "4\n",
            "5\n",
            "6\n",
            "7\n",
            "8\n",
            "9\n",
            "10\n",
            "11\n",
            "12\n"
          ],
          "name": "stdout"
        }
      ]
    },
    {
      "cell_type": "markdown",
      "metadata": {
        "id": "Ibi3Rv3-VcD6",
        "colab_type": "text"
      },
      "source": [
        "<div class=\"alert alert-info\">\n",
        "    <p>You can see the nditer() is more efficient than the for loop for high dimesional data</p>\n",
        "    </div>"
      ]
    },
    {
      "cell_type": "markdown",
      "metadata": {
        "id": "84C1ORfkVcD7",
        "colab_type": "text"
      },
      "source": [
        "<div class=\"alert alert-info\">\n",
        "    <p>You can also specify the order(column or row) by specifying the order argument of the nditer() function</p>\n",
        "    <p>F is the fortan way, C is the default one and it is the C programming way</p>\n",
        "    </div>"
      ]
    },
    {
      "cell_type": "code",
      "metadata": {
        "id": "EJCmPOFVVcD8",
        "colab_type": "code",
        "colab": {},
        "outputId": "94987b71-369a-4dbc-8bd3-7d171f75bf29"
      },
      "source": [
        "a = np.array([[[1, 2, 3], [4, 5, 6]], [[7, 8, 9], [10, 11, 12]]])\n",
        "\n",
        "print(a)"
      ],
      "execution_count": null,
      "outputs": [
        {
          "output_type": "stream",
          "text": [
            "[[[ 1  2  3]\n",
            "  [ 4  5  6]]\n",
            "\n",
            " [[ 7  8  9]\n",
            "  [10 11 12]]]\n"
          ],
          "name": "stdout"
        }
      ]
    },
    {
      "cell_type": "code",
      "metadata": {
        "collapsed": true,
        "id": "74EeokTFVcEB",
        "colab_type": "code",
        "colab": {},
        "outputId": "19b38c96-31ec-407e-b0ce-4735608dc7ec"
      },
      "source": [
        "for x in np.nditer(a, order = \"C\"):\n",
        "    print(x)\n",
        "    "
      ],
      "execution_count": null,
      "outputs": [
        {
          "output_type": "stream",
          "text": [
            "1\n",
            "2\n",
            "3\n",
            "4\n",
            "5\n",
            "6\n",
            "7\n",
            "8\n",
            "9\n",
            "10\n",
            "11\n",
            "12\n"
          ],
          "name": "stdout"
        }
      ]
    },
    {
      "cell_type": "code",
      "metadata": {
        "collapsed": true,
        "id": "4zpf97jtVcEP",
        "colab_type": "code",
        "colab": {},
        "outputId": "fff9c9ff-55df-426d-af05-b4036625132f"
      },
      "source": [
        "for x in np.nditer(a, order = \"F\"):\n",
        "    print(x)"
      ],
      "execution_count": null,
      "outputs": [
        {
          "output_type": "stream",
          "text": [
            "1\n",
            "7\n",
            "4\n",
            "10\n",
            "2\n",
            "8\n",
            "5\n",
            "11\n",
            "3\n",
            "9\n",
            "6\n",
            "12\n"
          ],
          "name": "stdout"
        }
      ]
    },
    {
      "cell_type": "markdown",
      "metadata": {
        "id": "MfLyY_1dVcEW",
        "colab_type": "text"
      },
      "source": [
        "<h3>Joining arrays</h3>"
      ]
    },
    {
      "cell_type": "markdown",
      "metadata": {
        "id": "biIGDRHgVcEX",
        "colab_type": "text"
      },
      "source": [
        "<div class=\"alert alert-info\">\n",
        "<p>Joining means putting contents of two or more arrays in a single array. In SQL, we join tables based on a key, whereas in NumPy we join arrays by axes.</p>\n",
        "\n",
        "<p>To do this, you pass a sequence of arrays that we want to join to the concatenate() function, along with the axis. If axis is not explicitly passed, it is taken as 0. Another method for joining arrays is the stack function which is similar to the concatenate function. NumPy provides helper functions to specify ho you want to stack the arrays:<br>\n",
        "    <li><b>hstack():</b> to stack along rows</li>\n",
        "    <li><b>vstack():</b> to stack along columns</li>\n",
        "    <li><b>dstack():</b> to stack along heights</li>\n",
        "</p>"
      ]
    },
    {
      "cell_type": "code",
      "metadata": {
        "id": "d1JWAyO4VcEY",
        "colab_type": "code",
        "colab": {},
        "outputId": "50dbec44-67c8-412d-db5c-29f9bf24f485"
      },
      "source": [
        "#Joining arrays using the concatenate function\n",
        "a = np.array([[1,2],[3,4]])\n",
        "b = np.array([[5,6],[7,8]])\n",
        "\n",
        "print(\"Joining the two arrays along the axis 0:\")\n",
        "print(np.concatenate((a,b)))\n",
        "\n",
        "print(\"Joining the two arrays along the axis 1:\")\n",
        "print(np.concatenate((a,b), axis = 1))"
      ],
      "execution_count": null,
      "outputs": [
        {
          "output_type": "stream",
          "text": [
            "Joining the two arrays along the axis o:\n",
            "[[1 2]\n",
            " [3 4]\n",
            " [5 6]\n",
            " [7 8]]\n",
            "Joining the two arrays along the axis 1:\n",
            "[[1 2 5 6]\n",
            " [3 4 7 8]]\n"
          ],
          "name": "stdout"
        }
      ]
    },
    {
      "cell_type": "code",
      "metadata": {
        "id": "M-99DTieVcEe",
        "colab_type": "code",
        "colab": {},
        "outputId": "eca5f8be-4ef8-4a60-8f13-ff3c1e84ad70"
      },
      "source": [
        "#Joining arrays using the stack function\n",
        "a = np.array([[1,2],[3,4]])\n",
        "b = np.array([[5,6],[7,8]])\n",
        "\n",
        "print(\"Joining the two arrays along the axis 0:\")\n",
        "print(np.concatenate((a,b)))\n",
        "\n",
        "print(\"Joining the two arrays along the axis 1:\")\n",
        "print(np.stack((a,b), axis = 1))\n"
      ],
      "execution_count": null,
      "outputs": [
        {
          "output_type": "stream",
          "text": [
            "Joining the two arrays along the axis 0:\n",
            "[[1 2]\n",
            " [3 4]\n",
            " [5 6]\n",
            " [7 8]]\n",
            "Joining the two arrays along the axis 1:\n",
            "[[[1 2]\n",
            "  [5 6]]\n",
            "\n",
            " [[3 4]\n",
            "  [7 8]]]\n"
          ],
          "name": "stdout"
        }
      ]
    },
    {
      "cell_type": "code",
      "metadata": {
        "id": "_aBvWlXSVcEm",
        "colab_type": "code",
        "colab": {},
        "outputId": "35c56feb-b006-443d-e360-c891ed45db13"
      },
      "source": [
        "#Stacking along the rows\n",
        "a = np.array([[1,2],[3,4]])\n",
        "b = np.array([[5,6],[7,8]])\n",
        "\n",
        "print(np.hstack((a,b)))"
      ],
      "execution_count": null,
      "outputs": [
        {
          "output_type": "stream",
          "text": [
            "[[1 2 5 6]\n",
            " [3 4 7 8]]\n"
          ],
          "name": "stdout"
        }
      ]
    },
    {
      "cell_type": "code",
      "metadata": {
        "id": "zdfPjLUuVcEr",
        "colab_type": "code",
        "colab": {},
        "outputId": "7fbd8466-c5bb-4b9a-9839-6c2bb726cf53"
      },
      "source": [
        "#Stacking along the columns\n",
        "a = np.array([[1,2],[3,4]])\n",
        "b = np.array([[5,6],[7,8]])\n",
        "\n",
        "print(np.vstack((a,b)))"
      ],
      "execution_count": null,
      "outputs": [
        {
          "output_type": "stream",
          "text": [
            "[[1 2]\n",
            " [3 4]\n",
            " [5 6]\n",
            " [7 8]]\n"
          ],
          "name": "stdout"
        }
      ]
    },
    {
      "cell_type": "code",
      "metadata": {
        "id": "LPl576OsVcEz",
        "colab_type": "code",
        "colab": {},
        "outputId": "c57f28fc-c280-48c9-d650-e672cda0bc30"
      },
      "source": [
        "#Stacking along the heights\n",
        "a = np.array([[1,2],[3,4]])\n",
        "b = np.array([[5,6],[7,8]])\n",
        "\n",
        "print(np.dstack((a,b)))"
      ],
      "execution_count": null,
      "outputs": [
        {
          "output_type": "stream",
          "text": [
            "[[[1 5]\n",
            "  [2 6]]\n",
            "\n",
            " [[3 7]\n",
            "  [4 8]]]\n"
          ],
          "name": "stdout"
        }
      ]
    },
    {
      "cell_type": "markdown",
      "metadata": {
        "id": "SCWfCyBTVcE5",
        "colab_type": "text"
      },
      "source": [
        "<h3>Spliting arrays</h3>"
      ]
    },
    {
      "cell_type": "markdown",
      "metadata": {
        "id": "REfZfI4qVcE6",
        "colab_type": "text"
      },
      "source": [
        "<div class=\"alert alert-info\">\n",
        "<p>Splitting is simply the reverse operation of Joining. Joining merges multiple arrays into one and splitting breaks one array into multiple arrays.</p>\n",
        "\n",
        "<p>To split arrays, you use the <b>array_split()</b> function. You pass the array you want to split and the number of splits desired.</p></div>"
      ]
    },
    {
      "cell_type": "code",
      "metadata": {
        "id": "VGQmvvmeVcE7",
        "colab_type": "code",
        "colab": {},
        "outputId": "5badb63d-ac69-4446-a718-3c5c1b2a8669"
      },
      "source": [
        "a = np.array([1, 2, 3, 4, 5, 6,7,8,9,10])\n",
        "\n",
        "new_arr = np.array_split(a, 3)\n",
        "\n",
        "print(new_arr)"
      ],
      "execution_count": null,
      "outputs": [
        {
          "output_type": "stream",
          "text": [
            "[array([1, 2, 3, 4]), array([5, 6, 7]), array([ 8,  9, 10])]\n"
          ],
          "name": "stdout"
        }
      ]
    },
    {
      "cell_type": "markdown",
      "metadata": {
        "id": "CN4a0ErRVcFC",
        "colab_type": "text"
      },
      "source": [
        "<div class=\"alert alert-info\">\n",
        "    <p>You can also assign each splited array to a variable. </p>\n",
        "</div>"
      ]
    },
    {
      "cell_type": "code",
      "metadata": {
        "id": "1Rpb1g2oVcFD",
        "colab_type": "code",
        "colab": {},
        "outputId": "7ba3bb9c-558b-4a79-fd1c-6a97afc08e97"
      },
      "source": [
        "a= np.array([1, 2, 3, 4, 5, 6,7,8,9,10])\n",
        "a,b,c = np.array_split(a, 3)\n",
        "\n",
        "print(a)"
      ],
      "execution_count": null,
      "outputs": [
        {
          "output_type": "stream",
          "text": [
            "[1 2 3 4]\n"
          ],
          "name": "stdout"
        }
      ]
    },
    {
      "cell_type": "code",
      "metadata": {
        "id": "gBnygfgVVcFI",
        "colab_type": "code",
        "colab": {},
        "outputId": "900b80cd-8d66-4e84-8a8c-8815c1ad11ba"
      },
      "source": [
        "print(b)\n",
        "print(c)"
      ],
      "execution_count": null,
      "outputs": [
        {
          "output_type": "stream",
          "text": [
            "[5 6 7]\n",
            "[ 8  9 10]\n"
          ],
          "name": "stdout"
        }
      ]
    },
    {
      "cell_type": "markdown",
      "metadata": {
        "id": "BRvq9ubUVcFM",
        "colab_type": "text"
      },
      "source": [
        "<h3>Searching and sorting arrays</h3>"
      ]
    },
    {
      "cell_type": "markdown",
      "metadata": {
        "id": "R8KVajY4VcFN",
        "colab_type": "text"
      },
      "source": [
        "<div class=\"alert alert-info\">\n",
        "<p>You can search an array for a certain value, and return the indexes that get a match.To search an array, use the <b>where()</b>method. Searching an array is very useful in data science. You will get to understand as you begin to work with real world datasets</p>\n",
        "    \n",
        "<p>Sorting means putting elements in an ordered sequence, either ascending or descending. To sort arrays in NumPy, you use the <b>sort()</b> function.</p>\n",
        "</div>"
      ]
    },
    {
      "cell_type": "markdown",
      "metadata": {
        "id": "z2dFP3_qVcFO",
        "colab_type": "text"
      },
      "source": [
        "<h4>Searching an array</h4>"
      ]
    },
    {
      "cell_type": "code",
      "metadata": {
        "id": "cQgf-1l_VcFP",
        "colab_type": "code",
        "colab": {},
        "outputId": "16b58300-c7e9-45d2-d670-1713c13d150f"
      },
      "source": [
        "a = np.array([1,4,1,2,5,6,3,8,5,1,4,4])\n",
        "\n",
        "x = np.where(a == 1)\n",
        "\n",
        "print(x)"
      ],
      "execution_count": null,
      "outputs": [
        {
          "output_type": "stream",
          "text": [
            "(array([0, 2, 9], dtype=int64),)\n"
          ],
          "name": "stdout"
        }
      ]
    },
    {
      "cell_type": "markdown",
      "metadata": {
        "id": "FZU-PA4HVcFU",
        "colab_type": "text"
      },
      "source": [
        "<h4>Sorting an array</h4>"
      ]
    },
    {
      "cell_type": "code",
      "metadata": {
        "id": "x14ZOB2nVcFV",
        "colab_type": "code",
        "colab": {},
        "outputId": "b1ae9eaf-c573-449c-ea3d-5c74e596cce0"
      },
      "source": [
        "a = np.array([1,4,1,2,5,6,3,8,5,1,4,4])\n",
        "\n",
        "x = np.sort(a)\n",
        "\n",
        "print(x)"
      ],
      "execution_count": null,
      "outputs": [
        {
          "output_type": "stream",
          "text": [
            "[1 1 1 2 3 4 4 4 5 5 6 8]\n"
          ],
          "name": "stdout"
        }
      ]
    },
    {
      "cell_type": "code",
      "metadata": {
        "id": "SMlmFCbcVcFa",
        "colab_type": "code",
        "colab": {},
        "outputId": "c13c5380-7f3d-4bfe-b3bc-a83fd2d06377"
      },
      "source": [
        "a = np.array(['b', 'd', 'j', 'o', 't', 'c', 'a','i'])\n",
        "\n",
        "print(np.sort(a))"
      ],
      "execution_count": null,
      "outputs": [
        {
          "output_type": "stream",
          "text": [
            "['a' 'b' 'c' 'd' 'i' 'j' 'o' 't']\n"
          ],
          "name": "stdout"
        }
      ]
    },
    {
      "cell_type": "code",
      "metadata": {
        "id": "RtWLCxpDVcFe",
        "colab_type": "code",
        "colab": {},
        "outputId": "e6e16769-d602-41f1-d64b-a4ea3aaef4e2"
      },
      "source": [
        "a = np.array([[7,2,4], [9,3,5]])\n",
        "\n",
        "print(np.sort(a))"
      ],
      "execution_count": null,
      "outputs": [
        {
          "output_type": "stream",
          "text": [
            "[[2 4 7]\n",
            " [3 5 9]]\n"
          ],
          "name": "stdout"
        }
      ]
    },
    {
      "cell_type": "code",
      "metadata": {
        "id": "Jxdmc9anVcFq",
        "colab_type": "code",
        "colab": {},
        "outputId": "84595826-ee0b-440f-dade-4066dfb54863"
      },
      "source": [
        "a = np.array([True, False, True, False, False, True])\n",
        "\n",
        "print(np.sort(a))"
      ],
      "execution_count": null,
      "outputs": [
        {
          "output_type": "stream",
          "text": [
            "[False False False  True  True  True]\n"
          ],
          "name": "stdout"
        }
      ]
    },
    {
      "cell_type": "markdown",
      "metadata": {
        "id": "NPByF673VcFu",
        "colab_type": "text"
      },
      "source": [
        "<h3>Filtering an array</h3>"
      ]
    },
    {
      "cell_type": "markdown",
      "metadata": {
        "id": "pEBAX0a8VcFv",
        "colab_type": "text"
      },
      "source": [
        "<div class=\"alert alert-info\">\n",
        "Getting some elements out of an existing array and creating a new array out of them is called <b>filtering</b>. An array in NumPy is filtered using a boolean index list(a list of booleans corresponding to indexes in the array). If the value at an index is <b>True</b>,  then the element will be included in the filtered array, else, the value at that index is <b>False</b> and the element will be excluded from the filtered array. Simlpy put, only elements whose index value correspond to True would be returned in the filtered array. \n",
        "\n",
        "</div>"
      ]
    },
    {
      "cell_type": "code",
      "metadata": {
        "id": "YKoJ02VOVcFw",
        "colab_type": "code",
        "colab": {},
        "outputId": "871df326-7bbb-478e-9821-d5735e408932"
      },
      "source": [
        "a = np.array(['b', 'd', 'j', 'o', 't', 'c', 'a','i'])\n",
        "\n",
        "filtered_array = [False, False, False, True, False, False, True, True]\n",
        "\n",
        "vowels = a[filtered_array]\n",
        "\n",
        "print(vowels)"
      ],
      "execution_count": null,
      "outputs": [
        {
          "output_type": "stream",
          "text": [
            "['o' 'a' 'i']\n"
          ],
          "name": "stdout"
        }
      ]
    },
    {
      "cell_type": "markdown",
      "metadata": {
        "id": "D0YGEOsSVcF1",
        "colab_type": "text"
      },
      "source": [
        "<div class=\"alert alert-info\">\n",
        "In the example above we hard-coded the True and False values. In real world scenarios, you will have to generate the filter array based on some conditions. We commonly use the <i>if else</i> statements for this. \n",
        "</div>"
      ]
    },
    {
      "cell_type": "code",
      "metadata": {
        "id": "nXZVsveeVcF2",
        "colab_type": "code",
        "colab": {},
        "outputId": "19b08a2f-8123-4d39-8bc7-f059ae710d0e"
      },
      "source": [
        "#We want to create a filtered array that will return only even numbers from the array below\n",
        "\n",
        "a = np.array([1,5,2,7,3,9,1,3,7,2,8,4,7,2])\n",
        "\n",
        "# Create an empty list\n",
        "filtered_array = []\n",
        "\n",
        "# go through each element in the array \n",
        "for element in a:\n",
        "    if element%2 == 0:\n",
        "        filtered_array.append(True)\n",
        "    else:\n",
        "        filtered_array.append(False)\n",
        "\n",
        "even_numbers = a[filtered_array]\n",
        "\n",
        "print(filtered_array)\n",
        "print(even_numbers)"
      ],
      "execution_count": null,
      "outputs": [
        {
          "output_type": "stream",
          "text": [
            "[False, False, True, False, False, False, False, False, False, True, True, True, False, True]\n",
            "[2 2 8 4 2]\n"
          ],
          "name": "stdout"
        }
      ]
    },
    {
      "cell_type": "markdown",
      "metadata": {
        "id": "NuLVHNZ1VcF6",
        "colab_type": "text"
      },
      "source": [
        "<h3>NumPy random numbers</h3>"
      ]
    },
    {
      "cell_type": "markdown",
      "metadata": {
        "id": "dVi0UupoVcF7",
        "colab_type": "text"
      },
      "source": [
        "<div class=\"alert alert-info\">\n",
        "<p>Random number does not necessarily mean a different number every time. Random simply means something that can not be predicted logically.</p>\n",
        "    <p>NumPy allows us generate random numbers using the <b>random</b> module. However, the numbers generated are not truly random since it was generated using an algorithm. This kind of random numbers are referred to as pseudo random. Often times, we don't need truly random numbers except for security or very important reasons. </p>\n",
        "\n",
        "<p>To use the NumPy random module, you have to import it using the command below: <br>\n",
        "    <b>from numpy import random</b><br>\n",
        "The random class has two major functions used for generating random numbers:<br>\n",
        "    <li><b>randint()</b> - for generating random integer numbers</li>\n",
        "    <li><b>rand()</b> - for generating random floating point numbers</li>"
      ]
    },
    {
      "cell_type": "code",
      "metadata": {
        "id": "cBrSKZRXVcF8",
        "colab_type": "code",
        "colab": {},
        "outputId": "97ea3768-0fa8-4e35-de39-d3bb3961894c"
      },
      "source": [
        "#Retruns any random number between 0 and 10\n",
        "\n",
        "from numpy import random\n",
        "\n",
        "a = random.randint(10)\n",
        "\n",
        "print(a)"
      ],
      "execution_count": null,
      "outputs": [
        {
          "output_type": "stream",
          "text": [
            "5\n"
          ],
          "name": "stdout"
        }
      ]
    },
    {
      "cell_type": "markdown",
      "metadata": {
        "id": "DLQPmLg8VcGB",
        "colab_type": "text"
      },
      "source": [
        "<div class=\"alert alert-info\">\n",
        "Aside the range you want your random number to be generated from, the randint() method takes a <b>size</b> parameter where you can specify the shape of the array.\n",
        "<div>"
      ]
    },
    {
      "cell_type": "markdown",
      "metadata": {
        "id": "WVMafVQiVcGC",
        "colab_type": "text"
      },
      "source": [
        "<h4>Random numbers using the randint() module</h4>"
      ]
    },
    {
      "cell_type": "code",
      "metadata": {
        "id": "LskskPANVcGF",
        "colab_type": "code",
        "colab": {},
        "outputId": "3aad203f-3ee0-4ade-df08-86f2e84f7c59"
      },
      "source": [
        "a=random.randint(10, size=(5))\n",
        "\n",
        "print(a)"
      ],
      "execution_count": null,
      "outputs": [
        {
          "output_type": "stream",
          "text": [
            "[5 4 7 1 7]\n"
          ],
          "name": "stdout"
        }
      ]
    },
    {
      "cell_type": "code",
      "metadata": {
        "id": "cfoqu43VVcGU",
        "colab_type": "code",
        "colab": {},
        "outputId": "2070848e-cbc0-4b1e-ee92-ace27e58b0f8"
      },
      "source": [
        "a=random.randint(10, size=(20))\n",
        "\n",
        "print(a)"
      ],
      "execution_count": null,
      "outputs": [
        {
          "output_type": "stream",
          "text": [
            "[2 1 9 0 4 8 9 4 0 7 4 7 5 4 4 6 5 8 4 1]\n"
          ],
          "name": "stdout"
        }
      ]
    },
    {
      "cell_type": "code",
      "metadata": {
        "id": "I7IyW0UiVcGb",
        "colab_type": "code",
        "colab": {},
        "outputId": "1a487b49-4abe-42cf-ff1a-54b16566c752"
      },
      "source": [
        "a = random.randint(10, size=(2, 5))\n",
        "\n",
        "print(a)"
      ],
      "execution_count": null,
      "outputs": [
        {
          "output_type": "stream",
          "text": [
            "[[0 1 1 8 4]\n",
            " [6 7 4 7 6]]\n"
          ],
          "name": "stdout"
        }
      ]
    },
    {
      "cell_type": "code",
      "metadata": {
        "id": "nlqvvoBhVcGn",
        "colab_type": "code",
        "colab": {},
        "outputId": "c449834f-041f-470a-8991-04b4b6042c9c"
      },
      "source": [
        "a = random.randint(10, size=(3, 4))\n",
        "\n",
        "print(a)"
      ],
      "execution_count": null,
      "outputs": [
        {
          "output_type": "stream",
          "text": [
            "[[6 0 8 0]\n",
            " [0 1 5 5]\n",
            " [5 5 7 1]]\n"
          ],
          "name": "stdout"
        }
      ]
    },
    {
      "cell_type": "markdown",
      "metadata": {
        "id": "IH1AZ2XJVcGu",
        "colab_type": "text"
      },
      "source": [
        "<h4>Random numbers using the rand() module</h4>"
      ]
    },
    {
      "cell_type": "code",
      "metadata": {
        "id": "YlYxTFHJVcGu",
        "colab_type": "code",
        "colab": {},
        "outputId": "f91d4205-cf3e-4da7-d3d3-fe4fe3a4beba"
      },
      "source": [
        "a = random.rand()\n",
        "\n",
        "print(a)"
      ],
      "execution_count": null,
      "outputs": [
        {
          "output_type": "stream",
          "text": [
            "0.1405626721813733\n"
          ],
          "name": "stdout"
        }
      ]
    },
    {
      "cell_type": "markdown",
      "metadata": {
        "id": "PJnehvkIVcG6",
        "colab_type": "text"
      },
      "source": [
        "<div class=\"alert alert-info\">\n",
        "Unlike the randint() method, the rand() method does not take the range argument because it only returns float between 0 and 1. However, you can also specify the shape of the array as shown below.\n",
        "<div>"
      ]
    },
    {
      "cell_type": "code",
      "metadata": {
        "id": "yFwn1-7DVcG-",
        "colab_type": "code",
        "colab": {},
        "outputId": "c396ed44-fb57-4f5b-f153-c44731a62d4f"
      },
      "source": [
        "a = random.rand(10)\n",
        "\n",
        "print(a)"
      ],
      "execution_count": null,
      "outputs": [
        {
          "output_type": "stream",
          "text": [
            "[0.97495278 0.06076402 0.61091635 0.55397758 0.7577156  0.64889528\n",
            " 0.92001634 0.19896982 0.8679357  0.86317944]\n"
          ],
          "name": "stdout"
        }
      ]
    },
    {
      "cell_type": "code",
      "metadata": {
        "id": "RudMsCk0VcHD",
        "colab_type": "code",
        "colab": {},
        "outputId": "4dcd312d-dd89-415c-fc80-21663a088bd1"
      },
      "source": [
        "a = random.rand(3, 4)\n",
        "\n",
        "print(a)"
      ],
      "execution_count": null,
      "outputs": [
        {
          "output_type": "stream",
          "text": [
            "[[0.31321957 0.94117417 0.85820117 0.62093794]\n",
            " [0.08445087 0.8706519  0.70937987 0.4572463 ]\n",
            " [0.38049957 0.67381545 0.19678036 0.14803225]]\n"
          ],
          "name": "stdout"
        }
      ]
    },
    {
      "cell_type": "markdown",
      "metadata": {
        "id": "ldqOPaX7VcHH",
        "colab_type": "text"
      },
      "source": [
        "<div class=\"alert alert-info\">\n",
        "NumPy also allows you to generate a random value based on the values in an array. This is done using the <b>choice()</b> method. This method takes an array as a parameter and randomly returns one of the values. You can also specify the shape of the array using the size argument</div> "
      ]
    },
    {
      "cell_type": "code",
      "metadata": {
        "id": "u_j7rmevVcHI",
        "colab_type": "code",
        "colab": {},
        "outputId": "1cdf1de6-73bc-4c5a-b3cf-fda2f67f73f7"
      },
      "source": [
        "a = random.choice([1,2,3,4,5,6,7,8,9,0])\n",
        "\n",
        "print(a)"
      ],
      "execution_count": null,
      "outputs": [
        {
          "output_type": "stream",
          "text": [
            "6\n"
          ],
          "name": "stdout"
        }
      ]
    },
    {
      "cell_type": "code",
      "metadata": {
        "id": "xycdzAHzVcHM",
        "colab_type": "code",
        "colab": {},
        "outputId": "b9ff3ea6-d8ed-4a17-edbc-cd916873f329"
      },
      "source": [
        "a = random.choice([1,2,3,4,5,6,7,8,9,0], size = (3,4))\n",
        "\n",
        "print(a)"
      ],
      "execution_count": null,
      "outputs": [
        {
          "output_type": "stream",
          "text": [
            "[[1 7 1 1]\n",
            " [8 8 4 6]\n",
            " [6 5 7 8]]\n"
          ],
          "name": "stdout"
        }
      ]
    },
    {
      "cell_type": "code",
      "metadata": {
        "id": "ByzSYAGVVcHR",
        "colab_type": "code",
        "colab": {},
        "outputId": "fa350e12-a8cd-4c70-9398-ad694e5e35c1"
      },
      "source": [
        "a = random.choice([1,2,3,4,5,6,7,8,9,0], size = (5))\n",
        "\n",
        "print(a)"
      ],
      "execution_count": null,
      "outputs": [
        {
          "output_type": "stream",
          "text": [
            "[7 9 7 8 7]\n"
          ],
          "name": "stdout"
        }
      ]
    },
    {
      "cell_type": "markdown",
      "metadata": {
        "id": "b5GLoQGNVcHa",
        "colab_type": "text"
      },
      "source": [
        "<h3>NumPy arange function</h3>"
      ]
    },
    {
      "cell_type": "markdown",
      "metadata": {
        "id": "Qs2wJh8lVcHb",
        "colab_type": "text"
      },
      "source": [
        "<div class=\"alert alert-info\">\n",
        "Python has a built-in range function that allows you generate a sequence of integers based on your specified range. To do this in Numpy, you use the <b>arange</b> function for this. </div>"
      ]
    },
    {
      "cell_type": "code",
      "metadata": {
        "id": "Yeyk2bmSVcHc",
        "colab_type": "code",
        "colab": {},
        "outputId": "93d48318-3f4e-4f92-c556-8751c5c1dd25"
      },
      "source": [
        "#Python range function\n",
        "\n",
        "range(10)"
      ],
      "execution_count": null,
      "outputs": [
        {
          "output_type": "execute_result",
          "data": {
            "text/plain": [
              "range(0, 10)"
            ]
          },
          "metadata": {
            "tags": []
          },
          "execution_count": 37
        }
      ]
    },
    {
      "cell_type": "code",
      "metadata": {
        "id": "WLISe0WkVcHg",
        "colab_type": "code",
        "colab": {},
        "outputId": "d1b3f934-17f9-44b5-9beb-65c131d19b0c"
      },
      "source": [
        "for number in range(10):\n",
        "    print(number)"
      ],
      "execution_count": null,
      "outputs": [
        {
          "output_type": "stream",
          "text": [
            "0\n",
            "1\n",
            "2\n",
            "3\n",
            "4\n",
            "5\n",
            "6\n",
            "7\n",
            "8\n",
            "9\n"
          ],
          "name": "stdout"
        }
      ]
    },
    {
      "cell_type": "markdown",
      "metadata": {
        "id": "hm0UAz4KVcHk",
        "colab_type": "text"
      },
      "source": [
        "<div class=\"alert alert-info\">\n",
        "Python range function will return a tuple. To get the list of element, you will have to use a for loop to iterate over it. Numpy arange function on the other hand will return an array directly. You can use the .reshape() function to specify the shape of the array generated</div>"
      ]
    },
    {
      "cell_type": "code",
      "metadata": {
        "id": "5m6WQPtLVcHl",
        "colab_type": "code",
        "colab": {},
        "outputId": "c0fb21a0-f7b3-4de0-f247-193c113f141f"
      },
      "source": [
        "np.arange(12)"
      ],
      "execution_count": null,
      "outputs": [
        {
          "output_type": "execute_result",
          "data": {
            "text/plain": [
              "array([ 0,  1,  2,  3,  4,  5,  6,  7,  8,  9, 10, 11])"
            ]
          },
          "metadata": {
            "tags": []
          },
          "execution_count": 46
        }
      ]
    },
    {
      "cell_type": "code",
      "metadata": {
        "id": "UspXYeVYVcHq",
        "colab_type": "code",
        "colab": {},
        "outputId": "142b9c5d-c749-4755-ae13-a0ef5a433e4a"
      },
      "source": [
        "np.arange(12).reshape(3,4)"
      ],
      "execution_count": null,
      "outputs": [
        {
          "output_type": "execute_result",
          "data": {
            "text/plain": [
              "array([[ 0,  1,  2,  3],\n",
              "       [ 4,  5,  6,  7],\n",
              "       [ 8,  9, 10, 11]])"
            ]
          },
          "metadata": {
            "tags": []
          },
          "execution_count": 47
        }
      ]
    },
    {
      "cell_type": "markdown",
      "metadata": {
        "id": "eHKa6yVUVcHw",
        "colab_type": "text"
      },
      "source": [
        "<div class=\"alert alert-info\">\n",
        "NumPy also allows you to generate an array of 0's and 1's. You simply do this using the <b>np.zeros()</b> and <b>np.ones()</b> function. You will also need to specify the shape of the array.</div>"
      ]
    },
    {
      "cell_type": "code",
      "metadata": {
        "id": "YCk8CLlOVcHw",
        "colab_type": "code",
        "colab": {},
        "outputId": "cfda0bf5-e459-46e5-8a56-b4dab9038d40"
      },
      "source": [
        "#Array  of 0's\n",
        "\n",
        "np.zeros((3,4))"
      ],
      "execution_count": null,
      "outputs": [
        {
          "output_type": "execute_result",
          "data": {
            "text/plain": [
              "array([[0., 0., 0., 0.],\n",
              "       [0., 0., 0., 0.],\n",
              "       [0., 0., 0., 0.]])"
            ]
          },
          "metadata": {
            "tags": []
          },
          "execution_count": 40
        }
      ]
    },
    {
      "cell_type": "code",
      "metadata": {
        "id": "x-90RLgBVcH6",
        "colab_type": "code",
        "colab": {},
        "outputId": "334d668b-98bb-46d2-ddf8-353eb1103919"
      },
      "source": [
        "np.zeros((5))"
      ],
      "execution_count": null,
      "outputs": [
        {
          "output_type": "execute_result",
          "data": {
            "text/plain": [
              "array([0., 0., 0., 0., 0.])"
            ]
          },
          "metadata": {
            "tags": []
          },
          "execution_count": 41
        }
      ]
    },
    {
      "cell_type": "code",
      "metadata": {
        "id": "LM0rcZQtVcH_",
        "colab_type": "code",
        "colab": {},
        "outputId": "bf4705cd-ea35-433e-a7c6-53ca2c5d8290"
      },
      "source": [
        "#Array  of 1's\n",
        "\n",
        "np.ones((3,4))"
      ],
      "execution_count": null,
      "outputs": [
        {
          "output_type": "execute_result",
          "data": {
            "text/plain": [
              "array([[1., 1., 1., 1.],\n",
              "       [1., 1., 1., 1.],\n",
              "       [1., 1., 1., 1.]])"
            ]
          },
          "metadata": {
            "tags": []
          },
          "execution_count": 42
        }
      ]
    },
    {
      "cell_type": "code",
      "metadata": {
        "id": "9cqHKqDAVcIE",
        "colab_type": "code",
        "colab": {},
        "outputId": "4d7f8f4a-b53f-4b67-d796-f931c84399b5"
      },
      "source": [
        "np.ones((5))"
      ],
      "execution_count": null,
      "outputs": [
        {
          "output_type": "execute_result",
          "data": {
            "text/plain": [
              "array([1., 1., 1., 1., 1.])"
            ]
          },
          "metadata": {
            "tags": []
          },
          "execution_count": 43
        }
      ]
    },
    {
      "cell_type": "markdown",
      "metadata": {
        "id": "QIfMVCS2VcII",
        "colab_type": "text"
      },
      "source": [
        "<h3>NumPy arithmetic operations</h3>"
      ]
    },
    {
      "cell_type": "code",
      "metadata": {
        "id": "b7XQ1IufVcIO",
        "colab_type": "code",
        "colab": {},
        "outputId": "9c52f9ba-5b38-47ff-de33-0ba8b06b3d28"
      },
      "source": [
        "a = np.arange(1,10).reshape(3,3)\n",
        "b= np.array([10,100,1000])\n",
        "\n",
        "print(\"This is array a: \")\n",
        "print(a)"
      ],
      "execution_count": null,
      "outputs": [
        {
          "output_type": "stream",
          "text": [
            "This is array a: \n",
            "[[1 2 3]\n",
            " [4 5 6]\n",
            " [7 8 9]]\n"
          ],
          "name": "stdout"
        }
      ]
    },
    {
      "cell_type": "code",
      "metadata": {
        "id": "pJCQDaZmVcIS",
        "colab_type": "code",
        "colab": {},
        "outputId": "911ae252-c874-4b2a-aaa2-4ad81268b1e4"
      },
      "source": [
        "print(\"This is array b: \")\n",
        "print(b)"
      ],
      "execution_count": null,
      "outputs": [
        {
          "output_type": "stream",
          "text": [
            "This is array b: \n",
            "[  10  100 1000]\n"
          ],
          "name": "stdout"
        }
      ]
    },
    {
      "cell_type": "code",
      "metadata": {
        "id": "S5kGIp0BVcIg",
        "colab_type": "code",
        "colab": {},
        "outputId": "dec0d906-ea3d-4fc0-bb27-46fcf50d7721"
      },
      "source": [
        "np.add(a,b)"
      ],
      "execution_count": null,
      "outputs": [
        {
          "output_type": "execute_result",
          "data": {
            "text/plain": [
              "array([[  11,  102, 1003],\n",
              "       [  14,  105, 1006],\n",
              "       [  17,  108, 1009]])"
            ]
          },
          "metadata": {
            "tags": []
          },
          "execution_count": 48
        }
      ]
    },
    {
      "cell_type": "code",
      "metadata": {
        "id": "IgVEPOK5VcIm",
        "colab_type": "code",
        "colab": {},
        "outputId": "375959b4-1dae-4612-deac-1aeaa8bf96d9"
      },
      "source": [
        "np.subtract(a,b)\n"
      ],
      "execution_count": null,
      "outputs": [
        {
          "output_type": "execute_result",
          "data": {
            "text/plain": [
              "array([[  -9,  -98, -997],\n",
              "       [  -6,  -95, -994],\n",
              "       [  -3,  -92, -991]])"
            ]
          },
          "metadata": {
            "tags": []
          },
          "execution_count": 49
        }
      ]
    },
    {
      "cell_type": "code",
      "metadata": {
        "id": "PCNGXsCgVcIr",
        "colab_type": "code",
        "colab": {},
        "outputId": "d95adcfb-e367-4e73-a5b1-fa227ea1296c"
      },
      "source": [
        "np.multiply(a,b)\n"
      ],
      "execution_count": null,
      "outputs": [
        {
          "output_type": "execute_result",
          "data": {
            "text/plain": [
              "array([[  10,  200, 3000],\n",
              "       [  40,  500, 6000],\n",
              "       [  70,  800, 9000]])"
            ]
          },
          "metadata": {
            "tags": []
          },
          "execution_count": 50
        }
      ]
    },
    {
      "cell_type": "code",
      "metadata": {
        "id": "6VpCEUexVcIw",
        "colab_type": "code",
        "colab": {},
        "outputId": "7f0ce5ed-a59e-4373-a5d9-d86f14194175"
      },
      "source": [
        "np.divide(a,b)"
      ],
      "execution_count": null,
      "outputs": [
        {
          "output_type": "execute_result",
          "data": {
            "text/plain": [
              "array([[0.1  , 0.02 , 0.003],\n",
              "       [0.4  , 0.05 , 0.006],\n",
              "       [0.7  , 0.08 , 0.009]])"
            ]
          },
          "metadata": {
            "tags": []
          },
          "execution_count": 51
        }
      ]
    },
    {
      "cell_type": "code",
      "metadata": {
        "id": "S6-LIlNHVcI0",
        "colab_type": "code",
        "colab": {},
        "outputId": "bc06b812-093f-444c-fa72-10b48c78b671"
      },
      "source": [
        "#Sum along axis\n",
        "\n",
        "a = np.array([(1,2,3),(3,4,5)])\n",
        "a.sum(axis=1)"
      ],
      "execution_count": null,
      "outputs": [
        {
          "output_type": "execute_result",
          "data": {
            "text/plain": [
              "array([ 6, 12])"
            ]
          },
          "metadata": {
            "tags": []
          },
          "execution_count": 64
        }
      ]
    },
    {
      "cell_type": "code",
      "metadata": {
        "id": "SGAlxI3mVcI5",
        "colab_type": "code",
        "colab": {},
        "outputId": "ecfe3341-6141-4ec9-a742-c49e2002eb9e"
      },
      "source": [
        "a.sum(axis=0)"
      ],
      "execution_count": null,
      "outputs": [
        {
          "output_type": "execute_result",
          "data": {
            "text/plain": [
              "array([4, 6, 8])"
            ]
          },
          "metadata": {
            "tags": []
          },
          "execution_count": 65
        }
      ]
    },
    {
      "cell_type": "code",
      "metadata": {
        "id": "5-v9I5waVcI9",
        "colab_type": "code",
        "colab": {},
        "outputId": "54a070b0-28be-49fc-f1dd-1ce23b7e974f"
      },
      "source": [
        "#square\n",
        "\n",
        "a = np.array([(1,2,3),(3,4,5)])\n",
        "np.square(a)"
      ],
      "execution_count": null,
      "outputs": [
        {
          "output_type": "stream",
          "text": [
            "[[ 1  4  9]\n",
            " [ 9 16 25]]\n"
          ],
          "name": "stdout"
        }
      ]
    },
    {
      "cell_type": "code",
      "metadata": {
        "id": "CwBuPwUnVcJD",
        "colab_type": "code",
        "colab": {},
        "outputId": "f1375b19-10bf-4290-e602-edf5899b3f0d"
      },
      "source": [
        "#square root\n",
        "\n",
        "a = np.array([(1,2,3),(3,4,5) ])\n",
        "np.sqrt(a)"
      ],
      "execution_count": null,
      "outputs": [
        {
          "output_type": "execute_result",
          "data": {
            "text/plain": [
              "array([[1.        , 1.41421356, 1.73205081],\n",
              "       [1.73205081, 2.        , 2.23606798]])"
            ]
          },
          "metadata": {
            "tags": []
          },
          "execution_count": 61
        }
      ]
    },
    {
      "cell_type": "code",
      "metadata": {
        "id": "b-oCmek2VcJH",
        "colab_type": "code",
        "colab": {},
        "outputId": "10459d80-f8d7-4ca6-ddb5-6521c0d514ac"
      },
      "source": [
        "#squareroot and standard deviation\n",
        "\n",
        "np.std(a)"
      ],
      "execution_count": null,
      "outputs": [
        {
          "output_type": "execute_result",
          "data": {
            "text/plain": [
              "1.2909944487358056"
            ]
          },
          "metadata": {
            "tags": []
          },
          "execution_count": 63
        }
      ]
    },
    {
      "cell_type": "code",
      "metadata": {
        "id": "0310LpcwVcJM",
        "colab_type": "code",
        "colab": {},
        "outputId": "66fa1958-67ef-4887-f7b9-14a65cae8098"
      },
      "source": [
        "np.transpose(a)            "
      ],
      "execution_count": null,
      "outputs": [
        {
          "output_type": "execute_result",
          "data": {
            "text/plain": [
              "array([[1, 4, 7],\n",
              "       [2, 5, 8],\n",
              "       [3, 6, 9]])"
            ]
          },
          "metadata": {
            "tags": []
          },
          "execution_count": 52
        }
      ]
    },
    {
      "cell_type": "code",
      "metadata": {
        "id": "TU5v_yZMVcJV",
        "colab_type": "code",
        "colab": {},
        "outputId": "142e85a4-ce61-4909-bb0a-e4c4db3d1e02"
      },
      "source": [
        "#NumPy log functions\n",
        "\n",
        "a = np.array([(1,2,3)]) \n",
        "\n",
        "print(np.log2(a))\n",
        "print(np.log10(a))"
      ],
      "execution_count": null,
      "outputs": [
        {
          "output_type": "stream",
          "text": [
            "[[0.        1.        1.5849625]]\n",
            "[[0.         0.30103    0.47712125]]\n"
          ],
          "name": "stdout"
        }
      ]
    },
    {
      "cell_type": "markdown",
      "metadata": {
        "id": "eYmDoz2-VcJa",
        "colab_type": "text"
      },
      "source": [
        "<h3>NumPy string functions</h3>"
      ]
    },
    {
      "cell_type": "markdown",
      "metadata": {
        "id": "LGJ5cNavVcJb",
        "colab_type": "text"
      },
      "source": [
        "<div class=\"alert alert-info\">\n",
        "<p>NumPy allows us to perform different operations on string data type just like we have in Python. Some of this functions are: <br>\n",
        "    <li><b>np.char.add: </b> This will concatenate elements in an array to its correponding element in another array</li>\n",
        "    <li><b>np.char.multiply: </b>This will display the string the specified number of times</li>\n",
        "    <li><b>np.char.center: </b> This takes in a string, desired  length and character you want to pad the string with if it does not meet the specified length</li>\n",
        "    <li><b>np.char.capitalize: </b>This will capitalize the first letter in the string</li> \n",
        "    <li><b>np.char.title: </b>This will capitalize the first letter of every world</li>\n",
        "    <li><b>np.char.upper: </b>This will capitalize the whole string</li> \n",
        "    <li><b>np.char.lower: </b>This will convert the string to lower cases</li> \n",
        "    <li><b>np.char.split: </b>This will split a single single to different strings. You can specify the split parameter but by default, it splits using the space character</li> \n",
        "    <li><b>np.char.splitlines: </b>This is to split a string using the newline character(\\n)</li> \n",
        "    <li><b>np.char.strip: </b>Removes the specified character from the end of the string</li> \n",
        "    <li><b>np.char.join: </b>Join characters together</li> \n",
        "</div>"
      ]
    },
    {
      "cell_type": "code",
      "metadata": {
        "id": "pM9vSWYvVcJc",
        "colab_type": "code",
        "colab": {},
        "outputId": "6e142b5c-eefe-4a58-f40f-683be691b25d"
      },
      "source": [
        "#NumPy String Concatenation\n",
        "print(np.char.add([\"Data \", \"Abisola \"], [\"Science\", \"Fikayomi\"]))"
      ],
      "execution_count": null,
      "outputs": [
        {
          "output_type": "stream",
          "text": [
            "['Data Science' 'Abisola Fikayomi']\n"
          ],
          "name": "stdout"
        }
      ]
    },
    {
      "cell_type": "code",
      "metadata": {
        "id": "c3LcJIedVcJl",
        "colab_type": "code",
        "colab": {},
        "outputId": "03be55d7-9872-4d4d-fa68-760b965a75a7"
      },
      "source": [
        "print(np.char.multiply(\"hello \", 3))"
      ],
      "execution_count": null,
      "outputs": [
        {
          "output_type": "stream",
          "text": [
            "hello hello hello \n"
          ],
          "name": "stdout"
        }
      ]
    },
    {
      "cell_type": "code",
      "metadata": {
        "id": "rSblhLVGVcJp",
        "colab_type": "code",
        "colab": {},
        "outputId": "6a79690c-7861-4ec3-d669-137495cf6af5"
      },
      "source": [
        "print(np.char.center(\"hello\", 20, fillchar = \"!\"))"
      ],
      "execution_count": null,
      "outputs": [
        {
          "output_type": "stream",
          "text": [
            "!!!!!!!hello!!!!!!!!\n"
          ],
          "name": "stdout"
        }
      ]
    },
    {
      "cell_type": "code",
      "metadata": {
        "id": "pFfu7N4JVcJz",
        "colab_type": "code",
        "colab": {},
        "outputId": "19ecd34b-24d9-4619-99c0-8646ca3cbdda"
      },
      "source": [
        "print(np.char.capitalize(\"hello world\"))"
      ],
      "execution_count": null,
      "outputs": [
        {
          "output_type": "stream",
          "text": [
            "Hello world\n"
          ],
          "name": "stdout"
        }
      ]
    },
    {
      "cell_type": "code",
      "metadata": {
        "scrolled": true,
        "id": "PknHPgQ9VcJ3",
        "colab_type": "code",
        "colab": {},
        "outputId": "b1712378-0450-475f-b5f4-e826041fb218"
      },
      "source": [
        "print(np.char.title(\"hello world\"))"
      ],
      "execution_count": null,
      "outputs": [
        {
          "output_type": "stream",
          "text": [
            "Hello World\n"
          ],
          "name": "stdout"
        }
      ]
    },
    {
      "cell_type": "code",
      "metadata": {
        "id": "MtT4zJ2QVcJ7",
        "colab_type": "code",
        "colab": {},
        "outputId": "b86f8041-1030-4c42-e098-bb3d6c163a6b"
      },
      "source": [
        "print(np.char.upper(\"hello world\"))"
      ],
      "execution_count": null,
      "outputs": [
        {
          "output_type": "stream",
          "text": [
            "HELLO WORLD\n"
          ],
          "name": "stdout"
        }
      ]
    },
    {
      "cell_type": "code",
      "metadata": {
        "id": "ew1b8xttVcKA",
        "colab_type": "code",
        "colab": {},
        "outputId": "e1268196-2161-4808-a489-78a2f737195a"
      },
      "source": [
        "print(np.char.lower(\"hello world\"))"
      ],
      "execution_count": null,
      "outputs": [
        {
          "output_type": "stream",
          "text": [
            "hello world\n"
          ],
          "name": "stdout"
        }
      ]
    },
    {
      "cell_type": "code",
      "metadata": {
        "id": "zgUsB0-2VcKD",
        "colab_type": "code",
        "colab": {},
        "outputId": "b54726ab-f4a6-4af1-9972-dd1bf38989f6"
      },
      "source": [
        "print(np.char.split(\"hello world\"))"
      ],
      "execution_count": null,
      "outputs": [
        {
          "output_type": "stream",
          "text": [
            "['hello', 'world']\n"
          ],
          "name": "stdout"
        }
      ]
    },
    {
      "cell_type": "code",
      "metadata": {
        "id": "TkXScvasVcKH",
        "colab_type": "code",
        "colab": {},
        "outputId": "3ee89937-7fe4-4d38-e422-ee2d3d94f145"
      },
      "source": [
        "print(np.char.splitlines(\"hello\\n world\\nokay\"))"
      ],
      "execution_count": null,
      "outputs": [
        {
          "output_type": "stream",
          "text": [
            "['hello', ' world', 'okay']\n"
          ],
          "name": "stdout"
        }
      ]
    },
    {
      "cell_type": "code",
      "metadata": {
        "id": "_Jm36xkXVcKL",
        "colab_type": "code",
        "colab": {},
        "outputId": "6eccf363-6693-4ec8-fb20-bca97a9aa88d"
      },
      "source": [
        "print(np.char.strip([\"hello\", \"worldo\"], \"o\"))"
      ],
      "execution_count": null,
      "outputs": [
        {
          "output_type": "stream",
          "text": [
            "['hell' 'world']\n"
          ],
          "name": "stdout"
        }
      ]
    },
    {
      "cell_type": "code",
      "metadata": {
        "id": "2zjsDdYAVcKP",
        "colab_type": "code",
        "colab": {},
        "outputId": "4354c148-9a63-44f4-e288-58caf838dead"
      },
      "source": [
        "print(np.char.join([\":\", \"-\"], [\"dmy\",\"data\"])) "
      ],
      "execution_count": null,
      "outputs": [
        {
          "output_type": "stream",
          "text": [
            "['d:m:y' 'd-a-t-a']\n"
          ],
          "name": "stdout"
        }
      ]
    },
    {
      "cell_type": "markdown",
      "metadata": {
        "id": "qF42WrtVVcKS",
        "colab_type": "text"
      },
      "source": [
        "<h3>Other useful NumPy function</h3>"
      ]
    },
    {
      "cell_type": "code",
      "metadata": {
        "id": "4tYsOKkFVcKT",
        "colab_type": "code",
        "colab": {},
        "outputId": "3587d782-d784-43d6-a278-1086a73cbe01"
      },
      "source": [
        "#Roll axis\n",
        "\n",
        "a = np.array([(1,2,3),(3,4,5)])\n",
        "\n",
        "print(np.rollaxis(a,1,0))"
      ],
      "execution_count": null,
      "outputs": [
        {
          "output_type": "stream",
          "text": [
            "[[1 3]\n",
            " [2 4]\n",
            " [3 5]]\n"
          ],
          "name": "stdout"
        }
      ]
    },
    {
      "cell_type": "code",
      "metadata": {
        "id": "9Uzx427mVcKX",
        "colab_type": "code",
        "colab": {},
        "outputId": "f35f997d-d26d-4baf-e32a-dbd22c47766b"
      },
      "source": [
        "print(np.rollaxis(a,1))"
      ],
      "execution_count": null,
      "outputs": [
        {
          "output_type": "execute_result",
          "data": {
            "text/plain": [
              "array([[1, 3],\n",
              "       [2, 4],\n",
              "       [3, 5]])"
            ]
          },
          "metadata": {
            "tags": []
          },
          "execution_count": 88
        }
      ]
    },
    {
      "cell_type": "code",
      "metadata": {
        "id": "DdP5nCeXVcKb",
        "colab_type": "code",
        "colab": {},
        "outputId": "929a8c1d-9a72-4d18-e763-fbb67ef62827"
      },
      "source": [
        "#Swap axes\n",
        "\n",
        "np.swapaxes(a,0,1)"
      ],
      "execution_count": null,
      "outputs": [
        {
          "output_type": "execute_result",
          "data": {
            "text/plain": [
              "array([[1, 3],\n",
              "       [2, 4],\n",
              "       [3, 5]])"
            ]
          },
          "metadata": {
            "tags": []
          },
          "execution_count": 89
        }
      ]
    },
    {
      "cell_type": "code",
      "metadata": {
        "id": "XLbG8e_8VcKf",
        "colab_type": "code",
        "colab": {},
        "outputId": "887d30c9-b09f-4b57-c5a1-23f640fdc80d"
      },
      "source": [
        "#linespace function\n",
        "a = np.linspace(1,4,10)                         #generate 10 equally spaced numbers between 0 and 1\n",
        "print(a)"
      ],
      "execution_count": null,
      "outputs": [
        {
          "output_type": "stream",
          "text": [
            "[1.         1.33333333 1.66666667 2.         2.33333333 2.66666667\n",
            " 3.         3.33333333 3.66666667 4.        ]\n"
          ],
          "name": "stdout"
        }
      ]
    },
    {
      "cell_type": "code",
      "metadata": {
        "id": "W4uOTJQwVcKk",
        "colab_type": "code",
        "colab": {},
        "outputId": "8caf5ad5-fe99-44f7-c2f0-2e71da05319e"
      },
      "source": [
        "#Ravel function\n",
        "x = np.array([(1,2,3),(3,4,5)])\n",
        "print(x.ravel())"
      ],
      "execution_count": null,
      "outputs": [
        {
          "output_type": "stream",
          "text": [
            "[1 2 3 3 4 5]\n"
          ],
          "name": "stdout"
        }
      ]
    },
    {
      "cell_type": "markdown",
      "metadata": {
        "id": "3zzhOS-iVcKo",
        "colab_type": "text"
      },
      "source": [
        "<h3>Numpy Practice Questions<h3>"
      ]
    },
    {
      "cell_type": "markdown",
      "metadata": {
        "id": "nV34v9AnVcKo",
        "colab_type": "text"
      },
      "source": [
        "<div class=\"alert alert-danger\">\n",
        "<h2>Exercise 1</h2>\n",
        "Create a 6 by 6 two-dimensional array, and let 1 and 0 be placed alterantively accross the diagonals\n",
        "</div>"
      ]
    },
    {
      "cell_type": "markdown",
      "metadata": {
        "collapsed": true,
        "id": "QAts6rDrVcKp",
        "colab_type": "text"
      },
      "source": [
        "Double click <b>here</b> to see my solution.\n",
        "\n",
        "<!-- This is my code for the exercise above.\n",
        "However, note that in programming, there might be different approach to solving problems.\n",
        "You might use a different approach from mine, it doesn't matter. \n",
        "The objective is to get the desired result. \n",
        "Copy the code below and run it in another cell and compare the output with your own output.\n",
        "\n",
        "This is one approach to the problem\n",
        "\n",
        "a = np.zeros((6,6), dtype = int)\n",
        "a[1::2, ::2] = 1\n",
        "a[::2,1::2] = 1\n",
        "print(a)\n",
        "\n",
        "\n",
        "\n",
        "This is another approach to the problem\n",
        "\n",
        "b = np.ones((6,6), dtype = int)\n",
        "b[1::2, ::2] = 0\n",
        "b[::2, 1::2] = 0\n",
        "print(b)\n",
        "\n",
        "\n",
        "copy both block of codes and run them on different cells\n",
        "\n",
        "-->\n"
      ]
    },
    {
      "cell_type": "markdown",
      "metadata": {
        "id": "ndFoGzfBVcKq",
        "colab_type": "text"
      },
      "source": [
        "<div class=\"alert alert-danger\">\n",
        "<h2>Exercise 2</h2>\n",
        "Create a random array of floating point numbers. Replace some of the elements in the array with np.nan(not a number).\n",
        "Find  the total number and locations of missing values in the array. Finally, replace this missing values with \"999999\"\n",
        "</div>"
      ]
    },
    {
      "cell_type": "markdown",
      "metadata": {
        "id": "AlIg-wfLVcKq",
        "colab_type": "text"
      },
      "source": [
        "Double click <b>here</b> to see my solution.\n",
        "\n",
        "<!-- This is my code for the exercise above.\n",
        "However, note that in programming, there might be different approach to solving problems.\n",
        "You might use a different approach from mine, it doesn't matter. \n",
        "The objective is to get the desired result. \n",
        "Copy the code below and run it in another cell and compare the output with your own output.\n",
        "\n",
        "a = np.random.rand(10,10)\n",
        "a[np.random.randint(10, size = 5), np.random.randint(10, size = 5)] = np.nan\n",
        "print(\"Total number of missing values: \\n\", np.isnan(a).sum())\n",
        "print(\"Indexes  of missing values: \\n\", np.argwhere(np.isnan(a)))\n",
        "j = np.where(np.isnan(a))\n",
        "a[j]= 999999\n",
        "a\n",
        "\n",
        "\n",
        "-->\n"
      ]
    },
    {
      "cell_type": "markdown",
      "metadata": {
        "id": "TktdnlK3VcKr",
        "colab_type": "text"
      },
      "source": [
        "<div class=\"alert alert-info\">\n",
        "<p><big><big>&#128079;&#127996;</big></big>\n",
        "    <big><big>&#128079;&#127996;</big></big>  <big><big>&#128079;&#127996;</big></big>\n",
        "    <big><big>&#128079;&#127996;</big></big>  <big><big>&#128079;&#127996;</big></big>\n",
        "    <big><big>&#128079;&#127996;</big></big>  <big><big>&#128079;&#127996;</big></big>\n",
        "    <big><big>&#128079;&#127996;</big></big>   <big><big>&#128079;&#127996;</big></big>\n",
        "    <big><big>&#128079;&#127996;</big></big>   <big><big>&#128079;&#127996;</big></big>\n",
        "    <big><big>&#128079;&#127996;</big></big>   <big><big>&#128079;&#127996;</big></big>\n",
        "    <big><big>&#128079;&#127996;</big></big>   <big><big>&#128079;&#127996;</big></big>\n",
        "    <big><big>&#128079;&#127996;</big></big>   <big><big>&#128079;&#127996;</big></big>\n",
        "    <big><big>&#128079;&#127996;</big></big>    <big><big>&#128079;&#127996;</big></big>\n",
        "    <big><big>&#128079;&#127996;</big></big>    <big><big>&#128079;&#127996;</big></big>\n",
        "    <big><big>&#128079;&#127996;</big></big>    <big><big>&#128079;&#127996;</big></big>\n",
        "    <big><big>&#128079;&#127996;</big></big>    <big><big>&#128079;&#127996;</big></big>\n",
        "    <big><big>&#128079;&#127996;</big></big>     <big><big>&#128079;&#127996;</big></big>\n",
        "    <big><big>&#128079;&#127996;</big></big>     <big><big>&#128079;&#127996;</big></big>\n",
        "    <big><big>&#128079;&#127996;</big></big>     <big><big>&#128079;&#127996;</big></big>\n",
        "    </p>\n",
        "    \n",
        "<p><h2>Thumbs up for making it to the end of this notebook. You just earned the avid learner certification as well as the NumPy fundamentals certification!!!!!</h2>\n",
        " </p>\n",
        "<p><big><big>&#128079;&#127996;</big></big>\n",
        "    <big><big>&#128079;&#127996;</big></big>  <big><big>&#128079;&#127996;</big></big>\n",
        "    <big><big>&#128079;&#127996;</big></big>  <big><big>&#128079;&#127996;</big></big>\n",
        "    <big><big>&#128079;&#127996;</big></big>  <big><big>&#128079;&#127996;</big></big>\n",
        "    <big><big>&#128079;&#127996;</big></big>   <big><big>&#128079;&#127996;</big></big>\n",
        "    <big><big>&#128079;&#127996;</big></big>   <big><big>&#128079;&#127996;</big></big>\n",
        "    <big><big>&#128079;&#127996;</big></big>   <big><big>&#128079;&#127996;</big></big>\n",
        "    <big><big>&#128079;&#127996;</big></big>   <big><big>&#128079;&#127996;</big></big>\n",
        "    <big><big>&#128079;&#127996;</big></big>   <big><big>&#128079;&#127996;</big></big>\n",
        "    <big><big>&#128079;&#127996;</big></big>    <big><big>&#128079;&#127996;</big></big>\n",
        "    <big><big>&#128079;&#127996;</big></big>    <big><big>&#128079;&#127996;</big></big>\n",
        "    <big><big>&#128079;&#127996;</big></big>    <big><big>&#128079;&#127996;</big></big>\n",
        "    <big><big>&#128079;&#127996;</big></big>    <big><big>&#128079;&#127996;</big></big>\n",
        "    <big><big>&#128079;&#127996;</big></big>     <big><big>&#128079;&#127996;</big></big>\n",
        "    <big><big>&#128079;&#127996;</big></big>     <big><big>&#128079;&#127996;</big></big>\n",
        "    <big><big>&#128079;&#127996;</big></big>     <big><big>&#128079;&#127996;</big></big>\n",
        "    </p>\n",
        "\n",
        "\n",
        "</div>"
      ]
    },
    {
      "cell_type": "markdown",
      "metadata": {
        "id": "J9Ie6coLVcKs",
        "colab_type": "text"
      },
      "source": [
        "<div class=\"alert alert-info\">\n",
        "<h3>Conclusion and next step</h3>\n",
        "\n",
        "\n",
        "<p>Congrats once again for completing this notebook. What was covered in this notebook are the basics of NumPy. You can check out the <a href = https://numpy.org/devdocs/user/absolute_beginners.html>NumPy documentation</a> and other resources online to advance your knowledge of the concept.</p>\n",
        "\n",
        "</div>"
      ]
    },
    {
      "cell_type": "markdown",
      "metadata": {
        "id": "ICrcxQThVcKs",
        "colab_type": "text"
      },
      "source": [
        "<div class=\"alert alert-info\">\n",
        "<h3>Recommended resources</h3>\n",
        "<p>For other interactive notebooks:\n",
        "<ul>\n",
        "<li><a href = https://github.com/Abisola-ds/Python-Fundamentals>Python Fundamentals</a></li>\n",
        "<li><a href = >Pandas</a></li>\n",
        "<li><a href = >Matplotlib</a></li>\n",
        "<li><a href =>Scikit Learn</a></li>\n",
        "</ul>\n",
        "    \n",
        "</p>\n",
        "\n",
        "<p>To test your data science knowledge, check out:\n",
        "<li><a href = https://www.kaggle.com/>Kaggle</a></li>\n",
        "<li><a href = https://zindi.africa/>Zindi</a></li>  \n",
        "</p>\n",
        "\n",
        "<p>You can find virtual data science internships at:\n",
        "<li><a href = https://www.insidesherpa.com/>InsideSherpa</a></li>\n",
        "</p>\n",
        "\n",
        "<p>If you get stuck, <a href = https://stackoverflow.com/questions>Stack Overflow</a> is your friend. You can get answer to almost any programming question or error you encounter. You can also contribute to the platform which acts as a plus for you to land your first Python job</p>\n",
        "\n",
        "<p>Finally, join a community of data scientist where you can learn and collaborate with other data scientists</p>\n",
        "</div>"
      ]
    },
    {
      "cell_type": "markdown",
      "metadata": {
        "id": "ME9AB8sxVcKw",
        "colab_type": "text"
      },
      "source": [
        "<p>I hope you found this notebook helpful. If you have any questions or you want to collaborate, feel free to connect with me at <a href = https://www.linkedin.com/in/abisola-fikayomi>Abisola Fikayomi.</a> I am also open to constructive criticism<big><big>&#128522;</big></big>. Thank you!!!</p>"
      ]
    },
    {
      "cell_type": "markdown",
      "metadata": {
        "id": "xbZzUcQ6VcKx",
        "colab_type": "text"
      },
      "source": [
        "<div align = \"center\">Copyright &copy; 2020 <a href = https://www.linkedin.com/in/abisola-fikayomi>Abisola Fikayomi.</a></div>"
      ]
    }
  ]
}