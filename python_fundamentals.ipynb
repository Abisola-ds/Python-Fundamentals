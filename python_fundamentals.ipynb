{
  "nbformat": 4,
  "nbformat_minor": 0,
  "metadata": {
    "kernelspec": {
      "display_name": "Python 3",
      "language": "python",
      "name": "python3"
    },
    "language_info": {
      "codemirror_mode": {
        "name": "ipython",
        "version": 3
      },
      "file_extension": ".py",
      "mimetype": "text/x-python",
      "name": "python",
      "nbconvert_exporter": "python",
      "pygments_lexer": "ipython3",
      "version": "3.7.3"
    },
    "colab": {
      "name": "python_fundamentals.ipynb",
      "provenance": [],
      "collapsed_sections": [],
      "include_colab_link": true
    }
  },
  "cells": [
    {
      "cell_type": "markdown",
      "metadata": {
        "id": "view-in-github",
        "colab_type": "text"
      },
      "source": [
        "<a href=\"https://colab.research.google.com/github/Abisola-ds/Python-Fundamentals/blob/master/python_fundamentals.ipynb\" target=\"_parent\"><img src=\"https://colab.research.google.com/assets/colab-badge.svg\" alt=\"Open In Colab\"/></a>"
      ]
    },
    {
      "cell_type": "markdown",
      "metadata": {
        "id": "lY55KCN4yW3v",
        "colab_type": "text"
      },
      "source": [
        "<h1 align = center>PYTHON FUNDAMENTALS<h1>\n"
      ]
    },
    {
      "cell_type": "markdown",
      "metadata": {
        "id": "X9rB8R0qyW3y",
        "colab_type": "text"
      },
      "source": [
        "<div class=\"alert alert-info\">\n",
        "<b>\n",
        "<p>Python is a general purpose language. It can be used for web development, game development, app development, data science, machine learning, and much more. It is used across different industries for various purposes.  Python is cross platform and it’s the beginner’s choice of programming language. There are two versions of python, python 2 and python 3. Python 2 is the legacy version of python while python 3 is the future of python. The major difference between python 2 and python 3 is the syntax. Python is an interpreted language; it executes code line by line.</p>\n",
        "\n",
        "<p>Why python</p>\n",
        "<ul>\n",
        "    <li>Python is easy to use and learn. Its syntax is easily understandable and the code are readable. This makes it a first choice language for beginners. </li>\n",
        "    <li>It has a lot of amazing libraries and frameworks for different applications like data science, web development, application development, and so on</li>\n",
        "    <li>It is versatile, efficient, flexible, and reliable</li>\n",
        "<li>Python allows you to write programs in fewer lines of code than most of the programming languages.</li>\n",
        "<li>The popularity of Python is growing rapidly. </li>\n",
        "    <li>It has a supportive community. </li></ul>\n",
        "    \n",
        "<p>In this notebook, you will learn:</p>\n",
        "    <ul>\n",
        "    <li>Variables</li>\n",
        "    <li>Data types </li>\n",
        "    <li>Data structure</li>\n",
        "    <li>Conditionals</li>\n",
        "    <li>Loops</li>\n",
        "    <li>Functions</li>\n",
        "    <li>Classes</li>\n",
        "    <li>Error handling</li>\n",
        "    <li>File handling</li>\n",
        "     </ul>\n",
        "There will also be a lot of exercises and a final quiz to test your knowledge of the various concepts\n",
        "</b>\n",
        "\n",
        "Time Required: <strong>6 Hours</strong>\n",
        "</div>\n"
      ]
    },
    {
      "cell_type": "markdown",
      "metadata": {
        "id": "pra252olyW31",
        "colab_type": "text"
      },
      "source": [
        "<h3>Let's dive straight in to write our first Python program</h3>"
      ]
    },
    {
      "cell_type": "markdown",
      "metadata": {
        "id": "rgKdHVP1yW34",
        "colab_type": "text"
      },
      "source": [
        "<div class=\"alert alert-success\">\n",
        "We start with the simple \"print\" statement. A statement/expression is a piece of code that produces a value. It is the smallest executable unit within a Python program. An example of a statement is the print statement below. \n",
        "</div>"
      ]
    },
    {
      "cell_type": "code",
      "metadata": {
        "id": "RYnhxT3myW36",
        "colab_type": "code",
        "colab": {
          "base_uri": "https://localhost:8080/",
          "height": 34
        },
        "outputId": "6a70310d-198e-4a4b-b6c5-3027e3e425db"
      },
      "source": [
        "print(\"Hello world\")"
      ],
      "execution_count": 1,
      "outputs": [
        {
          "output_type": "stream",
          "text": [
            "Hello world\n"
          ],
          "name": "stdout"
        }
      ]
    },
    {
      "cell_type": "markdown",
      "metadata": {
        "id": "jgmuwq_tyW4I",
        "colab_type": "text"
      },
      "source": [
        "<div class=\"alert alert-success\">\n",
        "The keyword here is \"print\". That brings us to the defiiation of keywords. <b>Keywords</b> are reserved words/names in Python. They have a special meaning within the context of the program. \"print\" is one of such and what it simply does is that it displays whatever you write within the paraenthesis as output. \n",
        "\n",
        "<b>Note: keywords in python are case sensitive. This means \"Print\" is different from \"print\".\n",
        "Python will only recognise keywords in lower case characters</b>\n",
        "</div>"
      ]
    },
    {
      "cell_type": "markdown",
      "metadata": {
        "id": "96wDI1PdyW4K",
        "colab_type": "text"
      },
      "source": [
        "<p>Python execute code line by line so pay attention to the way you order your code</p>"
      ]
    },
    {
      "cell_type": "code",
      "metadata": {
        "id": "keUUIyUwyW4M",
        "colab_type": "code",
        "colab": {}
      },
      "source": [
        "print('*')\n",
        "print('**')\n",
        "print('***')\n",
        "print('****')\n",
        "print('*****')\n",
        "print('******')"
      ],
      "execution_count": null,
      "outputs": []
    },
    {
      "cell_type": "markdown",
      "metadata": {
        "id": "KIl1D_3ByW4a",
        "colab_type": "text"
      },
      "source": [
        "<div class=\"alert alert-danger\">\n",
        "<h2>Exercise 1</h2>\n",
        "    <p>Write a python program similar to the one above that will display the figure seven\n",
        "    </p> \n",
        "</div>"
      ]
    },
    {
      "cell_type": "code",
      "metadata": {
        "id": "_LI_LgceyW4c",
        "colab_type": "code",
        "colab": {}
      },
      "source": [
        "# Write your code in this cell and press Shift+Enter to execute \n"
      ],
      "execution_count": null,
      "outputs": []
    },
    {
      "cell_type": "markdown",
      "metadata": {
        "id": "atLzEAVYyW4r",
        "colab_type": "text"
      },
      "source": [
        "Double click <b>here</b> to see my solution.\n",
        "\n",
        "<!-- This is my code for the exercise above.\n",
        "However, note that in programming, there might be different approach to solving problems.\n",
        "You might use a different approach from mine, it doesn't matter. \n",
        "The objective is to get the desired result. \n",
        "Copy the code below and run it in another cell and compare the output with your own output.\n",
        "\n",
        "print(\"-----\")\n",
        "print(\"    /\")\n",
        "print(\"   /\")\n",
        "print(\"  /\")\n",
        "print(\" /\")\n",
        "\n",
        "-->"
      ]
    },
    {
      "cell_type": "markdown",
      "metadata": {
        "id": "Ihqz0qt_yW4t",
        "colab_type": "text"
      },
      "source": [
        "<div class=\"alert alert-danger\">\n",
        "<h2>Exercise 2</h2>\n",
        "    <p>Write a print statement that will display the following as output:\n",
        "        <ol>\n",
        "            <li>I just wrote my first print statement</li>\n",
        "            <li>100</li>\n",
        "            <li>3.142</li>\n",
        "            <li>True</li>\n",
        "        </ol>\n",
        "    </p> \n",
        "</div>"
      ]
    },
    {
      "cell_type": "code",
      "metadata": {
        "id": "7PSxjaaFyW4v",
        "colab_type": "code",
        "colab": {}
      },
      "source": [
        "# Write your code in this cell and press Shift+Enter to execute \n"
      ],
      "execution_count": null,
      "outputs": []
    },
    {
      "cell_type": "markdown",
      "metadata": {
        "id": "KeOp-jIXyW47",
        "colab_type": "text"
      },
      "source": [
        "Double click <b>here</b> to see my solution.\n",
        "\n",
        "<!-- This is my code for the exercise above.\n",
        "However, note that in programming, there might be different approach to solving problems.\n",
        "You might use a different approach from mine, it doesn't matter. \n",
        "The objective is to get the desired result. \n",
        "Copy the code below and run it in another cell and compare the output with your own output.\n",
        "\n",
        "1. print(\"I just wrote my first print statement\")\n",
        "2. print(100)\n",
        "3. print(3.142)\n",
        "4. print(True)\n",
        "\n",
        "-->"
      ]
    },
    {
      "cell_type": "markdown",
      "metadata": {
        "id": "GCeWwwbWyW49",
        "colab_type": "text"
      },
      "source": [
        "<div class=\"alert alert-success\">\n",
        "In my solution to Exercise 2, you will notice the data in the parenthesis are slightly different.\n",
        "Some were in quotes, others were not. You will understand why this is so in subsequent sections as we talk about data types.\n",
        "</div>"
      ]
    },
    {
      "cell_type": "markdown",
      "metadata": {
        "id": "ObClpjXYyW4-",
        "colab_type": "text"
      },
      "source": [
        "<h3>Comments in python</h3>"
      ]
    },
    {
      "cell_type": "markdown",
      "metadata": {
        "id": "YHx0SFcjyW5B",
        "colab_type": "text"
      },
      "source": [
        "<div class=\"alert alert-success\">\n",
        "<p>Comments are text within your codes that does not affect the outcome of a code.\n",
        "Comments are used to:\n",
        "    <li>Make your code more readable</li>\n",
        "    <li>Explain what your code does</li>\n",
        "    <li>Prevent execution when testing code. This is very useful when debugging. You comment out a line of code that has error so other block of your codes can run</li></p>\n",
        "<p>However, be careful not to populate your codes with so many comment as this might make your code cumbersome. Only include relevant and useful comments in your code.</p>\n",
        "<p>There are two ways to write comments in python. You can either write a single line comment or a multiline comment\n",
        "<li>A single line comment can only span through a line and it is written using the '#' symbol </li>\n",
        "<li>A multi line comment can span through several lines and it is written using the triple quote(''' or \"\"\") symbol</li>\n",
        "</p>\n",
        "<p>Let's look at an example of a single line comment and a multi line comment below</p>\n",
        "\n",
        "</div>"
      ]
    },
    {
      "cell_type": "code",
      "metadata": {
        "id": "GpAhc9MGyW5E",
        "colab_type": "code",
        "colab": {}
      },
      "source": [
        "#This is a single line comment. It can only span through a line. \n",
        "#If I run this line of code, it will not display anything nor affect my codes"
      ],
      "execution_count": null,
      "outputs": []
    },
    {
      "cell_type": "code",
      "metadata": {
        "id": "IA-5vXzCyW5Q",
        "colab_type": "code",
        "colab": {}
      },
      "source": [
        "\"\"\"\n",
        "This is a multi line comment\n",
        "It can span through several lines\n",
        "All I need ensure is that the comments are \n",
        "within the triple quotes and not outside of it\n",
        "\"\"\""
      ],
      "execution_count": null,
      "outputs": []
    },
    {
      "cell_type": "markdown",
      "metadata": {
        "id": "btqzYu44yW5d",
        "colab_type": "text"
      },
      "source": [
        "<div class=\"alert alert-success\">\n",
        "Note: This multiline comment is very similar to docstring so to avoid getting yourself confused, \n",
        "I would rather you use the single line comment to comment out the lines you wish to comment out. \n",
        "Interestingly, there is a keyboard shortcut that can make this easier for you. Simply highlight the lines you wish to comment out and then press 'ctrl + /' to comment out all the lines you selceted at once.\n",
        "</div>"
      ]
    },
    {
      "cell_type": "code",
      "metadata": {
        "id": "3t2PpTxSyW5f",
        "colab_type": "code",
        "colab": {}
      },
      "source": [
        "# This is a multi line comment\n",
        "# It can span through several lines"
      ],
      "execution_count": null,
      "outputs": []
    },
    {
      "cell_type": "markdown",
      "metadata": {
        "id": "AU-cV9YYyW5t",
        "colab_type": "text"
      },
      "source": [
        "<h3>Data types</h3>"
      ]
    },
    {
      "cell_type": "markdown",
      "metadata": {
        "id": "v6Enx-B-yW5u",
        "colab_type": "text"
      },
      "source": [
        "<div class=\"alert alert-success\">\n",
        "Every value in python has a data type.\n",
        "Data type is an attribute of the data that tells the python interpreter how the programmer intends to use the data.\n",
        "Data type defines:\n",
        "    <li>The meaning of the data</li>\n",
        "    <li>The operations that can be done on the data</li>\n",
        "    <li>How the data will be stored</li>\n",
        "The basic data types in python are:\n",
        "    <li>String</li>\n",
        "    <li>Integer</li>\n",
        "    <li>Float</li>\n",
        "    <li>Boolean</li>\n",
        "We will touch them in details later on in this notebook but for now, we will just look at the examples and syntax of each one of them.\n",
        "<p>Just in case you are wondering what syntax is, syntax is the structure or set of rules guiding how a program should be written. Just like we have in English language, there are rules that guides\n",
        "how to properly construct a sentence. For example, consider the sentence below:\n",
        "    <li>I am learning to code</li>\n",
        "    <li>I am learn to code</li>\n",
        "The first one is syntatically correct while the other one can be said to have a syntax error \n",
        "</p>\n",
        "<p>The same applies with python programming. You can have codes that are syntaticaly correct or codes with syntax error</p>\n",
        "<p>To learn more about the python syntax, check the <a href = https://www.python.org/dev/peps/pep-0008/>PEP 8 guidelines</a>\n",
        "The PEP 8 is a style guide of Python code specifying the rules and guidelines that define how to write a well-structured Python program. Note: Your codes could be syntatically correct and still not follw the PEP 8 guidelines. \n",
        "Infact, a code that is not only syntatically correct but also follows the PEP 8 guidelines is a said to be <b>Pythonic</b>\n",
        "</p>\n",
        "</div>"
      ]
    },
    {
      "cell_type": "markdown",
      "metadata": {
        "id": "68VbY0UGyW5w",
        "colab_type": "text"
      },
      "source": [
        "<h5>Now, lets look at example of each data types</h5>"
      ]
    },
    {
      "cell_type": "code",
      "metadata": {
        "id": "YqwljVZsyW5y",
        "colab_type": "code",
        "colab": {}
      },
      "source": [
        "print(\"I just wrote my first print statement\")\n",
        "print(100)\n",
        "print(3.142)\n",
        "print(True)"
      ],
      "execution_count": null,
      "outputs": []
    },
    {
      "cell_type": "markdown",
      "metadata": {
        "id": "m4NXjqItyW5_",
        "colab_type": "text"
      },
      "source": [
        "<div class=\"alert alert-success\">\n",
        "Now, I will use the 'type' function to check the data types of each of the data printed above \n",
        "</div>"
      ]
    },
    {
      "cell_type": "code",
      "metadata": {
        "id": "uErg27UxyW6A",
        "colab_type": "code",
        "colab": {}
      },
      "source": [
        "print(type(\"I just wrote my first print statement\"))\n",
        "print(type(100))\n",
        "print(type(3.142))\n",
        "print(type(True))"
      ],
      "execution_count": null,
      "outputs": []
    },
    {
      "cell_type": "markdown",
      "metadata": {
        "id": "JSc6N_GWyW6P",
        "colab_type": "text"
      },
      "source": [
        "<div class=\"alert alert-success\">\n",
        "So, from above, you can see they all belong to different class of data types.\n",
        "<li><b>I just wrote my first print statement</b> belongs to the <b>class 'str'</b> which is short for string</li>\n",
        "<li><b>100</b> belongs to the <b>class 'int'</b> which is short for integer</li>\n",
        "<li><b>3.142</b> belongs to the <b>class 'float'</b></li>\n",
        "<li><b>True</b> belongs to the <b>class 'bool'</b> which is short for boolean</li>\n",
        "</div>"
      ]
    },
    {
      "cell_type": "markdown",
      "metadata": {
        "id": "8gGC5RdFyW6R",
        "colab_type": "text"
      },
      "source": [
        "<div class=\"alert alert-success\">\n",
        "So, you might be wondering how did python know or recognize the different data types. \n",
        "I would discuss the syntax of each one below\n",
        "<li><b>String:</b> String is any character or text within quotes. For python interpreter to recognise your data as a string, \n",
        "you need to put it within quotes(either single quote(' '), double quotes(\" \"), or triple quotes(\"\"\" \"\"\"))</li>\n",
        "<li><b>Integer:</b> Integers are whole numbers.There is no special convention to writing them in python. \n",
        "    Example, 100, 82, -3, 67</li>\n",
        "<li><b>Float: </b>Float are simply decimal point numbers. Example are 3.142, 78.9</li>\n",
        "<li><b>Boolean:</b> Boolean is a data type that has only two possible values. i.e, it is either True or False. Note the convention here. The first letter of the boolean value should be in capital letter</li>\n",
        "</div>"
      ]
    },
    {
      "cell_type": "markdown",
      "metadata": {
        "id": "8v6KfAaDyW6T",
        "colab_type": "text"
      },
      "source": [
        "<div class=\"alert alert-danger\">\n",
        "<h2>Exercise 3</h2>\n",
        "    <p>Without uisng the type function, what are the data types of the data below :\n",
        "        <ol>\n",
        "            <li>print(\"True\")</li>\n",
        "            <li>print(45.0)</li>\n",
        "            <li>print(\"27\")</li>\n",
        "            <li>print(False)</li>\n",
        "            <li>print(90)</li>\n",
        "            <li>print(\"I love coding\")</li>\n",
        "        </ol>\n",
        "    </p> \n",
        "</div>"
      ]
    },
    {
      "cell_type": "markdown",
      "metadata": {
        "id": "s3Iiyz7tyW6W",
        "colab_type": "text"
      },
      "source": [
        "<div class=\"alert alert-success\">\n",
        "    Before checking the solution, use the type function to check the data type of each one of them\n",
        "</div>"
      ]
    },
    {
      "cell_type": "markdown",
      "metadata": {
        "id": "UAKHcfynyW6Y",
        "colab_type": "text"
      },
      "source": [
        "Double click <b>here</b> to see my solution.\n",
        "\n",
        "<!-- This is my code for the exercise above.\n",
        "However, note that in programming, there might be different approach to solving problems.\n",
        "You might use a different approach from mine, it doesn't matter. \n",
        "The objective is to get the desired result. \n",
        "Copy the code below and run it in another cell and compare the output with your own output.\n",
        "\n",
        "1. string (because it is in double quote)\n",
        "2. Float (because it is a decimal number)\n",
        "3. string (because it is in double quote)\n",
        "4. boolean (because it is one of the two values a boolean can hold)\n",
        "5. integer (because it is a whole number)\n",
        "6. string (because it is in double quote)\n",
        "\n",
        "-->"
      ]
    },
    {
      "cell_type": "markdown",
      "metadata": {
        "id": "tr4-Vh5jyW6a",
        "colab_type": "text"
      },
      "source": [
        "<div class=\"alert alert-success\">\n",
        "    Now, we are going to explore each one of them in details, looking at the operations that can be performed with the\n",
        "</div>"
      ]
    },
    {
      "cell_type": "markdown",
      "metadata": {
        "id": "XYukBLbryW6c",
        "colab_type": "text"
      },
      "source": [
        "<h4>String</h4>"
      ]
    },
    {
      "cell_type": "code",
      "metadata": {
        "id": "wASMggwIyW6d",
        "colab_type": "code",
        "colab": {}
      },
      "source": [
        "#A string is denoted using double quotes(\" \") or single quote(' ') or triple quote(''' ''') for multiline texts\n",
        "print(\"Python\")   \n",
        "\n",
        "print('Python')\n",
        "\n",
        "print('''\n",
        "Python \n",
        "is a \n",
        "general purpose language''')\n",
        "\n",
        "#using the single or double quote for multiline text will give an error. "
      ],
      "execution_count": null,
      "outputs": []
    },
    {
      "cell_type": "markdown",
      "metadata": {
        "id": "HKBHG4-4yW6u",
        "colab_type": "text"
      },
      "source": [
        "<div class=\"alert alert-success\">\n",
        "There are a couple of operations that can be performed on strings. We will explore them one after the other\n",
        "</div>"
      ]
    },
    {
      "cell_type": "markdown",
      "metadata": {
        "id": "_wB3Ds7fyW6x",
        "colab_type": "text"
      },
      "source": [
        "<div class=\"alert alert-success\">\n",
        "<b>String concatenation:</b> String concatenation is appending a string to another string. There a number of ways this can be done. We will only explore three of the common methods. \n",
        "    <li>Method 1: Using the '+' opertaion to add strings together. when we get to the actual code, you will understand better</li>\n",
        "    <li>Method 2: Using the '.format with the {}' method</li>\n",
        "    <li>Method 3: Using the '%' method</li>\n",
        "</div>"
      ]
    },
    {
      "cell_type": "code",
      "metadata": {
        "id": "2Yk17JzkyW60",
        "colab_type": "code",
        "colab": {}
      },
      "source": [
        "#Method 1: Using the '+' operation\n",
        "first_string = \"My name is Abisola\"\n",
        "second_string = \"I am a data scientist\"\n",
        "\n",
        "combined_string = first_string + second_string\n",
        "print(first_string)\n",
        "print(second_string)\n",
        "print(combined_string)\n",
        "\n",
        "#I can also combine it like below:\n",
        "another_combined_string = \"This is string conactenation: \" + first_string + \". \" + second_string\n",
        "print(another_combined_string)"
      ],
      "execution_count": null,
      "outputs": []
    },
    {
      "cell_type": "code",
      "metadata": {
        "id": "sqKP4xMyyW6_",
        "colab_type": "code",
        "colab": {}
      },
      "source": [
        "#Method 2: Using the '%' method\n",
        "first_string = \"My name is Abisola\"\n",
        "second_string = \"I am a data scientist\"\n",
        "combined_string = \"%s. %s\" % (first_string, second_string)\n",
        "print(combined_string)\n",
        "\n",
        "\n",
        "#Method 3: Using the '.format with {}'\n",
        "another_combined_string = \"This is another method of string concatenation: {}. {}\" .format(first_string, second_string)\n",
        "print(another_combined_string)"
      ],
      "execution_count": null,
      "outputs": []
    },
    {
      "cell_type": "markdown",
      "metadata": {
        "id": "IZxiyYsNyW7U",
        "colab_type": "text"
      },
      "source": [
        "<div class=\"alert alert-success\">\n",
        "There are other methods of string concatenation that we did not explore here. \n",
        "Make your research and use the one that you like.\n",
        "</div>"
      ]
    },
    {
      "cell_type": "code",
      "metadata": {
        "id": "fqdQhSz6yW7W",
        "colab_type": "code",
        "colab": {}
      },
      "source": [
        "#I'm going to apply the three methods to concatenate the strings below so you can better understand how it works\n",
        "name = \"Abisola Fikayomi\"\n",
        "career = \"Data scientist\"\n",
        "\n",
        "method_one = name + \" is a \" + career\n",
        "method_two = \"%s is a %s\" %(name, career)\n",
        "method_three = \"{} is a {}\" .format(name, career)\n",
        "print(method_one)\n",
        "print(method_two)\n",
        "print(method_three)"
      ],
      "execution_count": null,
      "outputs": []
    },
    {
      "cell_type": "markdown",
      "metadata": {
        "id": "_ex4YW-JyW7k",
        "colab_type": "text"
      },
      "source": [
        "<div class=\"alert alert-success\">\n",
        "You can see we achieved the same result with the three methods. \n",
        "So, it's up to you to decide which one you are convenient working with\n",
        "</div>"
      ]
    },
    {
      "cell_type": "markdown",
      "metadata": {
        "id": "Qdyaf-bbyW7m",
        "colab_type": "text"
      },
      "source": [
        "<div class=\"alert alert-success\">\n",
        "<b>String functions:</b> String functions allows us manipulate strings. \n",
        "We can use functions to modify our string and to also get information about our string.\n",
        "</div>"
      ]
    },
    {
      "cell_type": "code",
      "metadata": {
        "id": "aJdYxsKQyW7p",
        "colab_type": "code",
        "colab": {}
      },
      "source": [
        "name = \"Abisola Fikayomi\"\n",
        "#Common string functions are:\n",
        "\n",
        "print(name.isupper())             #To check if the string is in upper case, Returns True or Flase\n",
        "print(name.upper())               #To convert the string to upper case\n",
        "print(name.islower())             #to check of the string is in lower case, Returns True or Flase\n",
        "print(name.lower())               #To convert the string to lower case\n",
        "print(len(name))                  #Gives the length of the string\n",
        "print(name[0])                    #returns the character locateed at the index position 0. \n",
        "print(name.index(\"o\"))            #returns the index position of the first occurence of the character 'o'\n",
        "\n",
        "#Note: Python starts indexing from 0. i.e the first character has index position 0"
      ],
      "execution_count": null,
      "outputs": []
    },
    {
      "cell_type": "code",
      "metadata": {
        "id": "QHKP1CuOyW7x",
        "colab_type": "code",
        "colab": {}
      },
      "source": [
        "print(name.replace(\"a\", \"g\"))                    #replacing a charcater in the string with another \n",
        "print(name.replace(\"Fikayomi\", \"Ogundiran\"))     #replacing a word in the string with another \n",
        "\n",
        "#Note: python is case sensitive so \"fikayomi\" IS NOT the same as \"Fikayomi\""
      ],
      "execution_count": null,
      "outputs": []
    },
    {
      "cell_type": "markdown",
      "metadata": {
        "id": "sXcGr72wyW75",
        "colab_type": "text"
      },
      "source": [
        "<div class=\"alert alert-success\">\n",
        "<b>String slicing: </b>is obtaining a substring from a given string by slicing it using the index  number\n",
        "</div>"
      ]
    },
    {
      "cell_type": "code",
      "metadata": {
        "id": "WTL557jLyW76",
        "colab_type": "code",
        "colab": {}
      },
      "source": [
        "name = \"Abisola Fikayomi\"\n",
        "\n",
        "print(name[::])          #returns all the charater in the string\n",
        "print(name[:])           #returns all the charater in the string\n",
        "print(name[3:7])         #returns the third character to the 6th character(It will not include the last index(index 7 in this case))\n",
        "print(name[:4])          #returns the first four characters\n",
        "print(name[4:])          #returns a sunstring staring from character at index 4 to the last character\n",
        "print(name[:-1])         #-1 represent negative indexing and it represent the index of the last character\n",
        "print(name[-2])          #returns the second to the last cahracter\n",
        "print(name[::-1])        #this reverses a string\n",
        "print(name[::2])         #returns a substring with step size of 2\n",
        "print(name[3:14:2])      #returns a substring from index 3 to index 14 with step size of 2"
      ],
      "execution_count": null,
      "outputs": []
    },
    {
      "cell_type": "markdown",
      "metadata": {
        "id": "W8QGqS0vyW8C",
        "colab_type": "text"
      },
      "source": [
        "<div class=\"alert alert-success\">\n",
        "There are diverse ways you can slice a string depending on what you want to achieve. \n",
        "Just bear in mind the following when slicing string:\n",
        "    <li>Indexing in python start from 0. i.e the first caharacter has an index of 0</li>\n",
        "    <li>We can also use negative indexing in python. Index of -1 represent the last character, index of -2 represent the second character, and so on </li>\n",
        "    <li>When we use double column, we can specify the step size. i.e [::3] will iterate through the characters in the string with step size of 3</li>\n",
        "    <li>You can also specify the start index, end index, and step size uisng [start index:end index:step size]. E.g [3:10:2]</li>\n",
        "</div>"
      ]
    },
    {
      "cell_type": "markdown",
      "metadata": {
        "id": "1pMKeEroyW8D",
        "colab_type": "text"
      },
      "source": [
        "<h4>Escape cahracter and escape sequence</h4>"
      ]
    },
    {
      "cell_type": "markdown",
      "metadata": {
        "id": "K7IKuAliyW8F",
        "colab_type": "text"
      },
      "source": [
        "<div class=\"alert alert-success\">\n",
        "To insert characters that are illegal in a string, you use an escape character.\n",
        "An escape character is a <b>backslash (\\)</b> followed by the character you want to insert.\n",
        "The combination of a backslash and a character is called <b>escape sequence</b>\n",
        "\n",
        "Examples of an illegal character are:\n",
        "<li>A double quote inside a string that is surrounded by double quotes</li>\n",
        "<li>A single quote inside a string that is surrounded by single quotes</li>\n",
        "We would explore some of the common escape sequences in python below"
      ]
    },
    {
      "cell_type": "code",
      "metadata": {
        "id": "SBODk-E7yW8G",
        "colab_type": "code",
        "colab": {}
      },
      "source": [
        "# \\n is used to create a newline\n",
        "print(\"Data\\nScience\")\n",
        "\n",
        "# \\\" is used to add a double quote within a double quoted string\n",
        "print(\"Data\\\"Science\\\"\")\n",
        "\n",
        "# \\' is used to add a single quote within a single quoted string\n",
        "print('Data\\'Science\\'')\n",
        "\n",
        "\n",
        "# \\\\ is used to add a backslash in a string\n",
        "print(\"Data\\\\Science\")"
      ],
      "execution_count": null,
      "outputs": []
    },
    {
      "cell_type": "markdown",
      "metadata": {
        "id": "WybG0UnQyW8R",
        "colab_type": "text"
      },
      "source": [
        "<h3>Working with numbers</h3>"
      ]
    },
    {
      "cell_type": "markdown",
      "metadata": {
        "id": "Hj5v08x3yW8T",
        "colab_type": "text"
      },
      "source": [
        "<div class=\"alert alert-success\">\n",
        "When we discussed the data types earlier, you will notice that two of them deal with numbers. This are:\n",
        "    <li><b>Integers</b> which deals with whole numbers</li>\n",
        "    <li><b>Float</b> which deals with decimal numbers</li>\n",
        "In this section, we would explore the basic operations we can perform with numbers. Most of the operations we perform on numbers are majorly arithmetic operations. The arithmetic operators in python are:\n",
        "    <li><b>+</b> is used to perform addition operation</li>\n",
        "    <li><b>-</b> is used to perform subtraction operation</li>\n",
        "    <li><b>*</b> is used to perform multiplication operation</li>\n",
        "    <li><b>/</b> is used to perform division operation</li>\n",
        "    <li><b>**</b> is used to perform exponential operation</li>\n",
        "    <li><b>%</b> will give the remainder of a divison operation</li>\n",
        "    Also, just like we have BODMAS in Algebra, We have <b>PEMDAS</b> in python which is used to specify the order of execution of operation. \n",
        "    <div><p ><b>P stands for Parenthesis</b></p>\n",
        "    <p ><b>E stands for Exponential</b></p>\n",
        "    <p ><b>M stands for Multiplication</b></p>\n",
        "    <p ><b>D stands for Division</b></p>\n",
        "    <p><b>A stands for Addition</b></p>\n",
        "    <p><b>S stands for Subtraction</b></p></div>\n",
        "</div>\n"
      ]
    },
    {
      "cell_type": "code",
      "metadata": {
        "id": "NtQRhqkzyW8W",
        "colab_type": "code",
        "colab": {}
      },
      "source": [
        "print(7+4.8)                #Addition\n",
        "print(12-9.8)               #Subtraction\n",
        "print(7*10)                 #Multiplication\n",
        "print(10/4)                 #Division\n",
        "print(10%4)                 #Returns reminder\n",
        "print(2**3)                 #Returns the computaion of 2 raise to the power of 3(2*2*2)\n",
        "print(7*(4.8+0.2))          #Using paranthesis to specify order of opertaion. "
      ],
      "execution_count": null,
      "outputs": []
    },
    {
      "cell_type": "code",
      "metadata": {
        "id": "CnkRLqkWyW8x",
        "colab_type": "code",
        "colab": {}
      },
      "source": [
        "#We can also manipulate numbers using number functions\n",
        "print(abs(-10))                  #Returns the absolute value of a number\n",
        "print(pow(10,2))                 #Performs 10 raise to power of 2(i.e 10*10)\n",
        "print(max(4,8,9,2,5))            #Returns the hihgest number\n",
        "print(min(4,8,9,2,5))            #Returns the lowest number\n",
        "print(round(3.2))                #rounds a number up or down"
      ],
      "execution_count": null,
      "outputs": []
    },
    {
      "cell_type": "markdown",
      "metadata": {
        "id": "mqtWCsKHyW84",
        "colab_type": "text"
      },
      "source": [
        "<div class=\"alert alert-success\">\n",
        "There are also some other math functions which are not available by default. \n",
        "To use them, you have to import the math function\n",
        "</div>"
      ]
    },
    {
      "cell_type": "code",
      "metadata": {
        "id": "JRoJ86xsyW86",
        "colab_type": "code",
        "colab": {}
      },
      "source": [
        "from math import *                 #Importing the math module which porovides a handful of math functions\n",
        "\n",
        "print(floor(4.9))                  #Always rounds the number down\n",
        "print(ceil(4.3))                   #Always round the number up \n",
        "print(sqrt(64))                    #Gives square root of a number"
      ],
      "execution_count": null,
      "outputs": []
    },
    {
      "cell_type": "markdown",
      "metadata": {
        "id": "G-_Ux9Y9yW9D",
        "colab_type": "text"
      },
      "source": [
        "<div class=\"alert alert-success\">\n",
        "This is just a tip of the ice berg what you can do with the math functions. You can check <a href = https://docs.python.org/3/library/math.html>math</a> for other capability\n",
        "</div>"
      ]
    },
    {
      "cell_type": "markdown",
      "metadata": {
        "id": "fsAY_3bQyW9F",
        "colab_type": "text"
      },
      "source": [
        "<h3>Type conversion</h3>"
      ]
    },
    {
      "cell_type": "markdown",
      "metadata": {
        "id": "n7nuPoDGyW9G",
        "colab_type": "text"
      },
      "source": [
        "<div class=\"alert alert-success\">\n",
        "Now that we have explored the different data types, it is also important for you to know that you can convert from one data type to another. This is called <b>type conversion.</b> This is important because there are situations where the data available might not be in the foramt you want to work with. Type conversion/type casting will come in handy in such situations. "
      ]
    },
    {
      "cell_type": "code",
      "metadata": {
        "id": "Lyny1LC4yW9I",
        "colab_type": "code",
        "colab": {}
      },
      "source": [
        "year = \"2004\"\n",
        "age = 17\n",
        "balance = 365.86\n",
        "is_female = True\n",
        "is_male = \"False\"\n",
        "#I will print the data types of the data above\n",
        "print(type(year))\n",
        "print(type(age))\n",
        "print(type(balance))\n",
        "print(type(is_female))\n",
        "print(type(is_male))"
      ],
      "execution_count": null,
      "outputs": []
    },
    {
      "cell_type": "markdown",
      "metadata": {
        "id": "LFc5uOq0yW9T",
        "colab_type": "text"
      },
      "source": [
        "<div class=\"alert alert-success\">\n",
        "So you can see the data types each belongs to. We will be converting them to another data type as we will see below. \n",
        "However, bear in mind the following when doing type conversion.\n",
        "<li><b>You can convert any of the other data types to string </b></li>\n",
        "<li><b>Only strings that are numbers can be conveted to either integer of float </b></li>\n",
        "<li><b>You can only convert a string that has a 'True' or 'False' value to  boolean</b></li>\n",
        "</div>"
      ]
    },
    {
      "cell_type": "code",
      "metadata": {
        "id": "-6cO4bXiyW9V",
        "colab_type": "code",
        "colab": {}
      },
      "source": [
        "#Converting from other data types to string\n",
        "print(type(str(age)))\n",
        "print(type(str(balance)))\n",
        "print(type(str(is_female)))\n",
        "print(type(str(is_male)))"
      ],
      "execution_count": null,
      "outputs": []
    },
    {
      "cell_type": "markdown",
      "metadata": {
        "id": "eNPm9GX0yW9i",
        "colab_type": "text"
      },
      "source": [
        "<div class=\"alert alert-success\">\n",
        "Now, all the variables are string variables. All I did was use the <b>'str'</b> keyword\n",
        "</div>"
      ]
    },
    {
      "cell_type": "code",
      "metadata": {
        "id": "mURGCEI2yW9j",
        "colab_type": "code",
        "colab": {}
      },
      "source": [
        "#Converting from string to integer.\n",
        "\n",
        "#Remember the rule: only strings that are numbers can be conveted to integer\n",
        "#Our year variable is a string that contain number, so it can be converted to an integer or float\n",
        "\n",
        "print(type(int(year)))\n",
        "\n",
        "#Converting from string to integer.\n",
        "\n",
        "print(type(float(year)))"
      ],
      "execution_count": null,
      "outputs": []
    },
    {
      "cell_type": "markdown",
      "metadata": {
        "id": "_50uLlCWyW9v",
        "colab_type": "text"
      },
      "source": [
        "<div class=\"alert alert-success\">\n",
        "I was able to convert my string value(\"2004\") to integer and float using the <b>'int'</b>\n",
        "and the <b>'float' </b>keyword respectively\n",
        "</div>"
      ]
    },
    {
      "cell_type": "code",
      "metadata": {
        "id": "8v3pJu9kyW9x",
        "colab_type": "code",
        "colab": {}
      },
      "source": [
        "#Converting from string to boolean\n",
        "\n",
        "#You will notice that our 'is_male' variable is a string even though it holds a boolean value.\n",
        "#This is because it was written within the double quote. \n",
        "#Now, we will convert it to boolean using the 'bool' keyword\n",
        "\n",
        "print(type(bool(is_male)))"
      ],
      "execution_count": null,
      "outputs": []
    },
    {
      "cell_type": "markdown",
      "metadata": {
        "id": "jArP6Ee9yW94",
        "colab_type": "text"
      },
      "source": [
        "<h3>Variables</h3>"
      ]
    },
    {
      "cell_type": "markdown",
      "metadata": {
        "id": "ih2foAZWyW95",
        "colab_type": "text"
      },
      "source": [
        "<div class=\"alert alert-success\">\n",
        "Variables are containers used to hold values. You use the assignment operator(=) to assign values to variable. For example, age = 20\n",
        "Note:\n",
        "<li>when choosing a variable name, use a name that is meaningful and denotes the value the variable is holding. For example, use sex = \"Female\" instaed of b = \"Female\"</li>\n",
        "    <li>When naming your variable, follow the <a href = https://www.python.org/dev/peps/pep-0008/>PEP 8 standard</a>. The PEP 8 standard for naming variables is that you write variable names in lower cases and you separate varaible name with an underscore. For example, my_name = \"Abisola\"</li>\n",
        "\n",
        "<p>Variables can hold any data type and can be used to reference the value which it holds.</p>"
      ]
    },
    {
      "cell_type": "code",
      "metadata": {
        "id": "31c-r8msyW96",
        "colab_type": "code",
        "colab": {}
      },
      "source": [
        "my_name = \"Abisola\"\n",
        "my_gender = \"Female\"\n",
        "my_age = 23\n",
        "can_code = True\n",
        "\n",
        "#Now I can use the values by referencing the variables that holds them\n",
        "\n",
        "print(\"My name is \" + my_name)\n",
        "print(\"I am a \" + my_gender)\n",
        "print(\"I am \" + str(my_age) + \" years old\")\n",
        "print(\"Can code:\" + str(can_code))"
      ],
      "execution_count": null,
      "outputs": []
    },
    {
      "cell_type": "markdown",
      "metadata": {
        "id": "5gK5j2vgyW-H",
        "colab_type": "text"
      },
      "source": [
        "<div class=\"alert alert-success\">\n",
        "    <p>Using variables to hold your value allows you to easily update your code.</p> \n",
        "<p><b>Imagine a scenerio where I have a block of text where my_name(\"Abisola\") appeared 100 times.\n",
        "If I need to change my_name to \"Fikayomi\" in the future, \n",
        "all I simply do is update the value in my_name to Fikayomi. \n",
        "    It will automatically replace the old value with the new value anywhere it appears in my code.</b></p>\n",
        "<p>This will save me a lot of time and stress of having to change it manually. \n",
        "    This is the power of using variables</p></div>"
      ]
    },
    {
      "cell_type": "code",
      "metadata": {
        "id": "USHze1JXyW-I",
        "colab_type": "code",
        "colab": {}
      },
      "source": [
        "Name = \"Abisola\"\n",
        "print(Name + \" is a data scientist. \" + Name +  \" is skilled in python, power BI, Tableau, nad other data science tools\")\n"
      ],
      "execution_count": null,
      "outputs": []
    },
    {
      "cell_type": "code",
      "metadata": {
        "id": "FKk-ge18yW-R",
        "colab_type": "code",
        "colab": {}
      },
      "source": [
        "Name = \"Fikayomi\"\n",
        "print(Name + \" is a data scientist. \" + Name +  \" is skilled in python, power BI, Tableau, nad other data science tools\")\n"
      ],
      "execution_count": null,
      "outputs": []
    },
    {
      "cell_type": "markdown",
      "metadata": {
        "id": "5ab8AbfwyW-Y",
        "colab_type": "text"
      },
      "source": [
        "<h3>Getting user input</h3>"
      ]
    },
    {
      "cell_type": "markdown",
      "metadata": {
        "id": "YScIV46fyW-Z",
        "colab_type": "text"
      },
      "source": [
        "<div class=\"alert alert-success\">\n",
        "<p>Getting information from the user can make your program more interactive. In most real life sceneraios, our program needs to get information from the user before it can execute the remaining part of the program. For example, you need to get the user's name and password before your program can check if he/she has access to log in.</p>\n",
        "<p>So, in this section, we would be getting information from the user and also use the information gotten in our program. We use the <b>'input'</b> function to get information from the user</p>\n",
        "</div>"
      ]
    },
    {
      "cell_type": "code",
      "metadata": {
        "id": "TATzo8RlyW-b",
        "colab_type": "code",
        "colab": {}
      },
      "source": [
        "Name = input(\"Enter your name: \")\n",
        "Age = input(\"Enter your age: \")\n",
        "\n",
        "#Now, we will use the information gotten from user in our program as shown below\n",
        "print(\"Hello \" + Name + \". I can see you are \" + Age + \" years old\")      "
      ],
      "execution_count": null,
      "outputs": []
    },
    {
      "cell_type": "markdown",
      "metadata": {
        "id": "1hvVfKHoyW-q",
        "colab_type": "text"
      },
      "source": [
        "<div class=\"alert alert-success\">\n",
        "Note: All input gotten from users(numbers, boolean, or text) is stored as a string. If you want it as a boolean, int, or float, you have to convert it using <b>type conversion</b> which we have treated above\n",
        "</div>"
      ]
    },
    {
      "cell_type": "markdown",
      "metadata": {
        "id": "jtMED8ZpyW-r",
        "colab_type": "text"
      },
      "source": [
        "<div class=\"alert alert-danger\">\n",
        "<h2>Exercise 4</h2>\n",
        "<p>Build a program that:\n",
        "<li>Would accept a user's name and date of birth </li>\n",
        "<li>Calculate the user's age from his date of birth</li>\n",
        "<li>Display the information below to the user:</li>\n",
        "Hi, \"user's name\". You were born in \"date of birth\". So, your current age is \"calculated age\"\n",
        "</div>"
      ]
    },
    {
      "cell_type": "markdown",
      "metadata": {
        "id": "sysQUQl2yW-t",
        "colab_type": "text"
      },
      "source": [
        "Double click <b>here</b> to see my solution.\n",
        "\n",
        "<!-- This is my code for the exercise above.\n",
        "However, note that in programming, there might be different approach to solving problems.\n",
        "You might use a different approach from mine, it doesn't matter. \n",
        "The objective is to get the desired result. \n",
        "Copy the code below and run it in another cell and compare the output with your own output.\n",
        "\n",
        "username = input(\"Enter your name: \")\n",
        "date_of_birth = input(\"Enter your date of birth: \")\n",
        "\n",
        "calculated_age = 2020 - int(date_of_birth)\n",
        "\n",
        "print(\"Hi, {}. You were born in {}. So, your current age is {}\".format(username, date_of_birth, calculated_age))\n",
        "\n",
        "-->"
      ]
    },
    {
      "cell_type": "markdown",
      "metadata": {
        "id": "P2vo1xdpyW-u",
        "colab_type": "text"
      },
      "source": [
        "<h3>Data structures</h3>"
      ]
    },
    {
      "cell_type": "markdown",
      "metadata": {
        "id": "pNy-yGcNyW-x",
        "colab_type": "text"
      },
      "source": [
        "<div class=\"alert alert-success\">\n",
        "<p>Data structures are a kind of structure to hold your data. they are used to store collection of related data.</p>\n",
        "<p>There are four built-in data structures in python which are:</p>\n",
        "<b><li>List</li>\n",
        "<li>Tuples</li>\n",
        "<li>Set</li>\n",
        "<li>Dictionary</li></b>\n",
        "<p>We would explore each of them in deatils in subsequent sections</p>\n",
        "</div>"
      ]
    },
    {
      "cell_type": "markdown",
      "metadata": {
        "id": "YPuvsUEYyW-z",
        "colab_type": "text"
      },
      "source": [
        "<h4>List</h4>"
      ]
    },
    {
      "cell_type": "markdown",
      "metadata": {
        "id": "BxT5bnm-yW-0",
        "colab_type": "text"
      },
      "source": [
        "<div class=\"alert alert-success\">\n",
        "<p>A list is a data structure that holds an ordered colection of data. \n",
        "Think of a list like a shopping list which holds the collection of items you have to buy in a specific order.\n",
        "So, we say a list is <i><b>ordered</b></i></p>\n",
        "<p>A list can contain any kind of data(string, numbers, boolean, another list , or even other data structure) so we say a list \n",
        "is <i><b>heterogenous</b></i></p>\n",
        "<p>Just like a shoping list, a python list can be modified. \n",
        "You can add, remove, sort, search, or change items in a list. So, we say a list is <i><b>mutable</b></i></p>\n",
        "<p>In conclusion, the 3 major characteristics of a list are:</p>\n",
        "<b><li>A list is heterogenous</li>\n",
        "<li>A list is ordered</li>\n",
        "    <li>A list is mutable</li></b>\n",
        "    <p>A list is created using the <b>square bracket []</b></p> \n",
        "    <p>In this section, we would explore the different properties of a list</p>\n",
        "</div>"
      ]
    },
    {
      "cell_type": "code",
      "metadata": {
        "id": "UY2yVJbPyW-2",
        "colab_type": "code",
        "colab": {}
      },
      "source": [
        "favorite_fruits = [\"Mango\", \"Orange\", \"Pineapaple\", \"Banana\"]\n",
        "numbers = [2,7,4,9,3,0,4,1,6,8,3]\n",
        "print(favorite_fruits)\n",
        "print(numbers)"
      ],
      "execution_count": null,
      "outputs": []
    },
    {
      "cell_type": "code",
      "metadata": {
        "id": "SLMSSqVVyW-_",
        "colab_type": "code",
        "colab": {}
      },
      "source": [
        "#You can access elemnet of a list using indexing and slicing as shown below\n",
        "\n",
        "print(favorite_fruits[0])      #gives the first item in the list\n",
        "print(favorite_fruits[-1])     #gives the last item in the list\n",
        "print(favorite_fruits[1:])     #gives the item starting from index 1 to the last element\n",
        "print(favorite_fruits[:2])     #gives the  item starting from index 0 to index 1.(Note: it wont include the element in index 2)\n",
        "print(favorite_fruits[1:3])    #gives the item starting from index 1 to index 2. \n"
      ],
      "execution_count": null,
      "outputs": []
    },
    {
      "cell_type": "code",
      "metadata": {
        "id": "YHf77VikyW_V",
        "colab_type": "code",
        "colab": {}
      },
      "source": [
        "#You can use index position to modify values in a list\n",
        "favorite_fruits[0] = \"Lime\"     #This will change \"Mango\" to \"Lime\"\n",
        "print(favorite_fruits)\n",
        "\n",
        "numbers[0:3] = [1,2,3]          #change the first 3 items in the number list to 1,2, and 3 respectively\n",
        "print(numbers)"
      ],
      "execution_count": null,
      "outputs": []
    },
    {
      "cell_type": "markdown",
      "metadata": {
        "id": "AnABK8lWyW_p",
        "colab_type": "text"
      },
      "source": [
        "<h5>List Functions</h5>"
      ]
    },
    {
      "cell_type": "code",
      "metadata": {
        "id": "vb7YHVNPyW_q",
        "colab_type": "code",
        "colab": {}
      },
      "source": [
        "#The '.extend' function takes a list and adds the items in another list to the end of it\n",
        "\n",
        "favorite_fruits.extend(numbers)                \n",
        "print(favorite_fruits)"
      ],
      "execution_count": null,
      "outputs": []
    },
    {
      "cell_type": "code",
      "metadata": {
        "id": "_dkGsMP1yW_9",
        "colab_type": "code",
        "colab": {}
      },
      "source": [
        "#The '.append' function adds a new item to the end of the list\n",
        "\n",
        "favorite_fruits.append(\"Coconut\")              \n",
        "print(favorite_fruits)\n",
        "\n",
        "favorite_fruits.append(\"Almond\")              \n",
        "print(favorite_fruits)\n",
        "\n",
        "favorite_fruits.append(\"Coconut\")              \n",
        "print(favorite_fruits)\n",
        "\n",
        "favorite_fruits.append(\"Lemon\")              \n",
        "print(favorite_fruits)"
      ],
      "execution_count": null,
      "outputs": []
    },
    {
      "cell_type": "code",
      "metadata": {
        "id": "TKB_j7u6yXAO",
        "colab_type": "code",
        "colab": {}
      },
      "source": [
        "#The '.insert' function inserts a new item in the specified index  \n",
        "\n",
        "favorite_fruits.insert(10, \"Lemon\") \n",
        "print(favorite_fruits)"
      ],
      "execution_count": null,
      "outputs": []
    },
    {
      "cell_type": "code",
      "metadata": {
        "id": "F6_BuYziyXAX",
        "colab_type": "code",
        "colab": {}
      },
      "source": [
        "#The '.remove' function removes the specified item from the list\n",
        "\n",
        "favorite_fruits.remove(\"Lemon\")             \n",
        "print(favorite_fruits)"
      ],
      "execution_count": null,
      "outputs": []
    },
    {
      "cell_type": "code",
      "metadata": {
        "id": "5Cau55dLyXAi",
        "colab_type": "code",
        "colab": {}
      },
      "source": [
        "#The '.pop' function removes the last item in the list\n",
        "print(favorite_fruits)\n",
        "favorite_fruits.pop()                          \n",
        "print(favorite_fruits)\n",
        "\n",
        "favorite_fruits.pop()             \n",
        "print(favorite_fruits)"
      ],
      "execution_count": null,
      "outputs": []
    },
    {
      "cell_type": "code",
      "metadata": {
        "id": "WgkZY6C_yXAt",
        "colab_type": "code",
        "colab": {}
      },
      "source": [
        "#The '.count' counts the number of times an item occurs in a list\n",
        "print(favorite_fruits.count(3))   \n",
        "print(favorite_fruits.count(\"Coconut\")) \n",
        "print(favorite_fruits.count(\"1\"))    #This will return 0 because the 1 in the list is an integer not a string"
      ],
      "execution_count": null,
      "outputs": []
    },
    {
      "cell_type": "code",
      "metadata": {
        "id": "298Vnda0yXA8",
        "colab_type": "code",
        "colab": {}
      },
      "source": [
        "#The '.sort' function will sort the items in a list\n",
        "\n",
        "numbers.sort()          \n",
        "print(numbers)\n",
        "\n",
        "#By default, the sort function will sort in ascending order, to change the order, you set reverse= True\n",
        "numbers.sort(reverse = True)          \n",
        "print(numbers)\n",
        "\n",
        "#The sort functions also works with strings as shown below\n",
        "vowels = [\"e\", \"u\", \"a\", 'i', \"o\"]\n",
        "vowels.sort()          \n",
        "print(vowels)"
      ],
      "execution_count": null,
      "outputs": []
    },
    {
      "cell_type": "code",
      "metadata": {
        "id": "nGCkJ461yXBC",
        "colab_type": "code",
        "colab": {}
      },
      "source": [
        "#The '.reverse' function simply reverses the order of items in a list\n",
        "\n",
        "numbers.reverse()           \n",
        "print(numbers)\n",
        "\n",
        "vowels.reverse()           \n",
        "print(vowels)"
      ],
      "execution_count": null,
      "outputs": []
    },
    {
      "cell_type": "code",
      "metadata": {
        "id": "T4jcIhvzyXBK",
        "colab_type": "code",
        "colab": {}
      },
      "source": [
        "#The '.copy' function copies the item in a list to another list\n",
        "\n",
        "new_list = favorite_fruits.copy() \n",
        "print(favorite_fruits)\n",
        "print(new_list)"
      ],
      "execution_count": null,
      "outputs": []
    },
    {
      "cell_type": "code",
      "metadata": {
        "id": "jmyIhJRVyXBT",
        "colab_type": "code",
        "colab": {}
      },
      "source": [
        "#The '.clear' function deletes all the item in a list\n",
        "\n",
        "favorite_fruits.clear()         \n",
        "print(favorite_fruits)"
      ],
      "execution_count": null,
      "outputs": []
    },
    {
      "cell_type": "code",
      "metadata": {
        "id": "k-DEuxa2yXBj",
        "colab_type": "code",
        "colab": {}
      },
      "source": [
        "#The 'len' function is used to get the number of items in the list\n",
        "\n",
        "print(len(vowels))\n",
        "print(len(favorite_fruits))\n",
        "print(len(numbers))"
      ],
      "execution_count": null,
      "outputs": []
    },
    {
      "cell_type": "markdown",
      "metadata": {
        "id": "HoKqxKXQyXBu",
        "colab_type": "text"
      },
      "source": [
        "<div class=\"alert alert-danger\">\n",
        "<h2>Exercise 5</h2>\n",
        "<p>Create a <b>'wish list'</b> of things you want and perform the following list operations on them: </p>\n",
        "<p><b>\n",
        "<li>Display the number on items in your wish list</li>\n",
        "<li>List the items in your wish list</li>\n",
        "<li>Your dad gave you the last item in your wish list, display this information</li>\n",
        "<li>Display the remaining items in your wish list</li>\n",
        "<li>Sort your wish list in order of priority(descending order)</li>\n",
        "<li>You had another  wish list you just wrote, add this to your previous wish list</li>\n",
        "<li>You have finally gotten all the items in your wish list, now you can clear all the items in your wish list</li>\n",
        "\n",
        "</b></p>\n",
        "</div>"
      ]
    },
    {
      "cell_type": "markdown",
      "metadata": {
        "id": "F1k6Jlm9yXBy",
        "colab_type": "text"
      },
      "source": [
        "Double click <b>here</b> to see my solution.\n",
        "\n",
        "<!-- This is my code for the exercise above.\n",
        "However, note that in programming, there might be different approach to solving problems.\n",
        "You might use a different approach from mine, it doesn't matter. \n",
        "The objective is to get the desired result. \n",
        "Copy the code below and run it in another cell and compare the output with your own output.\n",
        "\n",
        "\n",
        "\n",
        "\n",
        "wish_list = [\"laptop\", \"phone\", \"book\", \"shoe\", \"ear pod\", \"makeup kit\",\"bag\",\"car\"]\n",
        "print(\"I have \" +str(len(wish_list)) + \" items in my wish list\" )\n",
        "\n",
        "print(\"\")\n",
        "\n",
        "print(\"The items in my wish list are: \", wish_list )\n",
        "\n",
        "print(\"\")\n",
        "\n",
        "print(\"My dad just gave me a \" + wish_list[-1])\n",
        "\n",
        "print(\"\")\n",
        "\n",
        "wish_list.pop()\n",
        "print(\"Now the items in my wish list are: \", wish_list)\n",
        "\n",
        "\n",
        "print(\"\")\n",
        "\n",
        "wish_list.sort(reverse = True)\n",
        "print(\"These are the items in my wish list in order of prefernce: \" , wish_list)\n",
        "\n",
        "print(\"\")\n",
        "\n",
        "another_wish_list = [\"wrist-watch\", \"guitar\", \"perfume\"]\n",
        "print(\"I have \" +str(len(another_wish_list)) + \" additional items I want to add to my wish list\" )\n",
        "print(\"These items are: \", another_wish_list)\n",
        "\n",
        "print(\"\")\n",
        "\n",
        "wish_list.extend(another_wish_list)\n",
        "print(\"Now, the items in my wish list are:\", wish_list )\n",
        "\n",
        "print(\"\")\n",
        "\n",
        "wish_list.clear()\n",
        "print(\"Finally I have gotten all the items in my wish list. Now, I have \"  +str(len(wish_list)) + \" items in my wish list\" )\n",
        "\n",
        "\n",
        "\n",
        "-->"
      ]
    },
    {
      "cell_type": "markdown",
      "metadata": {
        "id": "xnzTtGJmyXB6",
        "colab_type": "text"
      },
      "source": [
        "<h4>Tuples</h4>"
      ]
    },
    {
      "cell_type": "markdown",
      "metadata": {
        "id": "-8xhiAvuyXB7",
        "colab_type": "text"
      },
      "source": [
        "<div class=\"alert alert-success\">\n",
        "<p>A tuple is a data structure that holds a collection of data. \n",
        "A tuple like a list is <i><b>ordered</b></i>. A tuple can also contain any kind of data(string, numbers, boolean, another list, or even other data structure) so we say a tuple is <i><b>heterogenous</b></i></p>\n",
        "<p>However, unlike a lsit, a tuple cannot be modified. This is the major difference between a list and a tuple\n",
        "A tuple is <i><b>immutable</b></i>.</p> <p> In conclusion, if you want a data structure with items that you don't want to be modified, then you should go for a tuple. Example is a co-ordinate. A tuple is created using the <b>paranthesis ()</b></p> \n",
        "<p>In this section, we would explore the different properties of a tuple. You can perform every operation that can be performed on a list on a tuple <b>except</b> the ones that modify items. Operations like pop, remove, insert, append, extend, sort, clear, reverse cannot be done with a tuple.</p>\n",
        "</div>"
      ]
    },
    {
      "cell_type": "code",
      "metadata": {
        "id": "P_CEIRBVyXB8",
        "colab_type": "code",
        "colab": {}
      },
      "source": [
        "first_five_elements = (\"Hydrogen\", \"Helium\", \"Lithium\", \"Beryllium\", \"Boron\")\n",
        "next_five_elements = (\"Carbon\", \"Nitrogen\", \"Oxygen\", \"Flourine\", \"Neon\")\n",
        "\n",
        "#You cannot combine two tuples together using the '.extend' function.\n",
        "#However, you can create a new tuple which is going to be a tuple of tuples\n",
        "\n",
        "first_ten_elements = first_five_elements, next_five_elements\n",
        "print(first_ten_elements)"
      ],
      "execution_count": null,
      "outputs": []
    },
    {
      "cell_type": "code",
      "metadata": {
        "id": "dqTjMjECyXCH",
        "colab_type": "code",
        "colab": {}
      },
      "source": [
        "#You can access elements of a tuple using indexing and slicing just like a list\n",
        "\n",
        "print(first_five_elements[0])     \n",
        "print(first_five_elements[-1])     \n",
        "print(next_five_elements[1:])     \n",
        "print(next_five_elements[:2])     \n",
        "print(next_five_elements[1:3]) \n"
      ],
      "execution_count": null,
      "outputs": []
    },
    {
      "cell_type": "code",
      "metadata": {
        "id": "IIwFjtavyXCW",
        "colab_type": "code",
        "colab": {}
      },
      "source": [
        "print(first_ten_elements[0])     \n",
        "print(first_ten_elements[-1]) \n"
      ],
      "execution_count": null,
      "outputs": []
    },
    {
      "cell_type": "code",
      "metadata": {
        "id": "9YISRQ3PyXC9",
        "colab_type": "code",
        "colab": {}
      },
      "source": [
        "#You can also do a nested indexing to reference items inside the inner tuple\n",
        "\n",
        "print(first_ten_elements[0][0])          #Returns the first inner element of the the first outer element\n",
        "print(first_ten_elements[1][-1])         #Returns the last inner element of the second outer element"
      ],
      "execution_count": null,
      "outputs": []
    },
    {
      "cell_type": "code",
      "metadata": {
        "id": "qanrbZSHyXDG",
        "colab_type": "code",
        "colab": {}
      },
      "source": [
        "#You can check the length of a tuple using the 'len' function \n",
        "\n",
        "print(len(first_five_elements))\n",
        "print(len(next_five_elements))\n",
        "print(len(first_ten_elements))\n"
      ],
      "execution_count": null,
      "outputs": []
    },
    {
      "cell_type": "markdown",
      "metadata": {
        "id": "UNzK8PGLyXDS",
        "colab_type": "text"
      },
      "source": [
        "<div class=\"alert alert-success\">\n",
        "The 'first_ten_element' returned a length of 2 because each tuple is seen as a single element in the new tuple.\n",
        "I will demonstrate this with an example below\n",
        "</div>"
      ]
    },
    {
      "cell_type": "code",
      "metadata": {
        "id": "mfRVSAMZyXDT",
        "colab_type": "code",
        "colab": {}
      },
      "source": [
        "new_tuple = (first_five_elements, next_five_elements, 1,2,3)\n",
        "print(len(new_tuple))"
      ],
      "execution_count": null,
      "outputs": []
    },
    {
      "cell_type": "markdown",
      "metadata": {
        "id": "xqpfJlzmyXDY",
        "colab_type": "text"
      },
      "source": [
        "<div class=\"alert alert-success\">\n",
        "Just like we can have a tuple of tuples and other items, we can also have a list of tuples and vice versa. \n",
        "</div>"
      ]
    },
    {
      "cell_type": "code",
      "metadata": {
        "id": "2aXESkguyXDZ",
        "colab_type": "code",
        "colab": {}
      },
      "source": [
        "list_of_tuples = [(1,2,3), (\"a\", \"e\", \"i\", \"o\",\"u\"), \"Abisola\", True]\n",
        "tuple_of_lists = ([1,2,3], [\"a\", \"e\", \"i\", \"o\",\"u\"], \"Fikayomi\", False)\n",
        "print(list_of_tuples)\n",
        "print(tuple_of_lists)"
      ],
      "execution_count": null,
      "outputs": []
    },
    {
      "cell_type": "code",
      "metadata": {
        "id": "mPstXJjhyXDk",
        "colab_type": "code",
        "colab": {}
      },
      "source": [
        "#The same way we can access the items of a nested tuple is the same way we can access this\n",
        "print(tuple_of_lists[0])\n",
        "print(tuple_of_lists[-2][4])\n",
        "print(tuple_of_lists[1][0:3])"
      ],
      "execution_count": null,
      "outputs": []
    },
    {
      "cell_type": "markdown",
      "metadata": {
        "id": "J8lCFLP1yXDx",
        "colab_type": "text"
      },
      "source": [
        "<div class=\"alert alert-success\">\n",
        "Though tuples are immutable, however, if they contain data structures that can be modified, then you can modify the element inside the data structure.\n",
        "Note, you are not directly modifying the tuple. An example will make it clearer\n",
        "</div>"
      ]
    },
    {
      "cell_type": "code",
      "metadata": {
        "id": "EiA4oMHVyXD0",
        "colab_type": "code",
        "colab": {}
      },
      "source": [
        "tuple_of_lists = ([1,2,3], [\"a\", \"e\", \"i\", \"o\",\"u\"], \"Fikayomi\", False)\n",
        "\n",
        "tuple_of_lists[0] = \"A\"\n",
        "\n",
        "#This will give an error since we cannot modify a tuple\n"
      ],
      "execution_count": null,
      "outputs": []
    },
    {
      "cell_type": "code",
      "metadata": {
        "id": "xILbyBiqyXD6",
        "colab_type": "code",
        "colab": {}
      },
      "source": [
        "tuple_of_lists[0][0] = \"A\"\n",
        "print(tuple_of_lists)\n",
        "#We can modify elements of a tuple if the elements themselves can be modified(e.g list)"
      ],
      "execution_count": null,
      "outputs": []
    },
    {
      "cell_type": "markdown",
      "metadata": {
        "id": "Ua83ot1XyXED",
        "colab_type": "text"
      },
      "source": [
        "<div class=\"alert alert-success\">\n",
        "We can also combine two list as a tuple using the <b>\"zip\"</b> function\n",
        "</div>"
      ]
    },
    {
      "cell_type": "code",
      "metadata": {
        "id": "9HlMP_5uyXEE",
        "colab_type": "code",
        "colab": {}
      },
      "source": [
        "alphabets = [\"A\",\"B\", \"C\",\"D\", \"E\",\"F\",\"G\",\"H\",\"I\",\"J\",\"K\",\"L\",\"M\",\"N\", \"O\",\"P\",\"Q\",\"R\",\"S\",\"T\",\"U\",\"V\",\"W\",\"X\",\"Y\",\"Z\"]\n",
        "rank = [1,2,3,4,5,6,7,8,9,10,11,12,13,14,15,16,17,18,19,20,21,22,23,24,25,26]\n",
        "alphabets_rank = zip(alphabets, rank)\n",
        "alphabets_rank_list = list(alphabets_rank)\n",
        "print(alphabets_rank_list)"
      ],
      "execution_count": null,
      "outputs": []
    },
    {
      "cell_type": "code",
      "metadata": {
        "id": "02pVxxOmyXEK",
        "colab_type": "code",
        "colab": {}
      },
      "source": [
        "\n",
        "alphabets = [\"A\",\"B\", \"C\",\"D\", \"E\",\"F\",\"G\",\"H\",\"I\",\"J\",\"K\",\"L\",\"M\",\"N\", \"O\",\"P\",\"Q\",\"R\",\"S\",\"T\",\"U\",\"V\",\"W\",\"X\",\"Y\",\"Z\"]\n",
        "rank = [1,2,3,4,5,6,7,8,9,10,11,12,13,14,15,16,17,18,19,20,21,22,23,24,25,26]\n",
        "alphabets_rank = zip(alphabets, rank)\n",
        "alphabets_rank_list = tuple(alphabets_rank)       #If you want it to be a tuple of tuples instead, just use 'tuple' in place of 'list'\n",
        "print(alphabets_rank_list)"
      ],
      "execution_count": null,
      "outputs": []
    },
    {
      "cell_type": "markdown",
      "metadata": {
        "id": "xrwLfD0ZyXER",
        "colab_type": "text"
      },
      "source": [
        "<div class=\"alert alert-success\">\n",
        "Note, the two list does not have to contain the same number of elements before you canuse the 'zip' function. It will simply combine it up to the point where each list has a corresponding value. I will demonstrae this below\n",
        "</div>"
      ]
    },
    {
      "cell_type": "code",
      "metadata": {
        "id": "m6NjIJMMyXES",
        "colab_type": "code",
        "colab": {}
      },
      "source": [
        "alphabets = [\"A\",\"B\", \"C\",\"D\", \"E\"]\n",
        "rank = (1,2,3,4,5,6,7,8,9,10,11,12,13,14,15,16,17,18,19,20,21,22,23,24,25,26)\n",
        "\n",
        "alphabets_rank = zip(alphabets, rank)\n",
        "alphabets_rank_list = list(alphabets_rank)\n",
        "print(alphabets_rank_list)"
      ],
      "execution_count": null,
      "outputs": []
    },
    {
      "cell_type": "markdown",
      "metadata": {
        "id": "46TyUEmoyXEX",
        "colab_type": "text"
      },
      "source": [
        "<h4>Unpacking</h4>"
      ]
    },
    {
      "cell_type": "markdown",
      "metadata": {
        "id": "4uxN81pnyXEY",
        "colab_type": "text"
      },
      "source": [
        "<div class=\"alert alert-success\">\n",
        "This is the process of assigning multiple varaiables to items in an iterables data structure. We can have list unpacking and tuple unpacking\n",
        "</div>"
      ]
    },
    {
      "cell_type": "code",
      "metadata": {
        "id": "35_HiiRqyXEZ",
        "colab_type": "code",
        "colab": {}
      },
      "source": [
        "book_details = [\"Data structure\", 2020, \"Abisola Fikayomi\", \"O'Reilly\"]\n",
        "\n",
        "#Now, I can assign the elemnets in this list to different variables at once\n",
        "\n",
        "book_title, year_of_publication, name_of_author, publisher = book_details\n",
        "\n",
        "print(book_title)\n",
        "print(year_of_publication)\n",
        "print(name_of_author)\n",
        "print(publisher)"
      ],
      "execution_count": null,
      "outputs": []
    },
    {
      "cell_type": "markdown",
      "metadata": {
        "id": "WAIcLS_CyXEo",
        "colab_type": "text"
      },
      "source": [
        "<div class=\"alert alert-success\">\n",
        "List unpacking and tuple unpacking are done the same way. I will demonstrate tuple unpacking below\n",
        "</div>"
      ]
    },
    {
      "cell_type": "code",
      "metadata": {
        "id": "m_ylCFPRyXEq",
        "colab_type": "code",
        "colab": {}
      },
      "source": [
        "personal_details = (\"Abisola Fikayomi\", 23,  \"Nigerian\", 54)\n",
        "\n",
        "\n",
        "name, age, nationality = personal_details[:3]\n",
        "\n",
        "print(name)\n",
        "print(age)\n",
        "print(nationality)\n"
      ],
      "execution_count": null,
      "outputs": []
    },
    {
      "cell_type": "markdown",
      "metadata": {
        "id": "CxO10CRGyXE4",
        "colab_type": "text"
      },
      "source": [
        "<div class=\"alert alert-danger\">\n",
        "<h2>Exercise 6a</h2>\n",
        "<p>Create a list about yourself containing your name, age, nationality, a list of your best friends, and a tuple of your favourite color</p>\n",
        "<p>Using list unpacking, assign the various element to their respective variables and print each of them</p>\n",
        "</div>\n",
        "\n",
        "<div class=\"alert alert-danger\">\n",
        "<h2>Exercise 6b</h2>\n",
        "<p>Create a tuple about yourself containing your name, age, nationality, a list of your best friends, and a tuple of your favourite color</p>\n",
        "<p>Create another list containing the variables of the elements above</p>\n",
        "<p>Using the zip function, combine the two together as a list of tuples</p>\n",
        "</div>\n",
        "\n",
        "<div class=\"alert alert-danger\">\n",
        "<h2>Exercise 6c</h2>\n",
        "<p>Using the new list of tuples in Exercise 6b, Obtain the same result you got in Exercise 6a </p>\n",
        "</div>\n"
      ]
    },
    {
      "cell_type": "markdown",
      "metadata": {
        "id": "atp7zHUByXE5",
        "colab_type": "text"
      },
      "source": [
        "Double click <b>here</b> to see my solution for 6a.\n",
        "\n",
        "<!-- This is my code for the exercise above.\n",
        "However, note that in programming, there might be different approach to solving problems.\n",
        "You might use a different approach from mine, it doesn't matter. \n",
        "The objective is to get the desired result. \n",
        "Copy the code below and run it in another cell and compare the output with your own output.\n",
        "\n",
        "\n",
        "my_self = [\"Abisola Fikayomi\", 23,  \"Nigerian\", [\"Preshy\", \"Praise\", \"Mj\", \"Mac\", \"Segun\",\"Pheyi\", \"Lamide\"], (\"Purple\", \"Blue\", \"White\")]\n",
        "name, age, nationality, best_friends, favorite_color = my_self\n",
        "print(\"My name is \" + name)\n",
        "print(\"I am \" + str(age) + \" years old\")\n",
        "print(\"I am a \" + nationality)\n",
        "print(\"My best friends are:\", best_friends)\n",
        "print(\"My favorite colors are:\" ,favorite_color)\n",
        "\n",
        "-->"
      ]
    },
    {
      "cell_type": "markdown",
      "metadata": {
        "id": "om5JbXQcyXE6",
        "colab_type": "text"
      },
      "source": [
        "Double click <b>here</b> to see my solution for 6b.\n",
        "\n",
        "<!-- This is my code for the exercise above.\n",
        "However, note that in programming, there might be different approach to solving problems.\n",
        "You might use a different approach from mine, it doesn't matter. \n",
        "The objective is to get the desired result. \n",
        "Copy the code below and run it in another cell and compare the output with your own output.\n",
        "\n",
        "my_self = (\"Abisola Fikayomi\", 23,  \"Nigerian\", [\"Preshy\", \"Praise\", \"Mj\", \"Mac\", \"Segun\",\"Pheyi\", \"Lamide\"], (\"Purple\", \"Blue\", \"White\"))\n",
        "varaible_list = [\"Name: \", \"Age: \", \"Nationality: \", \"Best friends: \", \"Favorite color: \"]\n",
        "\n",
        "\n",
        "my_self_list = list(zip(varaible_list, my_self))\n",
        "print(my_self_list)\n",
        "\n",
        "-->"
      ]
    },
    {
      "cell_type": "markdown",
      "metadata": {
        "id": "znldQCbByXE7",
        "colab_type": "text"
      },
      "source": [
        "Double click <b>here</b> to see my solution for 6c.\n",
        "\n",
        "<!-- This is my code for the exercise above.\n",
        "However, note that in programming, there might be different approach to solving problems.\n",
        "You might use a different approach from mine, it doesn't matter. \n",
        "The objective is to get the desired result. \n",
        "Copy the code below and run it in another cell and compare the output with your own output.\n",
        "\n",
        "print(\"My name is \" + my_self_list[0][1] )\n",
        "print(\"I am \" + str(my_self_list[1][1]) + \" years old\")\n",
        "print(\"I am a \" + my_self_list[2][1])\n",
        "print(\"My best friends are:\", my_self_list[3][1])\n",
        "print(\"My favorite colors are:\" ,my_self_list[4][1])\n",
        "\n",
        "-->"
      ]
    },
    {
      "cell_type": "markdown",
      "metadata": {
        "id": "Ltwz67TiyXE8",
        "colab_type": "text"
      },
      "source": [
        "<h4>Sets</h4>"
      ]
    },
    {
      "cell_type": "markdown",
      "metadata": {
        "id": "jieS5no2yXE9",
        "colab_type": "text"
      },
      "source": [
        "<div class=\"alert alert-success\">\n",
        "<p>Sets are <i><b>unordered</b></i> collections of obejcts that holds only <i><b>unique</b></i> values. \n",
        "Set are used when the existence of an object in a colection is what matters and not the order. \n",
        "Set only holds unique values, i.e there cannot be an existence of two occurence of the same element in a set</p>\n",
        "    <p>A set is created using the <b>curly braces{}</b></p>\n",
        "    <p>All operations that can be performed on a mathematical set can be performed on a Python set as well.</p>\n",
        "</div>"
      ]
    },
    {
      "cell_type": "code",
      "metadata": {
        "id": "W_9A0kGPyXE-",
        "colab_type": "code",
        "colab": {}
      },
      "source": [
        "planets = {\"Mercury\", \"Venus\", \"Earth\", \"Mars\",\"Jupyter\", \"Saturn\", \"Uranus\", \"Neptune\", \"Pluto\"}\n",
        "planet_nd_bodies = {\"Earth\", \"Venus\", \"Earth\", \"Earth\", \"Pluto\", \"Sun\", \"Star\", \"Star\", \"Moon\"}\n",
        "print(planets)\n",
        "print(planet_nd_bodies)\n",
        "print(len(planet_nd_bodies))"
      ],
      "execution_count": null,
      "outputs": []
    },
    {
      "cell_type": "markdown",
      "metadata": {
        "id": "uGbUSOJwyXFL",
        "colab_type": "text"
      },
      "source": [
        "<div class=\"alert alert-success\">\n",
        "You will notice that the set didn't display the elements as they were ordered.\n",
        "It sorted and displayed in ascending order. Set cannot be referenced via indexing because of its unordered nature.</p>\n",
        "<p>Also, even though \"Earth\" appears in palnet_nd_bodies 3 times, set only stored a single occurence of it. \n",
        "This is the unique property of a set. You can convert a list or tuple to a set to see the unique elements contained in a set.</p>\n",
        "</div>"
      ]
    },
    {
      "cell_type": "code",
      "metadata": {
        "id": "LHkTXYeMyXFL",
        "colab_type": "code",
        "colab": {}
      },
      "source": [
        "list_of_numbers = [1,2,3,1,5,8,6,7,3,2,9,0,2,5,3,7,8,1,4,7,8]\n",
        "set_of_numbers = set(list_of_numbers)\n",
        "print(set_of_numbers)"
      ],
      "execution_count": null,
      "outputs": []
    },
    {
      "cell_type": "markdown",
      "metadata": {
        "id": "65y5Bd7NyXFW",
        "colab_type": "text"
      },
      "source": [
        "<div class=\"alert alert-success\">\n",
        "<p>You can see that the set has removed duplicate values from the list and only shows unique items. \n",
        "Also, the items were automatically sorted</p>\n",
        "</div>"
      ]
    },
    {
      "cell_type": "code",
      "metadata": {
        "id": "6Vas4m9ayXFX",
        "colab_type": "code",
        "colab": {}
      },
      "source": [
        "planets = {\"Mercury\", \"Venus\", \"Earth\", \"Mars\",\"Jupyter\", \"Saturn\", \"Uranus\", \"Neptune\", \"Pluto\"}\n",
        "planet_nd_bodies = {\"Earth\", \"Venus\", \"Earth\", \"Earth\", \"Pluto\", \"Sun\", \"Star\", \"Star\", \"Moon\"}\n",
        "\n",
        "#We can use the 'in' keyword to check if an element is in a set\n",
        "print(\"Mercury\" in planets)\n",
        "print(\"Sun\" in planets)\n",
        "print(\"Star\" in planet_nd_bodies)\n",
        "print(\"star\" in planet_nd_bodies)"
      ],
      "execution_count": null,
      "outputs": []
    },
    {
      "cell_type": "code",
      "metadata": {
        "id": "YQAc2EJGyXFc",
        "colab_type": "code",
        "colab": {}
      },
      "source": [
        "#We can combine two or more sets together using the '.union' function\n",
        "planets.union(planet_nd_bodies, set_of_numbers )"
      ],
      "execution_count": null,
      "outputs": []
    },
    {
      "cell_type": "code",
      "metadata": {
        "id": "Qau0brg8yXFl",
        "colab_type": "code",
        "colab": {}
      },
      "source": [
        "#We can check the common elements between two or more sets using the '.intersection' function\n",
        "planets.intersection(planet_nd_bodies)"
      ],
      "execution_count": null,
      "outputs": []
    },
    {
      "cell_type": "markdown",
      "metadata": {
        "id": "zpwXfJJzyXFr",
        "colab_type": "text"
      },
      "source": [
        "<h4>Dictionaries<h4>"
      ]
    },
    {
      "cell_type": "markdown",
      "metadata": {
        "id": "eAxMbiQ6yXFs",
        "colab_type": "text"
      },
      "source": [
        "<div class=\"alert alert-success\">\n",
        "<p>A dictionary is a special data structure in Python that allows us store information in key-value pairs.\n",
        "A dictionary is similar to a phone book where you can find the contact of a person just by knowing their name.</p>\n",
        "<p>However, unlike a phone book where different person having diffent numbers can have the same name, it is not so with Pnython dictionaries.\n",
        "The keys must be unique.</p>\n",
        "    <p>A dictionary is created using the <b><i>curly braces {}</i></b>. We would be exploring the operations that can be performed on a dictionary in this section </p>\n",
        "</div>"
      ]
    },
    {
      "cell_type": "code",
      "metadata": {
        "id": "q-VY3Tb6yXFt",
        "colab_type": "code",
        "colab": {}
      },
      "source": [
        "student = {\"Name\": \"Abisola\", \"Age\": \"17\", \"sex\": \"Female\"}\n",
        "\n",
        "#To access the values, you use the key instead of the index\n",
        "print(student[\"Name\"])\n",
        "print(\"This student is a \" , student[\"sex\"])"
      ],
      "execution_count": null,
      "outputs": []
    },
    {
      "cell_type": "code",
      "metadata": {
        "id": "2sR9IRAKyXF6",
        "colab_type": "code",
        "colab": {}
      },
      "source": [
        "#I can get the number of entries in the dictionary using the 'len' function\n",
        "\n",
        "print(len(student))"
      ],
      "execution_count": null,
      "outputs": []
    },
    {
      "cell_type": "code",
      "metadata": {
        "id": "h5qyFsYLyXF-",
        "colab_type": "code",
        "colab": {}
      },
      "source": [
        "#I can delete entries in the dictionary using the 'del' function\n",
        "\n",
        "del student[\"Age\"]\n",
        "\n",
        "print(len(student))\n",
        "print(student)"
      ],
      "execution_count": null,
      "outputs": []
    },
    {
      "cell_type": "code",
      "metadata": {
        "id": "Du0NPy84yXGG",
        "colab_type": "code",
        "colab": {}
      },
      "source": [
        "#I can also add new entries to the dictionary using the format below\n",
        "\n",
        "student[\"Age\"] = 13\n",
        "student[\"Email\"] = \"abisola@gmail.com\"\n",
        "student[\"Position\"] = \"First\"\n",
        "\n",
        "print(len(student))\n",
        "print(student)"
      ],
      "execution_count": null,
      "outputs": []
    },
    {
      "cell_type": "code",
      "metadata": {
        "id": "9oxzagqTyXGQ",
        "colab_type": "code",
        "colab": {}
      },
      "source": [
        "#The '.get' method can also be used to access the value of a particular key \n",
        "print(student.get(\"Name\"))\n",
        "\n",
        "print(student.get(\"Nae\"))"
      ],
      "execution_count": null,
      "outputs": []
    },
    {
      "cell_type": "markdown",
      "metadata": {
        "id": "-sSi9924yXGd",
        "colab_type": "text"
      },
      "source": [
        "<div class=\"alert alert-success\">\n",
        "The major difference between this method and the key indexing method to get values is that this will not throw an error message if the key you are looking for is not in the dictionary. It will simply return 'none'. You can even customize the message you want it to return in such scenario\n",
        "</div>"
      ]
    },
    {
      "cell_type": "code",
      "metadata": {
        "id": "6Qll2L3tyXGf",
        "colab_type": "code",
        "colab": {}
      },
      "source": [
        "print(student.get(\"Nme\", (\"This is not a valid key. The keys in the dictionary are: \", student.keys())))\n"
      ],
      "execution_count": null,
      "outputs": []
    },
    {
      "cell_type": "markdown",
      "metadata": {
        "id": "HFB3--OwyXGq",
        "colab_type": "text"
      },
      "source": [
        "<div class=\"alert alert-danger\">\n",
        "<h2>Exercise 7</h2>\n",
        "<li>Create a contact book with the names as keys and the phone number and Email as values</li>\n",
        " <li>Display output in this format: \"You can contact [name] via:  [phone number] or [email]</li>\n",
        "<p><b>Tip</b></p>\n",
        "The values (phone number and email) should be in a list\n",
        "\n",
        "</div>\n"
      ]
    },
    {
      "cell_type": "markdown",
      "metadata": {
        "id": "5D7FBd6DyXGr",
        "colab_type": "text"
      },
      "source": [
        "Double click <b>here</b> to see my solution.\n",
        "\n",
        "<!-- This is my code for the exercise above.\n",
        "However, note that in programming, there might be different approach to solving problems.\n",
        "You might use a different approach from mine, it doesn't matter. \n",
        "The objective is to get the desired result. \n",
        "Copy the code below and run it in another cell and compare the output with your own output.\n",
        "\n",
        "contact_book = {\"John\": [\"02345211\", \"john@gmail.com\"], \"Alexis\": [\"7823431\", \"lexi@gmail.com\"], \"Grace\": [\"3287456\", \"grace@gmail.com\"]}\n",
        "\n",
        "print(\"You can contact John via: \" , contact_book[\"John\"][0] + \" or \" + contact_book[\"John\"][1])\n",
        "print(\"You can contact Alexis via: \" , contact_book[\"Alexis\"][0] + \" or \" + contact_book[\"Alexis\"][1])\n",
        "print(\"You can contact John via: \" , contact_book[\"Grace\"][0] + \" or \" + contact_book[\"Grace\"][1])\n",
        "\n",
        "-->`"
      ]
    },
    {
      "cell_type": "markdown",
      "metadata": {
        "id": "WPRqtShsyXGs",
        "colab_type": "text"
      },
      "source": [
        "<h3>Conditionals</h3>"
      ]
    },
    {
      "cell_type": "markdown",
      "metadata": {
        "id": "Zlm94iNUyXGt",
        "colab_type": "text"
      },
      "source": [
        "<div class=\"alert alert-success\">\n",
        "<p>Just like real life situations where you have to make chioces or decisions based on some conditions, \n",
        "we also have the same in programming. For example; if it is raining, take an umbrella, if it sunny, wear a sunglass,\n",
        "if it is morning, I get up from my bed, if it is night, I go to sleep, If it is sunday, I go to church,\n",
        "If I want to eat, I cook, and so on. Infact our whole life is full of conditionals whether you accept or not. \n",
        "We do things because a condition demands we do them.</p>\n",
        "<p>In Python, we can write codes that allow our program perform some task if it meets certain conditions and do otherwise if it doesn't.\n",
        "    We achieve this using the <b>'if'</b> statement. </p> \n",
        "    <p>In this section, we would explore conditional statements.</p>\n",
        "    <p>We would also explore comparison and logical operators. Comparison and logical operators are mostly used\n",
        "        with if statements. They are useful for controlling the program flow. </p> \n",
        "    <p>Comaprison operators compares the values on both sides of the operator and decide the relations between them. \n",
        "        They return a boolean. They are: \n",
        "        <li><b> > : Returns True if the left operand is higher than the right operand. e.g 20 > 10 returns True</b></li>\n",
        "        <li><b> < : Returns True if the left operand is lower than the right operand. e.g 20 < 10 returns False</b></li>\n",
        "        <li><b> >= : Returns True if the left operand is higher than or equal to the right operand. e.g 20 >= 20 returns True</b></li>\n",
        "        <li><b> <= : Returns True if the left operand is lower than or equal to the right operand. e.g 5 <= 10 returns True</b></li>\n",
        "        <li><b> != : Returns True if the left operand and the right operand are not the same. e.g 20 !=  20 returns False</b></li>\n",
        "        <li><b> == : Returns True if the left operand and the right operand are the same. e.g 20 == 20 returns True</b></li>\n",
        "    </p>\n",
        "    \n",
        "  <p>Logical operators on the other hand combine two boolean values and return a boolean. They are used to evaluate more than one condition. They are: \n",
        "        <li><b> and : Returns True if and only if both boolean values are true.</b></li>\n",
        "        <li><b> or : Returns True if at least one boolean value is true.</b></li>\n",
        "    <li><b> not : Returns True if the booelan value is False and vice-versa.</b></li>\n",
        "    </p>\n",
        " <p>You will get to understand these concepts as we begin to use them in this section</p>\n",
        "</div>"
      ]
    },
    {
      "cell_type": "code",
      "metadata": {
        "id": "vGMom_edyXGu",
        "colab_type": "code",
        "colab": {}
      },
      "source": [
        "a = 5\n",
        "b = 9\n",
        "\n",
        "if a>b:\n",
        "    print(\"You won't see this print statement because a is not greater than b\")"
      ],
      "execution_count": null,
      "outputs": []
    },
    {
      "cell_type": "markdown",
      "metadata": {
        "id": "-44LKTPVyXG5",
        "colab_type": "text"
      },
      "source": [
        "<div class=\"alert alert-success\">\n",
        "Note: When using if statement with logical and comparison operators, the program will only execute if the expression evaluate to True. The program above did not execute the print statement because the condition is not met(a>b is False). \n",
        "Let's Change the condition and you will see that the print statement will be executed\n",
        "</div>"
      ]
    },
    {
      "cell_type": "code",
      "metadata": {
        "id": "HrZkIlevyXG6",
        "colab_type": "code",
        "colab": {}
      },
      "source": [
        "if b>a:\n",
        "    print(\"You are seeing this because b is greater than a\")"
      ],
      "execution_count": null,
      "outputs": []
    },
    {
      "cell_type": "code",
      "metadata": {
        "id": "wHDmPI7AyXG-",
        "colab_type": "code",
        "colab": {}
      },
      "source": [
        "#We can also use the if statement to check if a variable is in your program and perform a corresponding action\n",
        "if a:\n",
        "    print(b)\n",
        "    \n",
        "if b:\n",
        "    print(\"Yes, b is a valid variable in your program\")"
      ],
      "execution_count": null,
      "outputs": []
    },
    {
      "cell_type": "code",
      "metadata": {
        "id": "yeAz-llDyXHG",
        "colab_type": "code",
        "colab": {}
      },
      "source": [
        "if a==5 and b==9:\n",
        "    print(\"Yes a is 5 and b is 9\")"
      ],
      "execution_count": null,
      "outputs": []
    },
    {
      "cell_type": "code",
      "metadata": {
        "id": "p-XlfK5cyXHO",
        "colab_type": "code",
        "colab": {}
      },
      "source": [
        "if a==5 and b==5:\n",
        "    print(\"Though, a is 5 but b is 9 and not 5. So, you won't see this\")"
      ],
      "execution_count": null,
      "outputs": []
    },
    {
      "cell_type": "code",
      "metadata": {
        "id": "_Cw4ae0ryXHT",
        "colab_type": "code",
        "colab": {}
      },
      "source": [
        "if a != 9:\n",
        "    print(\"a is not equal to 9, a is 5\")"
      ],
      "execution_count": null,
      "outputs": []
    },
    {
      "cell_type": "code",
      "metadata": {
        "id": "_HqcNc6_yXHZ",
        "colab_type": "code",
        "colab": {}
      },
      "source": [
        "if a == 9 or b==9:\n",
        "    print(\"You are seeing this because at least one of the conditions was met\")"
      ],
      "execution_count": null,
      "outputs": []
    },
    {
      "cell_type": "markdown",
      "metadata": {
        "id": "0jQARbQdyXHe",
        "colab_type": "text"
      },
      "source": [
        "<div class=\"alert alert-success\">\n",
        "We can also use if statement along side the membership operators: <b>in</b> and <b> not in</b>. \n",
        "We will consider some examples below</div>"
      ]
    },
    {
      "cell_type": "code",
      "metadata": {
        "id": "YmfHvZx5yXHf",
        "colab_type": "code",
        "colab": {}
      },
      "source": [
        "even_numbers = [2,4,6,8,10]\n",
        "prime_numbers = [2,3,5,7]\n",
        "course = \"Computer Science\"\n",
        "\n",
        "if 4 in even_numbers:\n",
        "    print(\"4 is an even number\")"
      ],
      "execution_count": null,
      "outputs": []
    },
    {
      "cell_type": "code",
      "metadata": {
        "id": "kjdyP4A_yXHl",
        "colab_type": "code",
        "colab": {}
      },
      "source": [
        "if 4 in prime_numbers:\n",
        "    print(\"4 is not a prime number so this print statement will not execute\")"
      ],
      "execution_count": null,
      "outputs": []
    },
    {
      "cell_type": "code",
      "metadata": {
        "id": "3escTlH2yXHw",
        "colab_type": "code",
        "colab": {}
      },
      "source": [
        "if 2 in even_numbers and 2 in prime_numbers:\n",
        "    print(\"2 is the only even number that is prime\")"
      ],
      "execution_count": null,
      "outputs": []
    },
    {
      "cell_type": "code",
      "metadata": {
        "id": "O2nHAXKhyXH3",
        "colab_type": "code",
        "colab": {}
      },
      "source": [
        "if 4 not in even_numbers:\n",
        "    print(\"4 is an even number so this print statement will not execute\")"
      ],
      "execution_count": null,
      "outputs": []
    },
    {
      "cell_type": "code",
      "metadata": {
        "id": "BFJqQDYxyXIB",
        "colab_type": "code",
        "colab": {}
      },
      "source": [
        "if \"com\" in course:\n",
        "    print(course)\n",
        "\n",
        "#This will not execute because 'com' is different from 'Com'"
      ],
      "execution_count": null,
      "outputs": []
    },
    {
      "cell_type": "code",
      "metadata": {
        "id": "iOKqm17lyXIb",
        "colab_type": "code",
        "colab": {}
      },
      "source": [
        "#Now, lets change c to capital C as we have it\n",
        "if \"Com\" in course:\n",
        "    print(course)\n"
      ],
      "execution_count": null,
      "outputs": []
    },
    {
      "cell_type": "code",
      "metadata": {
        "id": "wBB_xwMnyXIj",
        "colab_type": "code",
        "colab": {}
      },
      "source": [
        "if \"com\" not in course:\n",
        "    print(course)"
      ],
      "execution_count": null,
      "outputs": []
    },
    {
      "cell_type": "code",
      "metadata": {
        "id": "LoMpK7rOyXIu",
        "colab_type": "code",
        "colab": {}
      },
      "source": [
        "if \"put\" in course:\n",
        "    print(course.find(\"put\"))    #If the substring is found, this will return the index of the first cahracter of the substring\n"
      ],
      "execution_count": null,
      "outputs": []
    },
    {
      "cell_type": "markdown",
      "metadata": {
        "id": "q7hvyrBkyXI3",
        "colab_type": "text"
      },
      "source": [
        "<div class=\"alert alert-success\">\n",
        "You can also execute blocks of several statements if a condition is met.\n",
        "</div>"
      ]
    },
    {
      "cell_type": "code",
      "metadata": {
        "id": "hKrkxr3QyXI3",
        "colab_type": "code",
        "colab": {}
      },
      "source": [
        "if 2 in even_numbers and 2 in prime_numbers and 4 in even_numbers:\n",
        "    print(\"2 is an even number\")\n",
        "    print(\"4 is also an even number\")\n",
        "    print(\"2 is the only even number that is prime\")"
      ],
      "execution_count": null,
      "outputs": []
    },
    {
      "cell_type": "markdown",
      "metadata": {
        "id": "NwjwY9usyXI-",
        "colab_type": "text"
      },
      "source": [
        "<div class=\"alert alert-success\">\n",
        "Along with the if statement, we can also have the elif and else caluse. Sometimes, you want to evalaute a condition and take one path if it is true and also specify additional conditions and different paths/alternative path. This is achieved using the elif and else statement</div>"
      ]
    },
    {
      "cell_type": "code",
      "metadata": {
        "id": "G5kr-IQcyXI_",
        "colab_type": "code",
        "colab": {}
      },
      "source": [
        "i_am_hungry = True\n",
        "time = \"morning\"\n",
        "\n",
        "if i_am_hungry:\n",
        "    print(\"I cook\")\n",
        "    print(\"I eat\")"
      ],
      "execution_count": null,
      "outputs": []
    },
    {
      "cell_type": "markdown",
      "metadata": {
        "id": "WA_PU7JqyXJE",
        "colab_type": "text"
      },
      "source": [
        "<div class=\"alert alert-success\">\n",
        "Now, I will modify the above if statement to have different paths and alternatives\n",
        "</div>"
      ]
    },
    {
      "cell_type": "code",
      "metadata": {
        "id": "DCJ0hMJIyXJF",
        "colab_type": "code",
        "colab": {}
      },
      "source": [
        "i_am_hungry = True\n",
        "time = \"morning\"\n",
        "\n",
        "if i_am_hungry and time == \"morning\":\n",
        "    print(\"I cook\")\n",
        "    print(\"I eat breakfast\")\n",
        "elif i_am_hungry and time == \"afternoon\":\n",
        "    print(\"I cook\")\n",
        "    print(\"I eat lunch\")\n",
        "elif i_am_hungry and time == \"evening\":\n",
        "    print(\"I cook\")\n",
        "    print(\"I eat dinner\")\n",
        "else:\n",
        "    print(\"I do nothing\")"
      ],
      "execution_count": null,
      "outputs": []
    },
    {
      "cell_type": "code",
      "metadata": {
        "id": "qtmFdmLWyXJJ",
        "colab_type": "code",
        "colab": {}
      },
      "source": [
        "#Now, I will change the time to afternoon so it will execute the second condition\n",
        "\n",
        "i_am_hungry = True\n",
        "time = \"afternoon\"\n",
        "\n",
        "if i_am_hungry and time == \"morning\":\n",
        "    print(\"I cook\")\n",
        "    print(\"I eat breakfast\")\n",
        "elif i_am_hungry and time == \"afternoon\":\n",
        "    print(\"I cook\")\n",
        "    print(\"I eat lunch\")\n",
        "elif i_am_hungry and time == \"evening\":\n",
        "    print(\"I cook\")\n",
        "    print(\"I eat dinner\")\n",
        "else:\n",
        "    print(\"I do nothing\")"
      ],
      "execution_count": null,
      "outputs": []
    },
    {
      "cell_type": "code",
      "metadata": {
        "id": "IeL2gqETyXJT",
        "colab_type": "code",
        "colab": {}
      },
      "source": [
        "#Now, I will change the time to evening so it will execute the third condition\n",
        "\n",
        "i_am_hungry = True\n",
        "time = \"evening\"\n",
        "\n",
        "if i_am_hungry and time == \"morning\":\n",
        "    print(\"I cook\")\n",
        "    print(\"I eat breakfast\")\n",
        "elif i_am_hungry and time == \"afternoon\":\n",
        "    print(\"I cook\")\n",
        "    print(\"I eat lunch\")\n",
        "elif i_am_hungry and time == \"evening\":\n",
        "    print(\"I cook\")\n",
        "    print(\"I eat dinner\")\n",
        "else:\n",
        "    print(\"I do nothing\")"
      ],
      "execution_count": null,
      "outputs": []
    },
    {
      "cell_type": "code",
      "metadata": {
        "id": "Fta45pUgyXJX",
        "colab_type": "code",
        "colab": {}
      },
      "source": [
        "#Now, I will change the i_am_hungry to False and watch what happens\n",
        "\n",
        "i_am_hungry = False\n",
        "time = \"morning\"\n",
        "\n",
        "if i_am_hungry and time == \"morning\":\n",
        "    print(\"I cook\")\n",
        "    print(\"I eat breakfast\")\n",
        "elif i_am_hungry and time == \"afternoon\":\n",
        "    print(\"I cook\")\n",
        "    print(\"I eat lunch\")\n",
        "elif i_am_hungry and time == \"evening\":\n",
        "    print(\"I cook\")\n",
        "    print(\"I eat dinner\")\n",
        "else:\n",
        "    print(\"I do nothing\")"
      ],
      "execution_count": null,
      "outputs": []
    },
    {
      "cell_type": "markdown",
      "metadata": {
        "id": "So--nLDCyXJe",
        "colab_type": "text"
      },
      "source": [
        "<h5>Nested ifs</h5>"
      ]
    },
    {
      "cell_type": "markdown",
      "metadata": {
        "id": "RV5prDvLyXJf",
        "colab_type": "text"
      },
      "source": [
        "<div class=\"alert alert-success\">\n",
        "We can have if statements inside of if statement. This is called nested ifs. \n",
        "When we get to the example, you will understand better\n",
        "</div>"
      ]
    },
    {
      "cell_type": "code",
      "metadata": {
        "id": "230AAe4ByXJg",
        "colab_type": "code",
        "colab": {}
      },
      "source": [
        "sex = \"female\"\n",
        "age = 20\n",
        "\n",
        "if sex == \"female\":\n",
        "    print(\"You are a female\")\n",
        "    if age <=30:\n",
        "        print(\"you are a young female\")\n",
        "    elif age <= 50:\n",
        "        print(\"you are an adult female\")\n",
        "    else:\n",
        "        print(\"you are an old woman\")\n",
        "elif sex == \"male\":\n",
        "    print(\"you are a male\")\n",
        "else:\n",
        "    print(\"you didn't specify your sex\")"
      ],
      "execution_count": null,
      "outputs": []
    },
    {
      "cell_type": "code",
      "metadata": {
        "id": "DOc6a3odyXJp",
        "colab_type": "code",
        "colab": {}
      },
      "source": [
        "#Now, i will change the age to 53\n",
        "\n",
        "sex = \"female\"\n",
        "age = 53\n",
        "\n",
        "if sex == \"female\":\n",
        "    print(\"You are a female\")\n",
        "    if age <=30:\n",
        "        print(\"you are a young female\")\n",
        "    elif age <= 50:\n",
        "        print(\"you are an adult female\")\n",
        "    else:\n",
        "        print(\"you are an old woman\")\n",
        "elif sex == \"male\":\n",
        "    print(\"you are a male\")\n",
        "else:\n",
        "    print(\"you didn't specify your sex\")"
      ],
      "execution_count": null,
      "outputs": []
    },
    {
      "cell_type": "code",
      "metadata": {
        "id": "qgwkvqKKyXJv",
        "colab_type": "code",
        "colab": {}
      },
      "source": [
        "#Now, i will cahnge the sex to male\n",
        "sex = \"male\"\n",
        "age = 20\n",
        "\n",
        "if sex == \"female\":\n",
        "    print(\"You are a female\")\n",
        "    if age <=30:\n",
        "        print(\"you are a young female\")\n",
        "    elif age <= 50:\n",
        "        print(\"you are an adult female\")\n",
        "    else:\n",
        "        print(\"you are an old woman\")\n",
        "elif sex == \"male\":\n",
        "    print(\"you are a male\")\n",
        "else:\n",
        "    print(\"you didn't specify your sex\")"
      ],
      "execution_count": null,
      "outputs": []
    },
    {
      "cell_type": "code",
      "metadata": {
        "id": "nWnH60owyXJ0",
        "colab_type": "code",
        "colab": {}
      },
      "source": [
        "#Now, i will change the sex to something that does not exist\n",
        "\n",
        "sex = \"jack\"\n",
        "age = 20\n",
        "\n",
        "if sex == \"female\":\n",
        "    print(\"You are a female\")\n",
        "    if age <=30:\n",
        "        print(\"you are a young female\")\n",
        "    elif age <= 50:\n",
        "        print(\"you are an adult female\")\n",
        "    else:\n",
        "        print(\"you are an old woman\")\n",
        "elif sex == \"male\":\n",
        "    print(\"you are a male\")\n",
        "else:\n",
        "    print(\"you didn't specify your sex\")"
      ],
      "execution_count": null,
      "outputs": []
    },
    {
      "cell_type": "markdown",
      "metadata": {
        "id": "FkUE8QlgyXJ4",
        "colab_type": "text"
      },
      "source": [
        "<div class=\"alert alert-success\">\n",
        "That's it about conditionals. You can have very complex if's statements depending on what you want to achieve. \n",
        "That's programming for you. You simply tell the program what to do and it does exactly what you will have it do\n",
        "</div>"
      ]
    },
    {
      "cell_type": "markdown",
      "metadata": {
        "id": "OgerCyK_yXJ5",
        "colab_type": "text"
      },
      "source": [
        "<div class=\"alert alert-danger\">\n",
        "<h2>Exercise 8</h2>\n",
        "<p>Create a currency converter that converts from one currency(say naira) to another(say dollar) and vice versa. This currency converter should recieve the inputs from the user.</p>\n",
        "</div>\n",
        "\n",
        "<div class=\"alert alert-danger\">\n",
        "<h2>Exercise 9</h2>\n",
        "<p>Create a daily to-do list that will display what you have to do for each day in the format below:</p>\n",
        "   <p> \"Today is monday. This are the list of things you have to do today\"</p>\n",
        "</div>\n",
        "\n",
        "<div class=\"alert alert-danger\">\n",
        "<h2>Exercise 10</h2>\n",
        "<p>Create a calculator that will ask for users input and the type of operation they want to perform and display the result of the computation back to the user</p>\n",
        "</div>"
      ]
    },
    {
      "cell_type": "markdown",
      "metadata": {
        "id": "60R4ze7gyXJ6",
        "colab_type": "text"
      },
      "source": [
        "Double click <b>here</b> to see my solution for exercise 8.\n",
        "\n",
        "<!-- This is my code for the exercise above.\n",
        "However, note that in programming, there might be different approach to solving problems.\n",
        "You might use a different approach from mine, it doesn't matter. \n",
        "The objective is to get the desired result. \n",
        "Copy the code below and run it in another cell and compare the output with your own output.\n",
        "\n",
        "\n",
        "amount = input(\"Enter the amount: \")\n",
        "currency_1 = input(\"Enter the current currency('#' for naira or '$' for dollar): \")\n",
        "currency_2 = input(\"Enter the currency you want to convert to('#' for naira' or '$' for dollar): \")\n",
        "\n",
        "if currency_1 == \"#\":\n",
        "    if currency_2 == '#':\n",
        "        converted_currency = \"#\" + amount\n",
        "        print(\"The equivalent of your current currency is: \" + converted_currency)\n",
        "    elif currency_2 == \"$\":\n",
        "        converted_currency = \"$\" + str(int(amount)/360)\n",
        "        print(\"The equivalent of your current currency is: \" + converted_currency)\n",
        "    else:\n",
        "        print(\"Not a valid currency. Please enter '#' for naira' or '$' for dollar\")\n",
        "elif currency_1 == \"$\":\n",
        "    if currency_2 == '$':\n",
        "        converted_currency = \"$\" + amount\n",
        "        print(\"The equivalent of your current currency is: \" + converted_currency)\n",
        "    elif currency_2 == \"#\":\n",
        "        converted_currency = \"#\" + str(int(amount)*360)\n",
        "        print(\"The equivalent of your current currency is: \" + converted_currency)\n",
        "    else:\n",
        "        print(\"Not a valid currency. Please enter '#' for naira' or '$' for dollar\")\n",
        "else:\n",
        "    print(\"Enter a valid currency, '#' for naira' or '$' for dollar\")\n",
        "    \n",
        "    \n",
        "    \n",
        "    \n",
        "-->`"
      ]
    },
    {
      "cell_type": "markdown",
      "metadata": {
        "id": "WRU_truByXKC",
        "colab_type": "text"
      },
      "source": [
        "Double click <b>here</b> to see my solution for exercise 9.\n",
        "\n",
        "<!-- This is my code for the exercise above.\n",
        "However, note that in programming, there might be different approach to solving problems.\n",
        "You might use a different approach from mine, it doesn't matter. \n",
        "The objective is to get the desired result. \n",
        "Copy the code below and run it in another cell and compare the output with your own output.\n",
        "\n",
        "\n",
        "day = \"wednessday\"\n",
        "\n",
        "if day == \"monday\":\n",
        "    print(\"Today is monday. This are the list of things I have to do today: \", [\"Call boss\", \"Respond to mail\"])\n",
        "elif day == \"tuesday\":\n",
        "    print(\"Today is tuesday. This are the list of things I have to do today: \", [\"Write book\", \"Respond to mail\"])\n",
        "elif day == \"wednessday\":\n",
        "    print(\"Today is wednessday. This are the list of things I have to do today: \", [\"Plan meetup\", \"Respond to client's enquiry\"])\n",
        "elif day == \"thursday\":\n",
        "    print(\"Today is thursday. This are the list of things I have to do today: \", [\"Visit friend\", \"upload my code\"])\n",
        "elif day == \"friday\":\n",
        "    print(\"Today is friday. This are the list of things I have to do today: \", [\"Business meet-up\", \"Friday groove\"])\n",
        "elif day == \"saturday\":\n",
        "    print(\"Today is saturday. This are the list of things I have to do today: \", [\"Group call\", \"Laundry\"])\n",
        "elif day == \"sunday\":\n",
        "    print(\"Today is sunday. This are the list of things I have to do today: \", [\"Go to church\", \"Plan my week\"])\n",
        "    \n",
        "\n",
        "-->`"
      ]
    },
    {
      "cell_type": "markdown",
      "metadata": {
        "id": "Pke2fMvdyXKD",
        "colab_type": "text"
      },
      "source": [
        "Double click <b>here</b> to see my solution for exercise 10.\n",
        "\n",
        "<!-- This is my code for the exercise above.\n",
        "However, note that in programming, there might be different approach to solving problems.\n",
        "You might use a different approach from mine, it doesn't matter. \n",
        "The objective is to get the desired result. \n",
        "Copy the code below and run it in another cell and compare the output with your own output.\n",
        "\n",
        "first_number = input(\"Enter first number: \")\n",
        "second_number = input(\"Enter second number: \")\n",
        "operator = input(\"Enter the operator(+ for addition, - for subtraction, * for multiplication, / for division, and % for remainder: \")\n",
        "\n",
        "if operator == \"+\":\n",
        "    result = int(first_number)+ int(second_number)\n",
        "    print(result)\n",
        "elif operator == \"-\":\n",
        "    result = int(first_number) - int(second_number)\n",
        "    print(result)\n",
        "elif operator == \"*\":\n",
        "    result = int(first_number) * int(second_number)\n",
        "    print(result)\n",
        "elif operator == \"/\":\n",
        "    result = int(first_number) / int(second_number) \n",
        "    print(result)\n",
        "elif operator == \"%\":\n",
        "    result = int(first_number) % int(second_number) \n",
        "    print(result)\n",
        "else:\n",
        "    print(\"Please enter a valid operator\")\n",
        "\n",
        "\n",
        "\n",
        "-->`"
      ]
    },
    {
      "cell_type": "markdown",
      "metadata": {
        "id": "7C13rG2WyXKG",
        "colab_type": "text"
      },
      "source": [
        "<h3>Loops</h3>"
      ]
    },
    {
      "cell_type": "markdown",
      "metadata": {
        "id": "DcdOFpIGyXKI",
        "colab_type": "text"
      },
      "source": [
        "<div class=\"alert alert-success\">\n",
        "<p>Loops are used in programming to repeat a specific block of code. \n",
        "There are two types of loops in python. <b>for loops</b> and <b>while loops</b>.</p>\n",
        "<p>A for loop is used for iterating over a sequence(list, tuple,dictionary, or string). Itereating over a sequence is called traversal. In for loop, the loop will continue until you reach the last item in the sequence.</p>\n",
        "<p>A while loop is used to iterate over a block of code as long as the test expression(condition) is True. In a while loop, the condition is checked first, if the condition is True, then it will go ahead and execute the body of the loop. After the first iteration, the condition is checked again. The process(loop) continues until the condition is false. This implies that as long as the condition is True, the loop will continue to run.</p>\n",
        "</div>"
      ]
    },
    {
      "cell_type": "code",
      "metadata": {
        "id": "s00aVrmAyXKY",
        "colab_type": "code",
        "colab": {}
      },
      "source": [
        "#for loops\n",
        "for letter in \"data science\":\n",
        "    print (letter)"
      ],
      "execution_count": null,
      "outputs": []
    },
    {
      "cell_type": "code",
      "metadata": {
        "id": "r9etgAX_yXKd",
        "colab_type": "code",
        "colab": {}
      },
      "source": [
        "besties = [\"Preshy\", \"Praise\", \"Mj\"]\n",
        "for friend in besties:\n",
        "    print(friend)"
      ],
      "execution_count": null,
      "outputs": []
    },
    {
      "cell_type": "code",
      "metadata": {
        "id": "6fvtbqtryXKr",
        "colab_type": "code",
        "colab": {}
      },
      "source": [
        "numbers = [1,2,3,4,5,6,7,8,9,10,11,12]\n",
        "ten_times_mult_table = []\n",
        "for number in numbers:\n",
        "    ten_times_mult_table.append(number*10)\n",
        "print(ten_times_mult_table)"
      ],
      "execution_count": null,
      "outputs": []
    },
    {
      "cell_type": "code",
      "metadata": {
        "id": "lQMQ80RRyXKw",
        "colab_type": "code",
        "colab": {}
      },
      "source": [
        "for number in range(10):\n",
        "    print(number)"
      ],
      "execution_count": null,
      "outputs": []
    },
    {
      "cell_type": "code",
      "metadata": {
        "id": "UmXtE_4KyXK1",
        "colab_type": "code",
        "colab": {}
      },
      "source": [
        "for number in range(0,100,5):\n",
        "    print(number)"
      ],
      "execution_count": null,
      "outputs": []
    },
    {
      "cell_type": "code",
      "metadata": {
        "id": "qsopBtlHyXK5",
        "colab_type": "code",
        "colab": {}
      },
      "source": [
        "#While loop\n",
        "i=0\n",
        "while i < 6:\n",
        "    print(i)\n",
        "    i += 1"
      ],
      "execution_count": null,
      "outputs": []
    },
    {
      "cell_type": "markdown",
      "metadata": {
        "id": "dje9eEvKyXK9",
        "colab_type": "text"
      },
      "source": [
        "<div class=\"alert alert-success\">\n",
        "You can also use the else clause with the while and the for loop\n",
        "</div>"
      ]
    },
    {
      "cell_type": "code",
      "metadata": {
        "id": "lbEHwgOayXK-",
        "colab_type": "code",
        "colab": {}
      },
      "source": [
        "i=0\n",
        "while i < 6:\n",
        "    print(i)\n",
        "    i += 1\n",
        "else:\n",
        "    print(\"Loop stops as condition is now false\")"
      ],
      "execution_count": null,
      "outputs": []
    },
    {
      "cell_type": "code",
      "metadata": {
        "id": "A47saG7YyXLD",
        "colab_type": "code",
        "colab": {}
      },
      "source": [
        "besties = [\"Preshy\", \"Praise\", \"Mj\"]\n",
        "for friend in besties:\n",
        "    print(friend)\n",
        "else:\n",
        "    print(\"Loop done executing\")"
      ],
      "execution_count": null,
      "outputs": []
    },
    {
      "cell_type": "markdown",
      "metadata": {
        "id": "-d6oNY7hyXLI",
        "colab_type": "text"
      },
      "source": [
        "<div class=\"alert alert-success\">\n",
        "    There is also a <b>break</b> clause you can use to stop the execution of for and while loops. \n",
        "This will stop the loop after the first iteration\n",
        "</div>"
      ]
    },
    {
      "cell_type": "code",
      "metadata": {
        "id": "SHGdr7BVyXLJ",
        "colab_type": "code",
        "colab": {}
      },
      "source": [
        "i=0\n",
        "while i < 6:\n",
        "    print(i)\n",
        "    i += 1\n",
        "    break;"
      ],
      "execution_count": null,
      "outputs": []
    },
    {
      "cell_type": "code",
      "metadata": {
        "id": "cKIu4N5FyXLN",
        "colab_type": "code",
        "colab": {}
      },
      "source": [
        "besties = [\"Preshy\", \"Praise\", \"Mj\"]\n",
        "for friend in besties:\n",
        "    print(friend)\n",
        "    break;"
      ],
      "execution_count": null,
      "outputs": []
    },
    {
      "cell_type": "markdown",
      "metadata": {
        "id": "48YDm6GNyXLY",
        "colab_type": "text"
      },
      "source": [
        "<div class=\"alert alert-danger\">\n",
        "<h2>Exercise 11</h2>\n",
        "<p>Create a game that would ask users to guess a secret word. The maximum guess count is 3. \n",
        "If user entered the right word within the guess limit, then they win the game, else they lose the game</p>\n",
        "</div>"
      ]
    },
    {
      "cell_type": "markdown",
      "metadata": {
        "id": "ehY7c8RRyXLZ",
        "colab_type": "text"
      },
      "source": [
        "Double click <b>here</b> to see my solution.\n",
        "\n",
        "<!-- This is my code for the exercise above.\n",
        "However, note that in programming, there might be different approach to solving problems.\n",
        "You might use a different approach from mine, it doesn't matter. \n",
        "The objective is to get the desired result. \n",
        "Copy the code below and run it in another cell and compare the output with your own output.\n",
        "\n",
        "guess = \" \"\n",
        "secret_word = \"Love\"\n",
        "guess_count = 0\n",
        "\n",
        "while guess != secret_word and guess_count < 3:\n",
        "    guess = input(\"Enter secret word: \")\n",
        "    guess_count += 1\n",
        "\n",
        "if guess_count >= 3:\n",
        "    print(\"Number of trial exceeded. You lost\")\n",
        "else:\n",
        "    print(\"You win!!! You guessed it right after \" + str(guess_count) + \" trial\" )\n",
        "\n",
        "\n",
        "\n",
        "-->"
      ]
    },
    {
      "cell_type": "markdown",
      "metadata": {
        "id": "Xhbg945AyXLa",
        "colab_type": "text"
      },
      "source": [
        "<h3>Functions</h3>"
      ]
    },
    {
      "cell_type": "markdown",
      "metadata": {
        "id": "FNcum47IyXLb",
        "colab_type": "text"
      },
      "source": [
        "<div class=\"alert alert-success\">\n",
        "<p>A function is a group of related statements that performs a specific task.Functions help break our program into smaller and modular chunks. As our program grows larger and larger, functions make it more organized and manageable. Furthermore, it avoids repetition and makes the code reusable.</p>\n",
        "<p>In python, there are two types of functions, Built-in functions(Functions that are built into Python) and user-defined functions(Functions defined by the users themselves).\n",
        "</p>\n",
        "<p>If you followed through from the begining of the notebook, you should already be familair with some of the built-in functions in python like int, float, input, print, and so on.  Now, in the section, we would explore how to create our own functions to perform specific tasks.\n",
        "</p>  \n",
        "</div>"
      ]
    },
    {
      "cell_type": "markdown",
      "metadata": {
        "id": "-9qywo6EyXLc",
        "colab_type": "text"
      },
      "source": [
        "<h3>Creating a function</h3>"
      ]
    },
    {
      "cell_type": "markdown",
      "metadata": {
        "id": "vjpKKJnryXLc",
        "colab_type": "text"
      },
      "source": [
        "<div class=\"alert alert-success\">\n",
        "<p>In Python, a function is defined using the <b>def</b> keyword followed by the name of the function as shown in the syntax below: </p>\n",
        "<h5 align = \"center\"> def name_of_function():<br>\n",
        "                           block of code </h5>\n",
        "     \n",
        "</div>"
      ]
    },
    {
      "cell_type": "code",
      "metadata": {
        "id": "Mz9Os_JAyXLd",
        "colab_type": "code",
        "colab": {}
      },
      "source": [
        "def greet():                       \n",
        "    print(\"How are you doing\")"
      ],
      "execution_count": null,
      "outputs": []
    },
    {
      "cell_type": "markdown",
      "metadata": {
        "id": "ZPEPqb3nyXLo",
        "colab_type": "text"
      },
      "source": [
        "<h3>Calling a function</h3>"
      ]
    },
    {
      "cell_type": "markdown",
      "metadata": {
        "id": "Zl9vqYjuyXLp",
        "colab_type": "text"
      },
      "source": [
        "<div class=\"alert alert-success\">\n",
        "<p> A function is a block of code which only runs when it is called. \n",
        "To call a function, you use the name of the function followed by a parentheseis</p> \n",
        "</div>"
      ]
    },
    {
      "cell_type": "code",
      "metadata": {
        "id": "KFGFb1ySyXLq",
        "colab_type": "code",
        "colab": {}
      },
      "source": [
        "greet()\n"
      ],
      "execution_count": null,
      "outputs": []
    },
    {
      "cell_type": "markdown",
      "metadata": {
        "id": "geN6XsUQyXLt",
        "colab_type": "text"
      },
      "source": [
        "<h3>Arguments and parameters</h3>"
      ]
    },
    {
      "cell_type": "markdown",
      "metadata": {
        "id": "0njOPcGvyXLu",
        "colab_type": "text"
      },
      "source": [
        "<div class=\"alert alert-success\">\n",
        "<p>Information passed into a function are known as arguments. Arguments are specified after the function name inside the parentheses. You can add as many arguments as you want, just separate them with a comma.\n",
        "</p> \n",
        "\n",
        "<p>The terms parameter and argument are often used interchangeably. However, from a function's perspective, they differ slightly.\n",
        "\n",
        "<li>A parameter is the variable listed inside the parentheses in the function definition.</li>\n",
        "\n",
        "<li>An argument is the value that is sent to the function when it is called.</li>\n",
        "</div>"
      ]
    },
    {
      "cell_type": "code",
      "metadata": {
        "id": "o1uPQncvyXLv",
        "colab_type": "code",
        "colab": {}
      },
      "source": [
        "def greet(name):                              #Name here is the parameter           \n",
        "    print(\"How are you doing \" + name)\n",
        "\n",
        "    \n",
        "#Mac and Donald are arguments\n",
        "greet(\"Mac\")                           \n",
        "greet(\"Donald\")"
      ],
      "execution_count": null,
      "outputs": []
    },
    {
      "cell_type": "markdown",
      "metadata": {
        "id": "1wZbVk06yXL1",
        "colab_type": "text"
      },
      "source": [
        "<div class=\"alert alert-success\">\n",
        "<p>When calling a function, you must pass in the correct number of arguments for your function block to be executed. This implies that if you specified 2 parameters in your function definition, then, when calling the function, you should pass in exactly 2 arguments, not more, not less.</p>\n",
        "</div>"
      ]
    },
    {
      "cell_type": "code",
      "metadata": {
        "id": "0Am3WknxyXL1",
        "colab_type": "code",
        "colab": {}
      },
      "source": [
        "def greet(fname, lname):\n",
        "  print(\"Hello \" + fname + \" \" + lname)\n",
        "\n",
        "#This function expects 2 arguments. If you pass in 1 or 3 arguments, you will get an error\n",
        "greet(\"Mac\", \"Donald\")"
      ],
      "execution_count": null,
      "outputs": []
    },
    {
      "cell_type": "markdown",
      "metadata": {
        "id": "pqyWRY9iyXME",
        "colab_type": "text"
      },
      "source": [
        "<div class=\"alert alert-success\">\n",
        "<p>However, there are times you need to create a function without knowing the number of arguments that will be passed into the function.\n",
        "    In such case, you use what is called arbitrary arguments(*args). </p>\n",
        "<p>You simply add a <b>*</b> before the parameter name in \n",
        "the function definition. This way you can supply any number of argument to your function and it will run accordingly</p>\n",
        "</div>\n"
      ]
    },
    {
      "cell_type": "code",
      "metadata": {
        "id": "VmFMMN44yXME",
        "colab_type": "code",
        "colab": {}
      },
      "source": [
        "#I want to write a function that will return the maximum number\n",
        "\n",
        "def max_number(*number):\n",
        "    return max(number)\n",
        "\n",
        "#Now, I will call the function supplying different number of argumnets\n",
        "print(max_number(1,6,7,3,9,4,3))\n",
        "print(max_number(10, 10000,100))"
      ],
      "execution_count": null,
      "outputs": []
    },
    {
      "cell_type": "markdown",
      "metadata": {
        "id": "xmpXWWdTyXML",
        "colab_type": "text"
      },
      "source": [
        "<div class=\"alert alert-success\">\n",
        "<p>We also have keyword arguments(kwargs) in Python. Here, you pass in arguments with the 'key = value' syntax into your function.\n",
        "This way, the order of the arguments does not matter.</p>\n",
        "\n",
        "</div>\n"
      ]
    },
    {
      "cell_type": "code",
      "metadata": {
        "id": "HPmKjAYbyXML",
        "colab_type": "code",
        "colab": {}
      },
      "source": [
        "def student(name, age, sex):\n",
        "    print(\"The student's name is \" + name)\n",
        "\n",
        "\n",
        "student(sex = \"female\", name = \"Justina\", age = 17)"
      ],
      "execution_count": null,
      "outputs": []
    },
    {
      "cell_type": "code",
      "metadata": {
        "id": "IVz02Oh6yXMQ",
        "colab_type": "code",
        "colab": {}
      },
      "source": [
        "#We can also have arbitrary keyword arguments(**kwargs) which lets us specify any number of keyword argument\n",
        "\n",
        "def student(**info):\n",
        "    print(\"The student's name is \" + info[\"name\"])\n",
        "\n",
        "\n",
        "student(sex = \"female\", name = \"Justina\", age = 17)"
      ],
      "execution_count": null,
      "outputs": []
    },
    {
      "cell_type": "markdown",
      "metadata": {
        "id": "73kjaf66yXMW",
        "colab_type": "text"
      },
      "source": [
        "<div class=\"alert alert-success\">\n",
        "<p>We can as well specify default parameter values. This way, if we call the function without specifying an argument, it will use the default value specified in the function definition.</p>\n",
        "\n",
        "</div>\n"
      ]
    },
    {
      "cell_type": "code",
      "metadata": {
        "id": "x0HyBw6ryXMa",
        "colab_type": "code",
        "colab": {}
      },
      "source": [
        "def greet(name = \"user\"):\n",
        "    print(\"Hello \" + name)\n",
        "\n",
        "#Calling the function with an argument passed in \n",
        "greet(\"Alexis\")\n",
        "\n",
        "#Calling the function without an argument passed in. \n",
        "greet()"
      ],
      "execution_count": null,
      "outputs": []
    },
    {
      "cell_type": "markdown",
      "metadata": {
        "id": "9a6IJp-PyXMh",
        "colab_type": "text"
      },
      "source": [
        "<h3>Return and pass statements</h3>"
      ]
    },
    {
      "cell_type": "markdown",
      "metadata": {
        "id": "VAN2yLw_yXMo",
        "colab_type": "text"
      },
      "source": [
        "<div class=\"alert alert-success\">\n",
        "You use the <b>return</b> statement to get back value from your function\n",
        "</div>\n",
        "\n"
      ]
    },
    {
      "cell_type": "code",
      "metadata": {
        "id": "J9hZvweFyXMp",
        "colab_type": "code",
        "colab": {}
      },
      "source": [
        "def square(number):\n",
        "    return number * number\n",
        "\n",
        "print(square(4))\n",
        "print(square(7))\n",
        "print(square(10))"
      ],
      "execution_count": null,
      "outputs": []
    },
    {
      "cell_type": "markdown",
      "metadata": {
        "id": "D_eNAtXGyXM6",
        "colab_type": "text"
      },
      "source": [
        "<div class=\"alert alert-success\">\n",
        "Function definitions cannot be empty, but if for some reason you have a function definition with no content, put in the  <b>pass</b> statement to avoid getting an error.\n",
        "</div>"
      ]
    },
    {
      "cell_type": "code",
      "metadata": {
        "id": "-AbPlVEcyXM_",
        "colab_type": "code",
        "colab": {}
      },
      "source": [
        "#I'm creating a function that does nothing using the 'pass' statement\n",
        "def do_nothing():\n",
        "    pass"
      ],
      "execution_count": null,
      "outputs": []
    },
    {
      "cell_type": "markdown",
      "metadata": {
        "id": "B3LLqWuRyXNJ",
        "colab_type": "text"
      },
      "source": [
        "<h3>Recursion</h3>"
      ]
    },
    {
      "cell_type": "markdown",
      "metadata": {
        "id": "SMYUbn9RyXNK",
        "colab_type": "text"
      },
      "source": [
        "<div class=\"alert alert-success\">\n",
        "\n",
        "<p>Recursion is a common mathematical and programming concept. It means that a function calls itself. Python also accepts function recursion. This means a defined function in Python can call itself. One of the benefit of this is that you can loop through data to reach a result.</p>\n",
        "\n",
        "<p>However, you should be very careful with recursion as it is quite easy to slip into writing a function that never terminates, or one that uses excess amounts of memory or processor power.</p>\n",
        "\n",
        "<p>In this section, we will create a function that can compute the nth factorial of a number using recursion.\n",
        "To help you understand better, we will explain what the nth factorial of a number is.\n",
        "    nth factorial of a number is computed using the formular: <b>n! = n*(n-1)!</b> where 0!= 1! = 1</p>\n",
        "\n",
        "<p>For example:\n",
        "    <li>2! = 2*(2-1)! = 2*1! = 2*1 = 2</li>\n",
        "    <li>3! = 3*(3-1)! = 3*2! = 3*2 = 6</li>\n",
        "    <li>4! = 4 *(4-1)! = 4*3! = 4*6 = 24</li>\n",
        "</p>\n",
        "<p>This is generally how factorial is computed. You will notice that to compute a factorial(say 5!), we need to compute other factorials(4!, 3!, 2!, and 1!). This is where recursion comes in.</p>\n",
        "</div>"
      ]
    },
    {
      "cell_type": "code",
      "metadata": {
        "id": "EOzf04rZyXNM",
        "colab_type": "code",
        "colab": {}
      },
      "source": [
        "def factorial(number):\n",
        "    if number == 0 or number == 1:\n",
        "        return 1\n",
        "    else:\n",
        "        return number* factorial(number-1)       #Here, I'm calling the function inside of itself\n",
        "\n",
        "\n",
        "print(factorial(1))\n",
        "print(factorial(4))\n",
        "print(factorial(10))"
      ],
      "execution_count": null,
      "outputs": []
    },
    {
      "cell_type": "markdown",
      "metadata": {
        "id": "Xrd6T7IeyXNS",
        "colab_type": "text"
      },
      "source": [
        "<h3>Local and Global Variable</h3>"
      ]
    },
    {
      "cell_type": "markdown",
      "metadata": {
        "id": "4rr20T0ayXNS",
        "colab_type": "text"
      },
      "source": [
        "<div class=\"alert alert-success\">\n",
        "<p>A variable is only available from inside the region it is created. This is called <b>scope.</b></p>\n",
        "<p>A variable created inside a function belongs to the local scope of that function, and can only be used inside that function. Hence, it is refered to as a local variable. </p>\n",
        "<p>On the other hand, a variable created in the main body of the Python code is a global variable and belongs to the global scope.Global variables are available for use from within any scope, be it global or local.</p>\n",
        "</div>\n"
      ]
    },
    {
      "cell_type": "code",
      "metadata": {
        "id": "fWpbuDTmyXNT",
        "colab_type": "code",
        "colab": {}
      },
      "source": [
        "#Defining a local variable\n",
        "def number():\n",
        "  x = 10                            #This is a local variable and can only be used within the local scope\n",
        "  print(x)\n",
        "\n",
        "number()"
      ],
      "execution_count": null,
      "outputs": []
    },
    {
      "cell_type": "code",
      "metadata": {
        "id": "pbQtZk8GyXNY",
        "colab_type": "code",
        "colab": {}
      },
      "source": [
        "#Using it outside of the local scope will not work. Let's try it below\n",
        "def number():\n",
        "  x = 10  \n",
        "  print(x)\n",
        "\n",
        "\n",
        "print(x)\n",
        "\n",
        "#It returns the error 'Name x is not defined even though it exist within the local scope'"
      ],
      "execution_count": null,
      "outputs": []
    },
    {
      "cell_type": "code",
      "metadata": {
        "id": "pRV9axXhyXNh",
        "colab_type": "code",
        "colab": {}
      },
      "source": [
        "#Defining a global variable\n",
        "\n",
        "x = 40                             #This is a global variable that can be used both within the local and global scope\n",
        "def number():                           \n",
        "    print(x)\n",
        "    \n",
        "    \n",
        "number() \n",
        "print(x)"
      ],
      "execution_count": null,
      "outputs": []
    },
    {
      "cell_type": "code",
      "metadata": {
        "id": "VvG9_-GzyXNr",
        "colab_type": "code",
        "colab": {}
      },
      "source": [
        "name = \"Jane\"\n",
        "\n",
        "def greet():\n",
        "    name = \"Tom\"\n",
        "    print(\"Hello \" + name)\n",
        "\n",
        "greet()\n",
        "\n",
        "print(\"Hello \" + name)"
      ],
      "execution_count": null,
      "outputs": []
    },
    {
      "cell_type": "markdown",
      "metadata": {
        "id": "VbcibXXyyXNw",
        "colab_type": "text"
      },
      "source": [
        "<div class=\"alert alert-success\">\n",
        "Though name is defined in the local scope as well as the global scope, the local scope will however use the local variable.\n",
        "The way it works is that when you reference a variable, it first check if it is available within the local scope before it looks for it outside the local scope </div>"
      ]
    },
    {
      "cell_type": "markdown",
      "metadata": {
        "id": "NXX0hhKxyXNz",
        "colab_type": "text"
      },
      "source": [
        "<div class=\"alert alert-success\">\n",
        "You can also define a global variable within the local scope by using the <b>global</b> keyword. That way, it can be used within the local as well the global scope. You can also use the global keyword inside a local scope to overide the value of the variable in the global scope </div>"
      ]
    },
    {
      "cell_type": "code",
      "metadata": {
        "id": "fX9LzOdeyXN_",
        "colab_type": "code",
        "colab": {}
      },
      "source": [
        "name = \"Jane\"\n",
        "\n",
        "def greet():\n",
        "    global name                  #Defining a global varaible within the local scope\n",
        "    name = \"Tom\"\n",
        "    print(\"Hello \" + name)\n",
        "\n",
        "    \n",
        "greet()\n",
        "\n",
        "print(\"Hello \" + name)"
      ],
      "execution_count": null,
      "outputs": []
    },
    {
      "cell_type": "markdown",
      "metadata": {
        "id": "DQb4oxu_yXOD",
        "colab_type": "text"
      },
      "source": [
        "<h3>Lambda Functions</h3>"
      ]
    },
    {
      "cell_type": "markdown",
      "metadata": {
        "id": "Hx9kZeCryXOE",
        "colab_type": "text"
      },
      "source": [
        "<div class=\"alert alert-success\">\n",
        "<p>A lambda function is a small anonymous function whic can take any number of arguments, but can only have one expression.\n",
        "The expression is executed and the result is returned</p>\n",
        "<p>Its syntax is  -->        \n",
        "<b>lambda arguments : expression</b></div>"
      ]
    },
    {
      "cell_type": "code",
      "metadata": {
        "id": "tQFvfqdUyXOF",
        "colab_type": "code",
        "colab": {}
      },
      "source": [
        "#A lambda function that multiplies the number passed in as argument by 10 \n",
        "x = lambda a : a * 10\n",
        "print(x(5))"
      ],
      "execution_count": null,
      "outputs": []
    },
    {
      "cell_type": "code",
      "metadata": {
        "id": "lVqWXZxvyXOR",
        "colab_type": "code",
        "colab": {}
      },
      "source": [
        "#A lambda function that multiplies argument x with argument y\n",
        "\n",
        "result = lambda x, y : x * y\n",
        "print(result(9, 7))"
      ],
      "execution_count": null,
      "outputs": []
    },
    {
      "cell_type": "markdown",
      "metadata": {
        "id": "Y4_A4xGzyXOV",
        "colab_type": "text"
      },
      "source": [
        "<h3>Classes and objects</h3>"
      ]
    },
    {
      "cell_type": "markdown",
      "metadata": {
        "id": "qx5l1ZfUyXOV",
        "colab_type": "text"
      },
      "source": [
        "<div class=\"alert alert-success\">\n",
        "<p>Python is an object oriented programming language. Almost everything in Python is modeled as an object, with attributes(properties) and methods. A Class is a blueprint for creating objects. </p>\n",
        "\n",
        "<p>For example, we all belong to the 'human being' class. However, we are all different and unique objects of the class. There are specific attributes of the human being class(like sex, height, hair color, and so on) which must be defined in the creation of the object. The class simply give us an overview of what the object should look like. So, we can say that the objects are specific instances of a class.</p>\n",
        "\n",
        "<p>To create a class, we use the keyword <b>class.</b></p>\n",
        "<p>Note, unlike varibale and function names that use the snake case(e.g my_name), class names follows the camelcase(e.g MyClass)</p></div>\n",
        "\n",
        "<div class=\"alert alert-success\">\n",
        "<p>Also, in the definition of a class, we have a built-in function called initializer/constructor function <b>__init__()</b>. It is a reserved function in python. To fully understand the meaning of classes you have to understand the built-in __init__() function. All classes must have a function called __init__(), which is always executed when the class is being initiated. The __init__() function is used to assign values to object properties, or other operations that are necessary to do when the object is being created. </p>\n",
        "<p>There is also another built-in function called the representation function <b>__repr__()</b>. This function defines how the objects will be represented. Though, it is not compulsory for all class definition but you will surely need it for others</p>\n",
        "<p>Methods having two prefix and suffix underscores in the method name are known as dunder(double underscore) methods. They are also refered to as magic methods. These are often used for operator overloading. Example are the ones we mentioned above. Other examples are: __add__. __sub__, __len__, __str__, and so on. You will get to understand dunder methods better as we begin hands on in this section</p>\n",
        "</div>"
      ]
    },
    {
      "cell_type": "code",
      "metadata": {
        "id": "ugFlTElgyXOW",
        "colab_type": "code",
        "colab": {}
      },
      "source": [
        "class Car:\n",
        "    def __init__ (self, model, color, year, is_automatic):    #self is a compulsory paramater when defining the __init__ method\n",
        "        self.model = model\n",
        "        self.color = color\n",
        "        self.year = year\n",
        "        self. is_automatic = is_automatic\n",
        "    def drive(self, on_motion):\n",
        "        if on_motion == False:\n",
        "            return(\"The car is on motion\")\n",
        "            on_motion = True\n",
        "        else:\n",
        "            return(\"The car is already on motion\")\n",
        "    def stop_drive(self, on_motion):\n",
        "        if on_motion:\n",
        "            return(\"The car is now stopped\")\n",
        "            on_motion = False\n",
        "        else:\n",
        "            return(\"This car wasn't on motion\")"
      ],
      "execution_count": null,
      "outputs": []
    },
    {
      "cell_type": "markdown",
      "metadata": {
        "id": "_ffA0gZVyXOc",
        "colab_type": "text"
      },
      "source": [
        "<div class=\"alert alert-success\">\n",
        "    The <b>self</b> parameter is a reference to the current instance of the class, and is used to access variables that belongs to the class. It does not have to be named self , you can call it whatever you like, but it has to be the first parameter of any function in the class </div>"
      ]
    },
    {
      "cell_type": "code",
      "metadata": {
        "id": "AcasPfvnyXOd",
        "colab_type": "code",
        "colab": {}
      },
      "source": [
        "#Now, we will use the class we have created above to create objects of the class\n",
        "car1 = Car(\"Nissan\", \"Red\", \"2010\", False)  \n",
        "print(car1.model)\n",
        "print(car1.year)\n",
        "\n",
        "print(car1.drive(False))\n",
        "print(car1.stop_drive(True))\n"
      ],
      "execution_count": null,
      "outputs": []
    },
    {
      "cell_type": "code",
      "metadata": {
        "id": "mTR2A67NyXOi",
        "colab_type": "code",
        "colab": {}
      },
      "source": [
        "car2 = Car(\"Benz\", \"Black\", \"2020\", True)  #car object\n",
        "print(car2.color)\n",
        "print(car1.is_automatic)"
      ],
      "execution_count": null,
      "outputs": []
    },
    {
      "cell_type": "code",
      "metadata": {
        "id": "1fDNGklgyXOt",
        "colab_type": "code",
        "colab": {}
      },
      "source": [
        "#I want to create a class that will allow me represent numbers as fractions\n",
        "class Fraction():\n",
        "\n",
        "    def __init__(self, numerator, denominator):\n",
        "        self.numerator = numerator\n",
        "        self.denominator = denominator\n",
        "\n",
        "    def __repr__(self):\n",
        "        return '%d/%d' % (self.numerator, self.denominator)\n",
        "\n",
        "fraction1 = Fraction(1,3)\n",
        "print(fraction1)\n",
        "\n",
        "fraction2 = Fraction(10,5)\n",
        "print(fraction2)"
      ],
      "execution_count": null,
      "outputs": []
    },
    {
      "cell_type": "code",
      "metadata": {
        "id": "JX4-ruBlyXOx",
        "colab_type": "code",
        "colab": {}
      },
      "source": [
        "#Now, I  want to add other metods that will allow me perform multiplication and reducing the fraction to its lowest terms\n",
        "\n",
        "class Fraction(object):\n",
        "\n",
        "    def __init__(self, numerator, denominator):\n",
        "        self.numerator = numerator\n",
        "        self.denominator = denominator\n",
        "\n",
        "    def __repr__(self):\n",
        "        return '%d/%d' % (self.numerator, self.denominator)\n",
        "\n",
        "    def __mul__(self, number):\n",
        "        if isinstance(number, int):\n",
        "                return Fraction(self.numerator * number, self.denominator)\n",
        "        elif isinstance(number, Fraction):\n",
        "            return Fraction(self.numerator * number.numerator, self.denominator * number.denominator)\n",
        "        else:\n",
        "            raise TypeError('Expected number to be int or Rational. Got %s' % type(number))\n",
        "        \n",
        "    def _hcd(self):\n",
        "        smaller = min(self.numerator, self.denominator)\n",
        "        small_divisors = {i for i in range(1, smaller + 1) if smaller % i == 0}\n",
        "        larger = max(self.numerator, self.denominator)\n",
        "        common_divisors = {i for i in small_divisors if larger % i == 0}\n",
        "        return max(common_divisors)\n",
        "\n",
        "    def reduce(self):\n",
        "        hcd = self._hcd()\n",
        "        self.numerator = self.numerator / hcd\n",
        "        self.denominator = self.denominator / hcd\n",
        "        return self"
      ],
      "execution_count": null,
      "outputs": []
    },
    {
      "cell_type": "code",
      "metadata": {
        "id": "RrGnoM1IyXO1",
        "colab_type": "code",
        "colab": {}
      },
      "source": [
        "fraction1 = Fraction(1,3)\n",
        "print(fraction1)\n",
        "\n",
        "fraction2 = Fraction(10,5)\n",
        "print(fraction2)"
      ],
      "execution_count": null,
      "outputs": []
    },
    {
      "cell_type": "code",
      "metadata": {
        "id": "yOZtx8FdyXO-",
        "colab_type": "code",
        "colab": {}
      },
      "source": [
        "fraction2.reduce()"
      ],
      "execution_count": null,
      "outputs": []
    },
    {
      "cell_type": "code",
      "metadata": {
        "id": "YfFBjwjPyXPC",
        "colab_type": "code",
        "colab": {}
      },
      "source": [
        "fraction3 = fraction1*2\n",
        "print(fraction3)"
      ],
      "execution_count": null,
      "outputs": []
    },
    {
      "cell_type": "markdown",
      "metadata": {
        "id": "RTA-GN88yXPG",
        "colab_type": "text"
      },
      "source": [
        "<div class=\"alert alert-success\">\n",
        "<p>Note: To use the __mul__ function, I didn't have o call it like the way I did with the reduce function. This is because the __mul__ function is a dunder method. You can deduce that from the double underscore prefix and suffix it has. \n",
        "    All I need do is use the operator * and python recognise I am refering to the __mul__ method. same applies for __add__, __sub__, and other dunder methods</p>\n",
        "    \n",
        "<p>You will also notice another method in the Fraction class above(_hcd) with a single underscore. This kind of functions are called helper functions. They are not called directly but serve as helper functions to other function. The _hcd function above was used to compute the the reduce function</p>\n",
        "    \n",
        "</div>"
      ]
    },
    {
      "cell_type": "markdown",
      "metadata": {
        "id": "bZV8BePByXPG",
        "colab_type": "text"
      },
      "source": [
        "<h3>Inheritance</h3>"
      ]
    },
    {
      "cell_type": "markdown",
      "metadata": {
        "id": "KM-xiL2kyXPH",
        "colab_type": "text"
      },
      "source": [
        "<div class=\"alert alert-success\">\n",
        "Inheritance allows us to define a class that inherits all the methods and properties from another class.\n",
        "    <b>Parent class</b> is the class being inherited from, also called base class. <b>Child class</b> is the class that inherits from another class, also called derived class. Any class can be a parent class, so the syntax is the same as creating any other class</div>"
      ]
    },
    {
      "cell_type": "code",
      "metadata": {
        "id": "XkZxBUYfyXPI",
        "colab_type": "code",
        "colab": {}
      },
      "source": [
        "\n",
        "#I can make my Vehicle class inherit all the properties of the Car class since they share similar properties\n",
        "class Vehicle(Car):\n",
        "    pass"
      ],
      "execution_count": null,
      "outputs": []
    },
    {
      "cell_type": "code",
      "metadata": {
        "id": "i8AFQFPQyXPN",
        "colab_type": "code",
        "colab": {}
      },
      "source": [
        "vehicle1 = Vehicle(\"Honda\", \"White\", \"2020\", False)\n",
        "\n",
        "print(vehicle1.model)\n"
      ],
      "execution_count": null,
      "outputs": []
    },
    {
      "cell_type": "code",
      "metadata": {
        "id": "r33hTantyXPR",
        "colab_type": "code",
        "colab": {}
      },
      "source": [
        "#I can also add additional properties that are not in the parent class to the child class\n",
        "class Vehicle(Car):\n",
        "    def info(self):\n",
        "        return (\"This a child class of the Car class\")"
      ],
      "execution_count": null,
      "outputs": []
    },
    {
      "cell_type": "code",
      "metadata": {
        "id": "7kvSNYFUyXPd",
        "colab_type": "code",
        "colab": {}
      },
      "source": [
        "vehicle1 = Vehicle(\"Honda\", \"White\", \"2020\", False)\n",
        "\n",
        "print(vehicle1.model)\n",
        "print(vehicle1.info())"
      ],
      "execution_count": null,
      "outputs": []
    },
    {
      "cell_type": "markdown",
      "metadata": {
        "id": "_nwj3FsfyXPt",
        "colab_type": "text"
      },
      "source": [
        "<h3>Try Except</h3>"
      ]
    },
    {
      "cell_type": "markdown",
      "metadata": {
        "id": "45TnqYYnyXPu",
        "colab_type": "text"
      },
      "source": [
        "<div class=\"alert alert-success\">\n",
        "<p>When an error(exception) occurs, Python will normally stop and generate an error message. These exceptions can be handled using the try statement. The <b>try block</b> lets you test a block of code for errors. The <b>except block</b> lets you handle the error. This is very important in real life programs because you need to handle all sort of errors users can encounter when interacting with your programs. </p>\n",
        "    \n",
        "    \n",
        "<p>There is also another block called the <b>finally block</b> which lets you execute code, regardless of the result of the try- and except blocks.</p></div>"
      ]
    },
    {
      "cell_type": "code",
      "metadata": {
        "id": "j0F9GAScyXPv",
        "colab_type": "code",
        "colab": {}
      },
      "source": [
        "try:\n",
        "    print(food)\n",
        "except:\n",
        "    print(\"An exception occurred because food is not defined\")"
      ],
      "execution_count": null,
      "outputs": []
    },
    {
      "cell_type": "code",
      "metadata": {
        "id": "ZRSDqYmAyXPz",
        "colab_type": "code",
        "colab": {}
      },
      "source": [
        "#You can also use this to catch errors when users are interecating with your program\n",
        "try:\n",
        "    number= int(input(\"Enter a number: \"))\n",
        "    print(number)\n",
        "except:\n",
        "    print(\"Invalid input, please enter a valid number\")\n",
        "\n",
        "print(\"Even if an error is encountered, this will still be executed because the try except block has handled the error\")\n"
      ],
      "execution_count": null,
      "outputs": []
    },
    {
      "cell_type": "markdown",
      "metadata": {
        "id": "4_KN-u2xyXP2",
        "colab_type": "text"
      },
      "source": [
        "<div class=\"alert alert-success\">\n",
        "This ensures if users enter an input that is not a number, the program will simply inform the user rather than yelling at the users with error messages that they do not understand\n",
        "</div>"
      ]
    },
    {
      "cell_type": "markdown",
      "metadata": {
        "id": "KKqxL5ukyXP3",
        "colab_type": "text"
      },
      "source": [
        "<div class=\"alert alert-success\">\n",
        "We can also catch specific kind of errors. At one point or the other when building your program, you must have encountered certain type of errors like TypeError, ValueError, SyntaxError, and so on. If you know that when users are interacting with your program, they might encounter certain type of error, you can catch the specific error and probably tell user what they are doing wrong\n",
        "</div>"
      ]
    },
    {
      "cell_type": "code",
      "metadata": {
        "id": "_RCYBYcOyXP4",
        "colab_type": "code",
        "colab": {}
      },
      "source": [
        "#catching specific type of errors\n",
        "try:\n",
        "    number= int(input(\"Enter a number: \"))\n",
        "    print(number/0)\n",
        "except ZeroDivisionError:\n",
        "    print(\"Number cannot be divided by 0\")"
      ],
      "execution_count": null,
      "outputs": []
    },
    {
      "cell_type": "markdown",
      "metadata": {
        "id": "tlbRDM8MyXQA",
        "colab_type": "text"
      },
      "source": [
        "<div class=\"alert alert-success\">\n",
        "<p>In the above block of code, we have been able to catch the ZeroDivisionError.\n",
        "However,if we enter a value that is not a number, we will recieve a ValueError. Now we will catch that error too.</p>\n",
        "<p>Note: We can have many excepts block to catch different kind of errors that could be encountered when the try block is executed</p>\n",
        "</div>"
      ]
    },
    {
      "cell_type": "code",
      "metadata": {
        "id": "YomQzteAyXQA",
        "colab_type": "code",
        "colab": {}
      },
      "source": [
        "try:\n",
        "    user_input= input(\"Enter a number: \")\n",
        "    number = int(user_input)\n",
        "    print(number/0)\n",
        "except ZeroDivisionError:\n",
        "    print(\"Number cannot be divided by 0\")\n",
        "except ValueError:\n",
        "    print(\"Unsupported data type. Number should be int or float. Got type: {}\".format(type(user_input)))"
      ],
      "execution_count": null,
      "outputs": []
    },
    {
      "cell_type": "markdown",
      "metadata": {
        "id": "d3R_BJm7yXQE",
        "colab_type": "text"
      },
      "source": [
        "<div class=\"alert alert-success\">\n",
        "We can also display the actual error message that was encountered to the user. \n",
        "</div>"
      ]
    },
    {
      "cell_type": "code",
      "metadata": {
        "id": "cBYKGO12yXQG",
        "colab_type": "code",
        "colab": {}
      },
      "source": [
        "#printing the actual error message\n",
        "try:\n",
        "    value = 10/0\n",
        "except ZeroDivisionError as error:   \n",
        "    print(error)"
      ],
      "execution_count": null,
      "outputs": []
    },
    {
      "cell_type": "code",
      "metadata": {
        "id": "SuG8QlWbyXQP",
        "colab_type": "code",
        "colab": {}
      },
      "source": [
        "try:\n",
        "    print(food)\n",
        "except NameError as error:\n",
        "    print(error)"
      ],
      "execution_count": null,
      "outputs": []
    },
    {
      "cell_type": "code",
      "metadata": {
        "id": "GZxiFROOyXQf",
        "colab_type": "code",
        "colab": {}
      },
      "source": [
        "try:\n",
        "    number = input(\"Enter a number: \")\n",
        "    add = number + 2\n",
        "    print(add)\n",
        "except TypeError as err:\n",
        "    print(err)"
      ],
      "execution_count": null,
      "outputs": []
    },
    {
      "cell_type": "markdown",
      "metadata": {
        "id": "BAIokFoMyXQk",
        "colab_type": "text"
      },
      "source": [
        "<div class=\"alert alert-success\">\n",
        "The finally block, if specified, will be executed regardless if the try block raises an error or not.\n",
        "</div>"
      ]
    },
    {
      "cell_type": "code",
      "metadata": {
        "id": "Rq49qk7qyXQk",
        "colab_type": "code",
        "colab": {}
      },
      "source": [
        "# num = 5\n",
        "try:\n",
        "    print(num)\n",
        "except:\n",
        "    print(\"Variable num is not defined\")\n",
        "finally:\n",
        "    print(\"The try except block is done executing\")\n"
      ],
      "execution_count": null,
      "outputs": []
    },
    {
      "cell_type": "markdown",
      "metadata": {
        "id": "ppR3hbNSyXQo",
        "colab_type": "text"
      },
      "source": [
        "<div class=\"alert alert-success\">\n",
        "Now uncomment 'food = 5' in the cell above and run the cell again. You will see that the finally block will always execute regardless of the output of the try-except block</div>"
      ]
    },
    {
      "cell_type": "markdown",
      "metadata": {
        "id": "dA_RI028yXQp",
        "colab_type": "text"
      },
      "source": [
        "<div class=\"alert alert-success\">\n",
        "<h3>Raising an exception</h3>\n",
        "<p>As a Python developer you can choose to raise an exception if a condition occurs. This is called raising or throwing an exception. To throw an exception, we use the <b>raise</b> keyword.</p>\n",
        "</div>"
      ]
    },
    {
      "cell_type": "code",
      "metadata": {
        "id": "1zwf9imiyXQq",
        "colab_type": "code",
        "colab": {}
      },
      "source": [
        "password_entry_count = 4\n",
        "\n",
        "if password_entry_count > 3:\n",
        "    raise Exception(\"Sorry, maximum trial exceeded\")"
      ],
      "execution_count": null,
      "outputs": []
    },
    {
      "cell_type": "markdown",
      "metadata": {
        "id": "1Epu0-igyXQv",
        "colab_type": "text"
      },
      "source": [
        "<div class=\"alert alert-success\">\n",
        "When raising an exception, you can specify the kind of error to raise, and the text that should be printed to the user.\n",
        "</div>"
      ]
    },
    {
      "cell_type": "code",
      "metadata": {
        "id": "jD2krDO2yXQw",
        "colab_type": "code",
        "colab": {}
      },
      "source": [
        "name = 4\n",
        "if not isinstance(name, str):\n",
        "    raise TypeError(\"Only strings are allowed. Got type: {}\".format(type(name)))"
      ],
      "execution_count": null,
      "outputs": []
    },
    {
      "cell_type": "markdown",
      "metadata": {
        "id": "FAbwEZ0XyXQ0",
        "colab_type": "text"
      },
      "source": [
        "<h3>Reading and writing to files</h3>"
      ]
    },
    {
      "cell_type": "markdown",
      "metadata": {
        "id": "vzgwr4eLyXQ0",
        "colab_type": "text"
      },
      "source": [
        "<div class=\"alert alert-success\">\n",
        "<p>The key function for working with files in Python is the <b>open()</b> function. The open() function takes two parameters; filename, and mode.\n",
        "There are five different modes for opening a file:\n",
        "    <li>\"r\" - This mode allows you to open a file for reading. It is the deafult mode in the open funtion. If the specified file does not exist, it will rasie an error</li>\n",
        "    <li>\"a\" - This mode allows you open a file for appending. It returns an error if the file does not exist</li>\n",
        "    <li>\"w\" - This opens a file for writing. It creates the file if it does not exist and overwrite the file if it does exist</li>\n",
        "    <li>\"r+\" - This allows you open a file for reading and writing.</li>\n",
        "    <li>\"x\" - This creates the specified file and returns an error if the file exists</li></p>\n",
        "<p>You can also specify if the file should be handled as a \"t\" (text file) which is the defaukt value or as a \"b\" (binary file. e.g Images)</p>\n",
        "</div>"
      ]
    },
    {
      "cell_type": "code",
      "metadata": {
        "id": "sRCsxI6VyXQ2",
        "colab_type": "code",
        "colab": {}
      },
      "source": [
        "car = open(\"car.txt\", \"r\")     #specifying the file path and mode you want to open the file in\n",
        "\n",
        "print(car.readable())              #checks if its readable, will return true because I opened in \"r\" mode\n",
        "print(car.read())\n",
        "\n",
        "print(car.readline())\n",
        "print(car.readlines())\n",
        "\n",
        "car.close()    "
      ],
      "execution_count": null,
      "outputs": []
    },
    {
      "cell_type": "markdown",
      "metadata": {
        "id": "JctjR-x9yXQ7",
        "colab_type": "text"
      },
      "source": [
        "<div class=\"alert alert-success\">\n",
        "You should also develop the habit of closing a file anytime you open it. You do this using the <b>.close</b> attribute along with the file name as specified in the last line of code in the cell above\n",
        "</div>"
      ]
    },
    {
      "cell_type": "code",
      "metadata": {
        "id": "J39t-FzTyXQ8",
        "colab_type": "code",
        "colab": {}
      },
      "source": [
        "#appending to files\n",
        "car = open(\"car.txt\", \"a\") \n",
        "car.write(\"Camry\\n\")\n",
        "car.write(\"Toyota\\n\")\n",
        "\n",
        "\n",
        "\n",
        "car.close()   "
      ],
      "execution_count": null,
      "outputs": []
    },
    {
      "cell_type": "code",
      "metadata": {
        "id": "gnm27oDUyXRE",
        "colab_type": "code",
        "colab": {}
      },
      "source": [
        "car = open(\"car.txt\", \"r\")  \n",
        "\n",
        "print(car.readable())            \n",
        "print(car.read())\n",
        "\n",
        "print(car.readline())\n",
        "\n",
        "car.close()    \n"
      ],
      "execution_count": null,
      "outputs": []
    },
    {
      "cell_type": "code",
      "metadata": {
        "id": "RVZyxDPWyXRK",
        "colab_type": "code",
        "colab": {}
      },
      "source": [
        "#Creating a new file\n",
        "new_file = open(\"new.txt\", \"w\") \n",
        "new_file.write(\"This is a new file\\n\")\n",
        "new_file.write(\"Yes, it is a new file\")\n",
        "\n",
        "\n",
        "new_file.close()    \n"
      ],
      "execution_count": null,
      "outputs": []
    },
    {
      "cell_type": "code",
      "metadata": {
        "id": "Erm47VkiyXRO",
        "colab_type": "code",
        "colab": {}
      },
      "source": [
        "new = open(\"new.txt\", \"r\")  \n",
        "\n",
        "print(new.readable())            \n",
        "print(new.read())\n",
        "\n",
        "print(new.readline())\n",
        "\n",
        "new.close()    "
      ],
      "execution_count": null,
      "outputs": []
    },
    {
      "cell_type": "code",
      "metadata": {
        "id": "YgCBDDwkyXRY",
        "colab_type": "code",
        "colab": {}
      },
      "source": [
        "new = open(\"new.txt\", \"x\") "
      ],
      "execution_count": null,
      "outputs": []
    },
    {
      "cell_type": "markdown",
      "metadata": {
        "id": "bWQ1-JsayXRk",
        "colab_type": "text"
      },
      "source": [
        "<h4>Deleting a file</h4>"
      ]
    },
    {
      "cell_type": "markdown",
      "metadata": {
        "id": "QcbrPtsqyXRk",
        "colab_type": "text"
      },
      "source": [
        "<div class=\"alert alert-success\">\n",
        "To delete a file, you must import the OS module, and run the os.remove() function\n",
        "</div>"
      ]
    },
    {
      "cell_type": "code",
      "metadata": {
        "id": "5ARSDYOxyXRl",
        "colab_type": "code",
        "colab": {}
      },
      "source": [
        "import os\n",
        "os.remove(\"new.txt\")"
      ],
      "execution_count": null,
      "outputs": []
    },
    {
      "cell_type": "markdown",
      "metadata": {
        "id": "E_Y73EjWyXRp",
        "colab_type": "text"
      },
      "source": [
        "<div class=\"alert alert-success\">\n",
        "You can also check if the file exist before using the os.remove() function to avoid any error\n",
        "</div> "
      ]
    },
    {
      "cell_type": "code",
      "metadata": {
        "id": "B1SEJkLeyXRp",
        "colab_type": "code",
        "colab": {}
      },
      "source": [
        "if os.path.exists(\"new.txt\"):\n",
        "    os.remove(\"new.txt\")\n",
        "else:\n",
        "    print(\"The file does not exist\")"
      ],
      "execution_count": null,
      "outputs": []
    },
    {
      "cell_type": "code",
      "metadata": {
        "id": "mpoTwVQDyXR-",
        "colab_type": "code",
        "colab": {}
      },
      "source": [
        "if os.path.exists(\"name.txt\"):\n",
        "    os.remove(\"name.txt\")\n",
        "    print(\"File deleted\")\n",
        "else:\n",
        "    print(\"The file does not exist\")"
      ],
      "execution_count": null,
      "outputs": []
    },
    {
      "cell_type": "markdown",
      "metadata": {
        "id": "xHf11DhpyXSP",
        "colab_type": "text"
      },
      "source": [
        "<h2>Final Quiz</h2>"
      ]
    },
    {
      "cell_type": "markdown",
      "metadata": {
        "id": "TXKMh4DoyXSQ",
        "colab_type": "text"
      },
      "source": [
        "<div class=\"alert alert-danger\">\n",
        "<p>Run the cell below. DO NOT MODIFY THE CELL. SIMPLY RUN IT AND ANSWER THE QUIZ QUESTION.\n",
        "    </p>\n",
        "    <p>Answer all questions. Select the appropriate option to the question. Enter A,B,C,or D in the text box</p>\n",
        "\n",
        "<p>Note: You can enter the option in lower or uppercase. </p>\n",
        "</div>"
      ]
    },
    {
      "cell_type": "code",
      "metadata": {
        "id": "moesBqW4yXSQ",
        "colab_type": "code",
        "colab": {}
      },
      "source": [
        "class Quiz():\n",
        "    def __init__(self, prompt, answer):\n",
        "        self.prompt = prompt\n",
        "        self.answer = answer  \n",
        "\n",
        "        \n",
        "question_prompt = [\n",
        "    '''1. What is a correct syntax to output \"Hello World\" in Python 3?\\n (A) print(\"Hello World\")\\n (B) Print(\"Hello World\")\\n (C) print \"Hello World\"\\n (D) print(Hello World)\\n\\n''',\n",
        "    '''2. What is the correct syntax to output the type of a variable or object in Python?\\n (A) print(\"typeof(x)\")\\n (B) Print(typeOf(x))\\n (C) print(type(x))\\n (D) print(type x)\\n\\n''',\n",
        "    '''3. A code that is not only syntatically correct but also follows the PEP 8 guidelines is a said to be?\\n (A) Syntatically correct\\n (B) Pythonic\\n (C) PEP 8\\n (D) PEP 8 consitent\\n\\n''',\n",
        "    '''4. Which of this is not a basic data type in Python?\\n (A) Boolean\\n (B) Float\\n (C) Character\\n (D) String\\n\\n''',\n",
        "    '''5. All these are data structures in Python except?\\n (A) Tuple\\n (B) List\\n (C) Group\\n (D) Dictionary\\n\\n''', \n",
        "    '''6. What is the correct way to create a function in Python?\\n (A) def function_name():\\n (B) def function_name()\\n (C) def function_name:\\n (D) def function_name(self)\\n\\n''',\n",
        "    '''7. What method is used to return the length of a string?\\n (A) lenght()\\n (B) size()\\n (C) num()\\n (D) len()\\n\\n''',\n",
        "    '''8. What does this expression return: 3%2\\n (A) The percentage of 3 divided by 2\\n (B) The percentage of 2\\n (C) The remainder of 3 divided by 2\\n (D) The percentage of 2 divided by 3\\n\\n''',\n",
        "    '''9. What is the operator '=' called in Python?\\n (A) Equality operator\\n (B) Assignment operator\\n (C) Equal to operator\\n (D) Comparison operator\\n\\n''',\n",
        "    '''10. Which data structure is defined using a paranthesis?\\n (A) List\\n (B) Set\\n (C) Dictionary\\n (D) Tuple\\n\\n''',\n",
        "    '''11. \"Hello\" is the same thing as \"hello\" in Python\\n (A) True\\n (B) False\\n\\n''',\n",
        "    '''12. A set is ordered\\n (A) True\\n (B) False\\n\\n''',\n",
        "    '''13. A tuple is immutabe\\n (A) True\\n (B) False\\n\\n''',\n",
        "    '''14. Which data structure is ordered, changeable, and allows duplicate members?\\n (A) Tuple\\n (B) Set\\n (C) Dictionary\\n (D) List\\n\\n''',\n",
        "    '''15. Which data structure stores only unique items?\\n (A) Tuple\\n (B) Set\\n (C) Dictionary\\n (D) List\\n\\n''',\n",
        "    '''16. An object is an instance of a class\\n (A) True\\n (B) False\\n\\n''',\n",
        "    '''17. A class is a user defined data type\\n (A) True\\n (B) False\\n\\n''',\n",
        "    '''18. Which statement is used to stop a loop\\n (A) exit\\n (B) stop\\n (C) end\\n (D) break\\n\\n''',\n",
        "    '''19. Python is an object oriented program\\n (A) True\\n (B) False\\n\\n''',\n",
        "    '''20. Which file mode allows you to create a file and overwrite the file if it exists\\n (A) \"r\"\\n (B) \"a\"\\n (C) \"x\"\\n (D) \"w\"\\n\\n'''\n",
        "]\n",
        "\n",
        "\n",
        "\n",
        "questions = [\n",
        "    Quiz(question_prompt[0], \"A\"),\n",
        "    Quiz(question_prompt[1], \"C\"),\n",
        "    Quiz(question_prompt[2], \"B\"),\n",
        "    Quiz(question_prompt[3], \"C\"),\n",
        "    Quiz(question_prompt[4], \"C\"),\n",
        "    Quiz(question_prompt[5], \"A\"),\n",
        "    Quiz(question_prompt[6], \"D\"),\n",
        "    Quiz(question_prompt[7], \"C\"),\n",
        "    Quiz(question_prompt[8], \"B\"),\n",
        "    Quiz(question_prompt[9], \"D\"),\n",
        "    Quiz(question_prompt[10], \"B\"),\n",
        "    Quiz(question_prompt[11], \"B\"),\n",
        "    Quiz(question_prompt[12], \"A\"),\n",
        "    Quiz(question_prompt[13], \"D\"),\n",
        "    Quiz(question_prompt[14], \"B\"),\n",
        "    Quiz(question_prompt[15], \"A\"),\n",
        "    Quiz(question_prompt[16], \"A\"),\n",
        "    Quiz(question_prompt[17], \"D\"),\n",
        "    Quiz(question_prompt[18], \"A\"),\n",
        "    Quiz(question_prompt[19], \"D\")\n",
        "]\n",
        "\n",
        "\n",
        "\n",
        "def run_quiz(questions):\n",
        "    score = 0\n",
        "    correction = {}\n",
        "    print(\"Answer all questions. Select the right option to each questions(A, B, C or D)\")\n",
        "    for question in questions:\n",
        "        answer = input(question.prompt)\n",
        "        if answer.upper() == question.answer:\n",
        "            score += 1\n",
        "        else:\n",
        "            correction[question.prompt[0:3]] = question.answer\n",
        "    result = (score/len(questions))*100\n",
        "    print(\"\\nYou had {}% in the quiz\".format(result))\n",
        "    if result != 100:\n",
        "        print(\"Check correction below: \\n\")\n",
        "        for question_number in correction:\n",
        "            print(question_number, correction[question_number])\n",
        "#             print (\"The right answer to question {} is {}\".format(question_number, correction[question_number]))\n",
        "    \n",
        "\n",
        "run_quiz(questions)"
      ],
      "execution_count": null,
      "outputs": []
    },
    {
      "cell_type": "markdown",
      "metadata": {
        "id": "EL5Z9JEQyXSa",
        "colab_type": "text"
      },
      "source": [
        "<div class=\"alert alert-info\">\n",
        "<p><big><big>&#128079;&#127996;</big></big>\n",
        "    <big><big>&#128079;&#127996;</big></big>  <big><big>&#128079;&#127996;</big></big>\n",
        "    <big><big>&#128079;&#127996;</big></big>  <big><big>&#128079;&#127996;</big></big>\n",
        "    <big><big>&#128079;&#127996;</big></big>  <big><big>&#128079;&#127996;</big></big>\n",
        "    <big><big>&#128079;&#127996;</big></big>   <big><big>&#128079;&#127996;</big></big>\n",
        "    <big><big>&#128079;&#127996;</big></big>   <big><big>&#128079;&#127996;</big></big>\n",
        "    <big><big>&#128079;&#127996;</big></big>   <big><big>&#128079;&#127996;</big></big>\n",
        "    <big><big>&#128079;&#127996;</big></big>   <big><big>&#128079;&#127996;</big></big>\n",
        "    <big><big>&#128079;&#127996;</big></big>   <big><big>&#128079;&#127996;</big></big>\n",
        "    <big><big>&#128079;&#127996;</big></big>    <big><big>&#128079;&#127996;</big></big>\n",
        "    <big><big>&#128079;&#127996;</big></big>    <big><big>&#128079;&#127996;</big></big>\n",
        "    <big><big>&#128079;&#127996;</big></big>    <big><big>&#128079;&#127996;</big></big>\n",
        "    <big><big>&#128079;&#127996;</big></big>    <big><big>&#128079;&#127996;</big></big>\n",
        "    <big><big>&#128079;&#127996;</big></big>     <big><big>&#128079;&#127996;</big></big>\n",
        "    <big><big>&#128079;&#127996;</big></big>     <big><big>&#128079;&#127996;</big></big>\n",
        "    <big><big>&#128079;&#127996;</big></big>     <big><big>&#128079;&#127996;</big></big>\n",
        "    </p>\n",
        "    \n",
        "<p><h2>Thumbs up for making it to the end of this notebook. You just earned the avid learner certification as well as the Python fundamentals certification!!!!!</h2>\n",
        " </p>\n",
        "<p><big><big>&#128079;&#127996;</big></big>\n",
        "    <big><big>&#128079;&#127996;</big></big>  <big><big>&#128079;&#127996;</big></big>\n",
        "    <big><big>&#128079;&#127996;</big></big>  <big><big>&#128079;&#127996;</big></big>\n",
        "    <big><big>&#128079;&#127996;</big></big>  <big><big>&#128079;&#127996;</big></big>\n",
        "    <big><big>&#128079;&#127996;</big></big>   <big><big>&#128079;&#127996;</big></big>\n",
        "    <big><big>&#128079;&#127996;</big></big>   <big><big>&#128079;&#127996;</big></big>\n",
        "    <big><big>&#128079;&#127996;</big></big>   <big><big>&#128079;&#127996;</big></big>\n",
        "    <big><big>&#128079;&#127996;</big></big>   <big><big>&#128079;&#127996;</big></big>\n",
        "    <big><big>&#128079;&#127996;</big></big>   <big><big>&#128079;&#127996;</big></big>\n",
        "    <big><big>&#128079;&#127996;</big></big>    <big><big>&#128079;&#127996;</big></big>\n",
        "    <big><big>&#128079;&#127996;</big></big>    <big><big>&#128079;&#127996;</big></big>\n",
        "    <big><big>&#128079;&#127996;</big></big>    <big><big>&#128079;&#127996;</big></big>\n",
        "    <big><big>&#128079;&#127996;</big></big>    <big><big>&#128079;&#127996;</big></big>\n",
        "    <big><big>&#128079;&#127996;</big></big>     <big><big>&#128079;&#127996;</big></big>\n",
        "    <big><big>&#128079;&#127996;</big></big>     <big><big>&#128079;&#127996;</big></big>\n",
        "    <big><big>&#128079;&#127996;</big></big>     <big><big>&#128079;&#127996;</big></big>\n",
        "    </p>\n",
        "\n",
        "\n",
        "</div>"
      ]
    },
    {
      "cell_type": "markdown",
      "metadata": {
        "id": "mCKXW6NOyXSb",
        "colab_type": "text"
      },
      "source": [
        "<div class=\"alert alert-info\">\n",
        "<h3>Conclusion and next step</h3>\n",
        "\n",
        "\n",
        "<p>Congrats once again for completing this notebook. However, this is not all there is to Python. There is a lot that can be done with Python. The key thing is to understand the fundamentals first. Once your foundation(fundamental knowledge) is strong, building on it won't be a problem.</p>\n",
        "<p>Like I said in the introduction part of this notebook, Python has a wide range of application(Web appications, Desktop applications, Games development, Data science and machine learning). So, now that you have the fundamental knowledge, the next step is to decide which area interests you. Just make your research and choose the track that suits you</p>\n",
        "\n",
        "<p>I use Python for data science and machine learning. So, if that is what interests you, you can check my github for other interactive notebook like this that focuses on data science and machine learning. You can also follow me on <a href = https://www.linkedin.com/in/abisola-fikayomi>Linkedin.</a></p>\n",
        "\n",
        "<p>I will also be adding links to additional resources below.</p>\n",
        "</div>"
      ]
    },
    {
      "cell_type": "markdown",
      "metadata": {
        "id": "nC4IbmhhyXSc",
        "colab_type": "text"
      },
      "source": [
        "<div class=\"alert alert-info\">\n",
        "<h3>Recommended resources</h3>\n",
        "<p>For videos on Python fundamentals check out:\n",
        "<ul>\n",
        "<li><a href = https://www.youtube.com/watch?v=_uQrJ0TkZlc&t=7732s>https://www.youtube.com/watch?v=_uQrJ0TkZlc&t=7732s</a></li>\n",
        "<li><a href = https://www.youtube.com/watch?v=rfscVS0vtbw&t=14710s>https://www.youtube.com/watch?v=rfscVS0vtbw&t=14710s</a></li>\n",
        "</ul>\n",
        "    \n",
        "</p>\n",
        "\n",
        "<p>To test you Python knowledge, check out <a href = https://www.hackerrank.com/>HackerRank</a> coding challenge</p>\n",
        "<p>If you get stuck, <a href = https://stackoverflow.com/>Stack Overflow</a> is your friend. You can get answer to almost any programing question or error you encounter. You can also contribute to the platform which acts as a plus for you to land your first Python job</p>\n",
        "\n",
        "<p>Finally, join a community where you can can collaborate with other developers</p>\n",
        "</div>"
      ]
    },
    {
      "cell_type": "markdown",
      "metadata": {
        "id": "6V-Y4y2ayXSc",
        "colab_type": "text"
      },
      "source": [
        "<p>I hope you found this notebook helpful. If you have any questions or you want to collaborate, feel free to connect with me at <a href = https://www.linkedin.com/in/abisola-fikayomi>Abisola Fikayomi.</a> I am also open to constructive critisim<big><big>&#128522;</big></big>. Thank you!!!</p>"
      ]
    },
    {
      "cell_type": "markdown",
      "metadata": {
        "id": "_Wfv-wuByXSd",
        "colab_type": "text"
      },
      "source": [
        "<div align = \"center\">Copyright &copy; 2020 <a href = https://www.linkedin.com/in/abisola-fikayomi>Abisola Fikayomi.</a></div>"
      ]
    }
  ]
}